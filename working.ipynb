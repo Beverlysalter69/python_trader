{
 "cells": [
  {
   "cell_type": "code",
   "execution_count": 1,
   "metadata": {
    "collapsed": true
   },
   "outputs": [],
   "source": [
    "import os\n",
    "import sys\n",
    "import types\n",
    "import pandas as pd\n",
    "import numpy  as np\n",
    "import matplotlib.pyplot as plt\n",
    "import seaborn as sas\n",
    "\n",
    "import read_clean_quote  as rcq"
   ]
  },
  {
   "cell_type": "code",
   "execution_count": 2,
   "metadata": {
    "collapsed": true
   },
   "outputs": [],
   "source": [
    "rolling_list = [3,5,10,15,20,25,30]"
   ]
  },
  {
   "cell_type": "code",
   "execution_count": 4,
   "metadata": {
    "collapsed": false,
    "scrolled": true
   },
   "outputs": [],
   "source": [
    "tempDf = rcq.read_quote_data('IBM')\n",
    "\n",
    "rcq.fill_quote_gaps( tempDf )\n",
    "rcq.fix_splits( tempDf )\n",
    "\n",
    "diffs = rcq.generate_differentials( tempDf               ) # Differentials between c,ac, o, h, l, v\n",
    "tempDf = tempDf.join( diffs, how='inner' )\n",
    "rolls = rcq.generate_rolling_close( tempDf, rolling_list ) # Rolling averages of adj c, listed as C_mean_n and C_std_10\n",
    "moms  = rcq.generate_momentum_close(tempDf, rolling_list ) # Momentum between day and days offset in list, Momentum_n\n",
    "rsis  = rcq.generate_rsi(           tempDf, rolling_list ) # RSIs over n days, RSI_n\n",
    "\n",
    "# Join everything, or can leave as seperate \n",
    "tempDf = tempDf.join( rolls, how='inner' )\n",
    "tempDf = tempDf.join(  moms, how='inner' )\n",
    "tempDf = tempDf.join(  rsis, how='inner' )\n",
    "tempDf = tempDf.drop( ['Open','High','Low','Volume','Close'], axis=1 )"
   ]
  },
  {
   "cell_type": "code",
   "execution_count": 5,
   "metadata": {
    "collapsed": false
   },
   "outputs": [
    {
     "data": {
      "text/html": [
       "<div>\n",
       "<table border=\"1\" class=\"dataframe\">\n",
       "  <thead>\n",
       "    <tr style=\"text-align: right;\">\n",
       "      <th></th>\n",
       "      <th>Adj Close</th>\n",
       "      <th>Diff_co</th>\n",
       "      <th>Diff_hl</th>\n",
       "      <th>Diff_v</th>\n",
       "      <th>Close_mean_3</th>\n",
       "      <th>Close_std_3</th>\n",
       "      <th>Close_mean_5</th>\n",
       "      <th>Close_std_5</th>\n",
       "      <th>Close_mean_10</th>\n",
       "      <th>Close_std_10</th>\n",
       "      <th>...</th>\n",
       "      <th>Momentum_20</th>\n",
       "      <th>Momentum_25</th>\n",
       "      <th>Momentum_30</th>\n",
       "      <th>RSI_3</th>\n",
       "      <th>RSI_5</th>\n",
       "      <th>RSI_10</th>\n",
       "      <th>RSI_15</th>\n",
       "      <th>RSI_20</th>\n",
       "      <th>RSI_25</th>\n",
       "      <th>RSI_30</th>\n",
       "    </tr>\n",
       "    <tr>\n",
       "      <th>Date</th>\n",
       "      <th></th>\n",
       "      <th></th>\n",
       "      <th></th>\n",
       "      <th></th>\n",
       "      <th></th>\n",
       "      <th></th>\n",
       "      <th></th>\n",
       "      <th></th>\n",
       "      <th></th>\n",
       "      <th></th>\n",
       "      <th></th>\n",
       "      <th></th>\n",
       "      <th></th>\n",
       "      <th></th>\n",
       "      <th></th>\n",
       "      <th></th>\n",
       "      <th></th>\n",
       "      <th></th>\n",
       "      <th></th>\n",
       "      <th></th>\n",
       "      <th></th>\n",
       "    </tr>\n",
       "  </thead>\n",
       "  <tbody>\n",
       "    <tr>\n",
       "      <th>2017-03-01</th>\n",
       "      <td>181.949997</td>\n",
       "      <td>0.008145</td>\n",
       "      <td>0.013963</td>\n",
       "      <td>-0.095493</td>\n",
       "      <td>180.389999</td>\n",
       "      <td>1.367222</td>\n",
       "      <td>180.834000</td>\n",
       "      <td>1.146965</td>\n",
       "      <td>180.935997</td>\n",
       "      <td>0.861860</td>\n",
       "      <td>...</td>\n",
       "      <td>0.050817</td>\n",
       "      <td>0.042573</td>\n",
       "      <td>0.092314</td>\n",
       "      <td>50.206088</td>\n",
       "      <td>50.071219</td>\n",
       "      <td>50.070191</td>\n",
       "      <td>50.030241</td>\n",
       "      <td>49.972440</td>\n",
       "      <td>50.100510</td>\n",
       "      <td>50.218339</td>\n",
       "    </tr>\n",
       "    <tr>\n",
       "      <th>2017-02-28</th>\n",
       "      <td>179.820007</td>\n",
       "      <td>0.002453</td>\n",
       "      <td>0.007136</td>\n",
       "      <td>-0.108796</td>\n",
       "      <td>180.190002</td>\n",
       "      <td>1.026308</td>\n",
       "      <td>180.673999</td>\n",
       "      <td>0.998563</td>\n",
       "      <td>180.753998</td>\n",
       "      <td>0.814822</td>\n",
       "      <td>...</td>\n",
       "      <td>0.030955</td>\n",
       "      <td>0.059708</td>\n",
       "      <td>0.083075</td>\n",
       "      <td>50.164592</td>\n",
       "      <td>50.034368</td>\n",
       "      <td>50.019917</td>\n",
       "      <td>49.976369</td>\n",
       "      <td>50.017672</td>\n",
       "      <td>50.044073</td>\n",
       "      <td>50.108271</td>\n",
       "    </tr>\n",
       "    <tr>\n",
       "      <th>2017-02-27</th>\n",
       "      <td>179.399994</td>\n",
       "      <td>-0.009879</td>\n",
       "      <td>0.010873</td>\n",
       "      <td>0.123692</td>\n",
       "      <td>180.799998</td>\n",
       "      <td>1.221682</td>\n",
       "      <td>180.761997</td>\n",
       "      <td>0.920855</td>\n",
       "      <td>180.707997</td>\n",
       "      <td>0.883499</td>\n",
       "      <td>...</td>\n",
       "      <td>0.019845</td>\n",
       "      <td>0.060208</td>\n",
       "      <td>0.076621</td>\n",
       "      <td>50.113991</td>\n",
       "      <td>50.112437</td>\n",
       "      <td>50.007195</td>\n",
       "      <td>49.915102</td>\n",
       "      <td>50.045903</td>\n",
       "      <td>49.961848</td>\n",
       "      <td>50.182521</td>\n",
       "    </tr>\n",
       "    <tr>\n",
       "      <th>2017-02-24</th>\n",
       "      <td>181.350006</td>\n",
       "      <td>0.006326</td>\n",
       "      <td>0.008879</td>\n",
       "      <td>0.452033</td>\n",
       "      <td>181.383331</td>\n",
       "      <td>0.251660</td>\n",
       "      <td>181.015997</td>\n",
       "      <td>0.552884</td>\n",
       "      <td>180.635997</td>\n",
       "      <td>1.020633</td>\n",
       "      <td>...</td>\n",
       "      <td>0.023082</td>\n",
       "      <td>0.095761</td>\n",
       "      <td>0.089621</td>\n",
       "      <td>49.944889</td>\n",
       "      <td>50.053852</td>\n",
       "      <td>49.915490</td>\n",
       "      <td>49.851535</td>\n",
       "      <td>50.078652</td>\n",
       "      <td>49.916914</td>\n",
       "      <td>50.157921</td>\n",
       "    </tr>\n",
       "    <tr>\n",
       "      <th>2017-02-23</th>\n",
       "      <td>181.649994</td>\n",
       "      <td>-0.001923</td>\n",
       "      <td>0.008681</td>\n",
       "      <td>-0.253194</td>\n",
       "      <td>181.019994</td>\n",
       "      <td>0.704059</td>\n",
       "      <td>181.031995</td>\n",
       "      <td>0.565967</td>\n",
       "      <td>180.221997</td>\n",
       "      <td>1.448711</td>\n",
       "      <td>...</td>\n",
       "      <td>0.026902</td>\n",
       "      <td>0.097640</td>\n",
       "      <td>0.106128</td>\n",
       "      <td>50.026926</td>\n",
       "      <td>50.020364</td>\n",
       "      <td>49.819682</td>\n",
       "      <td>49.756789</td>\n",
       "      <td>50.044392</td>\n",
       "      <td>50.037754</td>\n",
       "      <td>50.050590</td>\n",
       "    </tr>\n",
       "  </tbody>\n",
       "</table>\n",
       "<p>5 rows × 32 columns</p>\n",
       "</div>"
      ],
      "text/plain": [
       "             Adj Close   Diff_co   Diff_hl    Diff_v  Close_mean_3  \\\n",
       "Date                                                                 \n",
       "2017-03-01  181.949997  0.008145  0.013963 -0.095493    180.389999   \n",
       "2017-02-28  179.820007  0.002453  0.007136 -0.108796    180.190002   \n",
       "2017-02-27  179.399994 -0.009879  0.010873  0.123692    180.799998   \n",
       "2017-02-24  181.350006  0.006326  0.008879  0.452033    181.383331   \n",
       "2017-02-23  181.649994 -0.001923  0.008681 -0.253194    181.019994   \n",
       "\n",
       "            Close_std_3  Close_mean_5  Close_std_5  Close_mean_10  \\\n",
       "Date                                                                \n",
       "2017-03-01     1.367222    180.834000     1.146965     180.935997   \n",
       "2017-02-28     1.026308    180.673999     0.998563     180.753998   \n",
       "2017-02-27     1.221682    180.761997     0.920855     180.707997   \n",
       "2017-02-24     0.251660    181.015997     0.552884     180.635997   \n",
       "2017-02-23     0.704059    181.031995     0.565967     180.221997   \n",
       "\n",
       "            Close_std_10    ...      Momentum_20  Momentum_25  Momentum_30  \\\n",
       "Date                        ...                                              \n",
       "2017-03-01      0.861860    ...         0.050817     0.042573     0.092314   \n",
       "2017-02-28      0.814822    ...         0.030955     0.059708     0.083075   \n",
       "2017-02-27      0.883499    ...         0.019845     0.060208     0.076621   \n",
       "2017-02-24      1.020633    ...         0.023082     0.095761     0.089621   \n",
       "2017-02-23      1.448711    ...         0.026902     0.097640     0.106128   \n",
       "\n",
       "                RSI_3      RSI_5     RSI_10     RSI_15     RSI_20     RSI_25  \\\n",
       "Date                                                                           \n",
       "2017-03-01  50.206088  50.071219  50.070191  50.030241  49.972440  50.100510   \n",
       "2017-02-28  50.164592  50.034368  50.019917  49.976369  50.017672  50.044073   \n",
       "2017-02-27  50.113991  50.112437  50.007195  49.915102  50.045903  49.961848   \n",
       "2017-02-24  49.944889  50.053852  49.915490  49.851535  50.078652  49.916914   \n",
       "2017-02-23  50.026926  50.020364  49.819682  49.756789  50.044392  50.037754   \n",
       "\n",
       "               RSI_30  \n",
       "Date                   \n",
       "2017-03-01  50.218339  \n",
       "2017-02-28  50.108271  \n",
       "2017-02-27  50.182521  \n",
       "2017-02-24  50.157921  \n",
       "2017-02-23  50.050590  \n",
       "\n",
       "[5 rows x 32 columns]"
      ]
     },
     "execution_count": 5,
     "metadata": {},
     "output_type": "execute_result"
    }
   ],
   "source": [
    "tempDf.head()"
   ]
  },
  {
   "cell_type": "code",
   "execution_count": 74,
   "metadata": {
    "collapsed": true
   },
   "outputs": [],
   "source": [
    "# Data should be cleaned, need to plot some trends and check for correlation\n",
    "# [ 'Diff_co', 'Diff_ao', 'Diff_hl', 'Diff_v'] ]\n",
    "# [ 'Close_mean_n', 'Close_std_n' ]\n",
    "# [ 'Momentum_n' ]\n",
    "#\n",
    "# Diff co, v, have different info, co same as hl basically\n",
    "# Momentum 3 correlated with co, 5 a little less, 10 at limit\n",
    "# HUGE autocorrelation with momentum, long momentum really tracks trends, until at/past scale of momentum"
   ]
  },
  {
   "cell_type": "code",
   "execution_count": 64,
   "metadata": {
    "collapsed": true
   },
   "outputs": [],
   "source": [
    "test_1 = 'Momentum_5'\n",
    "test_2 = 'Momentum_10'"
   ]
  },
  {
   "cell_type": "code",
   "execution_count": 65,
   "metadata": {
    "collapsed": false
   },
   "outputs": [],
   "source": [
    "tempDf[0:1000].plot.scatter( x=test_1, y=test_2, color='k' )\n",
    "plt.show()"
   ]
  },
  {
   "cell_type": "code",
   "execution_count": 62,
   "metadata": {
    "collapsed": true
   },
   "outputs": [],
   "source": [
    "corrlist = ['Diff_co','Momentum_3','Momentum_5','Momentum_10','Momentum_15','Momentum_20','Momentum_25','Momentum_30']"
   ]
  },
  {
   "cell_type": "code",
   "execution_count": 73,
   "metadata": {
    "collapsed": false
   },
   "outputs": [
    {
     "name": "stdout",
     "output_type": "stream",
     "text": [
      "0.0229732268304\n",
      "-0.02241122096\n",
      "-0.0200966782939\n",
      "0.0314853719823\n",
      "0.0489461803723\n",
      "0.0562224030535\n",
      "0.0549889204033\n",
      "0.0457616299563\n"
     ]
    }
   ],
   "source": [
    "for col in corrlist:\n",
    "    print tempDf[col].autocorr(30)"
   ]
  },
  {
   "cell_type": "code",
   "execution_count": 5,
   "metadata": {
    "collapsed": true
   },
   "outputs": [],
   "source": [
    "from sklearn.decomposition import PCA"
   ]
  },
  {
   "cell_type": "code",
   "execution_count": 38,
   "metadata": {
    "collapsed": false
   },
   "outputs": [],
   "source": [
    "foo = moms.copy()\n",
    "#foo = foo.join( rolls[test_lab] )"
   ]
  },
  {
   "cell_type": "code",
   "execution_count": 39,
   "metadata": {
    "collapsed": false
   },
   "outputs": [
    {
     "name": "stdout",
     "output_type": "stream",
     "text": [
      "[ 0.77970679  0.1020569   0.04504036  0.02603589  0.02113785]\n"
     ]
    }
   ],
   "source": [
    "myPCA = PCA( n_components = 5 )\n",
    "myPCA.fit( foo )\n",
    "print myPCA.explained_variance_ratio_"
   ]
  },
  {
   "cell_type": "code",
   "execution_count": 12,
   "metadata": {
    "collapsed": false
   },
   "outputs": [
    {
     "name": "stdout",
     "output_type": "stream",
     "text": [
      "[  8.17106106e-01   1.82661440e-01   1.35190310e-04   9.72636776e-05]\n"
     ]
    }
   ],
   "source": [
    "myPCA = PCA( n_components = 4 )\n",
    "myPCA.fit( foo )\n",
    "print myPCA.explained_variance_ratio_"
   ]
  },
  {
   "cell_type": "code",
   "execution_count": null,
   "metadata": {
    "collapsed": true
   },
   "outputs": [],
   "source": []
  }
 ],
 "metadata": {
  "kernelspec": {
   "display_name": "Python 2",
   "language": "python",
   "name": "python2"
  },
  "language_info": {
   "codemirror_mode": {
    "name": "ipython",
    "version": 2
   },
   "file_extension": ".py",
   "mimetype": "text/x-python",
   "name": "python",
   "nbconvert_exporter": "python",
   "pygments_lexer": "ipython2",
   "version": "2.7.13"
  }
 },
 "nbformat": 4,
 "nbformat_minor": 2
}

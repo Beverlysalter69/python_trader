{
 "cells": [
  {
   "cell_type": "code",
   "execution_count": 1,
   "metadata": {
    "collapsed": true
   },
   "outputs": [],
   "source": [
    "import os\n",
    "import sys\n",
    "import types\n",
    "import pandas as pd\n",
    "import numpy  as np\n",
    "import matplotlib.pyplot as plt\n",
    "import seaborn as sas\n",
    "\n",
    "import read_clean_quote as rcq\n",
    "import calculate_trends as ct"
   ]
  },
  {
   "cell_type": "code",
   "execution_count": 2,
   "metadata": {
    "collapsed": true
   },
   "outputs": [],
   "source": [
    "small_list = [3,5,10]\n",
    "long_list  = [5,10,20,30]"
   ]
  },
  {
   "cell_type": "code",
   "execution_count": 3,
   "metadata": {
    "collapsed": false,
    "scrolled": true
   },
   "outputs": [],
   "source": [
    "tempDf = rcq.read_quote_data('IBM')\n",
    "\n",
    "rcq.fill_quote_gaps( tempDf )\n",
    "rcq.fix_splits( tempDf )"
   ]
  },
  {
   "cell_type": "code",
   "execution_count": 5,
   "metadata": {
    "collapsed": false
   },
   "outputs": [],
   "source": [
    "diffs = ct.generate_differentials(   tempDf                    ) # Differentials between c,ac, o, h, l, v\n",
    "rolls = ct.generate_rolling_close(   tempDf,        small_list ) # Rolling averages of adj c, listed as C_mean_n and C_std_10\n",
    "moms  = ct.generate_momentum_close(  tempDf,         long_list ) # Momentum between day and days offset in list, Momentum_n\n",
    "rsis  = ct.generate_rsi(             tempDf, diffs,  long_list ) # Relative Strength Indexes over n days, RSI_n\n",
    "bolls = ct.generate_bollinger_bands( tempDf, rolls, small_list ) # percentB of Bollinger bands, 1 is at upper, 0 at lower"
   ]
  },
  {
   "cell_type": "code",
   "execution_count": 6,
   "metadata": {
    "collapsed": true
   },
   "outputs": [],
   "source": [
    "# Join everything, or can leave as seperate \n",
    "tempDf = tempDf.join( diffs, how='inner' )\n",
    "tempDf = tempDf.join( rolls, how='inner' )\n",
    "tempDf = tempDf.join(  moms, how='inner' )\n",
    "tempDf = tempDf.join(  rsis, how='inner' )\n",
    "tempDf = tempDf.drop( ['Open','High','Low','Volume','Close'], axis=1 )"
   ]
  },
  {
   "cell_type": "code",
   "execution_count": 6,
   "metadata": {
    "collapsed": false,
    "scrolled": true
   },
   "outputs": [
    {
     "data": {
      "text/html": [
       "<div>\n",
       "<table border=\"1\" class=\"dataframe\">\n",
       "  <thead>\n",
       "    <tr style=\"text-align: right;\">\n",
       "      <th></th>\n",
       "      <th>Open</th>\n",
       "      <th>High</th>\n",
       "      <th>Low</th>\n",
       "      <th>Close</th>\n",
       "      <th>Volume</th>\n",
       "      <th>Adj Close</th>\n",
       "    </tr>\n",
       "    <tr>\n",
       "      <th>Date</th>\n",
       "      <th></th>\n",
       "      <th></th>\n",
       "      <th></th>\n",
       "      <th></th>\n",
       "      <th></th>\n",
       "      <th></th>\n",
       "    </tr>\n",
       "  </thead>\n",
       "  <tbody>\n",
       "    <tr>\n",
       "      <th>2017-03-01</th>\n",
       "      <td>180.479996</td>\n",
       "      <td>182.550003</td>\n",
       "      <td>180.029999</td>\n",
       "      <td>181.949997</td>\n",
       "      <td>2960000</td>\n",
       "      <td>181.949997</td>\n",
       "    </tr>\n",
       "    <tr>\n",
       "      <th>2017-02-28</th>\n",
       "      <td>179.380005</td>\n",
       "      <td>180.630005</td>\n",
       "      <td>179.350006</td>\n",
       "      <td>179.820007</td>\n",
       "      <td>3272500</td>\n",
       "      <td>179.820007</td>\n",
       "    </tr>\n",
       "    <tr>\n",
       "      <th>2017-02-27</th>\n",
       "      <td>181.190002</td>\n",
       "      <td>181.250000</td>\n",
       "      <td>179.279999</td>\n",
       "      <td>179.399994</td>\n",
       "      <td>3672000</td>\n",
       "      <td>179.399994</td>\n",
       "    </tr>\n",
       "    <tr>\n",
       "      <th>2017-02-24</th>\n",
       "      <td>180.210007</td>\n",
       "      <td>181.490005</td>\n",
       "      <td>179.889999</td>\n",
       "      <td>181.350006</td>\n",
       "      <td>3267800</td>\n",
       "      <td>181.350006</td>\n",
       "    </tr>\n",
       "    <tr>\n",
       "      <th>2017-02-23</th>\n",
       "      <td>182.000000</td>\n",
       "      <td>182.500000</td>\n",
       "      <td>180.919998</td>\n",
       "      <td>181.649994</td>\n",
       "      <td>2250500</td>\n",
       "      <td>181.649994</td>\n",
       "    </tr>\n",
       "  </tbody>\n",
       "</table>\n",
       "</div>"
      ],
      "text/plain": [
       "                  Open        High         Low       Close   Volume  \\\n",
       "Date                                                                  \n",
       "2017-03-01  180.479996  182.550003  180.029999  181.949997  2960000   \n",
       "2017-02-28  179.380005  180.630005  179.350006  179.820007  3272500   \n",
       "2017-02-27  181.190002  181.250000  179.279999  179.399994  3672000   \n",
       "2017-02-24  180.210007  181.490005  179.889999  181.350006  3267800   \n",
       "2017-02-23  182.000000  182.500000  180.919998  181.649994  2250500   \n",
       "\n",
       "             Adj Close  \n",
       "Date                    \n",
       "2017-03-01  181.949997  \n",
       "2017-02-28  179.820007  \n",
       "2017-02-27  179.399994  \n",
       "2017-02-24  181.350006  \n",
       "2017-02-23  181.649994  "
      ]
     },
     "execution_count": 6,
     "metadata": {},
     "output_type": "execute_result"
    }
   ],
   "source": [
    "tempDf.head()"
   ]
  },
  {
   "cell_type": "code",
   "execution_count": 8,
   "metadata": {
    "collapsed": true
   },
   "outputs": [],
   "source": [
    "# Data should be cleaned, need to plot some trends and check for correlation\n",
    "# [ 'Diff_co', 'Diff_ao', 'Diff_hl', 'Diff_v'] ]\n",
    "# [ 'Close_mean_n', 'Close_std_n' ]\n",
    "# [ 'Momentum_n' ]\n",
    "#\n",
    "# Diff co, v, have different info, co same as hl basically\n",
    "# Momentum 3 correlated with co, 5 a little less, 10 at limit\n",
    "# HUGE autocorrelation with momentum, long momentum really tracks trends, until at/past scale of momentum"
   ]
  },
  {
   "cell_type": "code",
   "execution_count": null,
   "metadata": {
    "collapsed": true
   },
   "outputs": [],
   "source": []
  }
 ],
 "metadata": {
  "kernelspec": {
   "display_name": "Python 2",
   "language": "python",
   "name": "python2"
  },
  "language_info": {
   "codemirror_mode": {
    "name": "ipython",
    "version": 2
   },
   "file_extension": ".py",
   "mimetype": "text/x-python",
   "name": "python",
   "nbconvert_exporter": "python",
   "pygments_lexer": "ipython2",
   "version": "2.7.13"
  }
 },
 "nbformat": 4,
 "nbformat_minor": 2
}

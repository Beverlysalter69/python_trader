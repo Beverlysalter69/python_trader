{
 "cells": [
  {
   "cell_type": "code",
   "execution_count": 1,
   "metadata": {
    "collapsed": true
   },
   "outputs": [],
   "source": [
    "import os\n",
    "import sys\n",
    "import types\n",
    "import pandas as pd\n",
    "import numpy  as np\n",
    "import matplotlib.pyplot as plt\n",
    "import seaborn as sas\n",
    "\n",
    "import read_clean_quote as rcq\n",
    "import calculate_trends as ct"
   ]
  },
  {
   "cell_type": "code",
   "execution_count": 2,
   "metadata": {
    "collapsed": true
   },
   "outputs": [],
   "source": [
    "roll_list = [20]\n",
    "mom_list  = [20]\n",
    "rsi_list  = [15,30]"
   ]
  },
  {
   "cell_type": "code",
   "execution_count": 3,
   "metadata": {
    "collapsed": false,
    "scrolled": true
   },
   "outputs": [],
   "source": [
    "tempDf = rcq.read_quote_data('IBM')\n",
    "\n",
    "rcq.fill_quote_gaps( tempDf )\n",
    "rcq.fix_splits( tempDf )"
   ]
  },
  {
   "cell_type": "code",
   "execution_count": 8,
   "metadata": {
    "collapsed": false
   },
   "outputs": [],
   "source": [
    "diffs = ct.generate_differentials(   tempDf                   ) # Differentials between c,ac, o, h, l, v\n",
    "rolls = ct.generate_rolling_close(   tempDf,        roll_list ) # Rolling averages of adj c, listed as C_mean_n and C_std_10\n",
    "moms  = ct.generate_momentum_close(  tempDf,         mom_list ) # Momentum between day and days offset in list, Momentum_n\n",
    "rsis  = ct.generate_rsi(             tempDf,         rsi_list ) # Relative Strength Indexes over n days, RSI_n\n",
    "bolls = ct.generate_bollinger_bands( tempDf, rolls, roll_list ) # percentB of Bollinger bands, 1 is at upper, 0 at lower"
   ]
  },
  {
   "cell_type": "code",
   "execution_count": 6,
   "metadata": {
    "collapsed": true
   },
   "outputs": [],
   "source": [
    "# Diff_co goes to +/- .05\n",
    "# Diff_v goes to -1 +2\n",
    "# Momentum_5 +/- .15\n",
    "# Momentum_15 -.25 +.25\n",
    "# Momentum_30 -.3 +.25\n",
    "# RSI naturally normalized to 0-100"
   ]
  },
  {
   "cell_type": "code",
   "execution_count": 15,
   "metadata": {
    "collapsed": false,
    "scrolled": true
   },
   "outputs": [
    {
     "data": {
      "text/plain": [
       "<module 'calculate_trends' from 'calculate_trends.py'>"
      ]
     },
     "execution_count": 15,
     "metadata": {},
     "output_type": "execute_result"
    }
   ],
   "source": [
    "reload( ct )"
   ]
  },
  {
   "cell_type": "code",
   "execution_count": 16,
   "metadata": {
    "collapsed": false
   },
   "outputs": [
    {
     "name": "stdout",
     "output_type": "stream",
     "text": [
      "               RSI_15     RSI_30\n",
      "Date                            \n",
      "2017-03-01  51.386561  56.364837\n",
      "2017-02-28  52.598069  54.784501\n",
      "2017-02-27  51.623306  56.544208\n",
      "2017-02-24  57.340423  57.628294\n",
      "2017-02-23  52.038962  56.982568\n",
      "              RSI_15     RSI_30\n",
      "Date                           \n",
      "2017-03-01  0.513866  56.364837\n",
      "2017-02-28  0.525981  54.784501\n",
      "2017-02-27  0.516233  56.544208\n",
      "2017-02-24  0.573404  57.628294\n",
      "2017-02-23  0.520390  56.982568\n",
      " \n",
      "              RSI_15     RSI_30\n",
      "Date                           \n",
      "2017-03-01  0.513866  56.364837\n",
      "2017-02-28  0.525981  54.784501\n",
      "2017-02-27  0.516233  56.544208\n",
      "2017-02-24  0.573404  57.628294\n",
      "2017-02-23  0.520390  56.982568\n",
      "              RSI_15    RSI_30\n",
      "Date                          \n",
      "2017-03-01  0.513866  0.563648\n",
      "2017-02-28  0.525981  0.547845\n",
      "2017-02-27  0.516233  0.565442\n",
      "2017-02-24  0.573404  0.576283\n",
      "2017-02-23  0.520390  0.569826\n",
      " \n"
     ]
    }
   ],
   "source": [
    "#norm_diffs = diffs.copy()\n",
    "#norm_moms  =  moms.copy()\n",
    "norm_rsis  =  rsis.copy()\n",
    "\n",
    "#norm_diffs['Diff_co'] = ct.normalize_column( norm_diffs, 'Diff_co', minVal=-0.05, maxVal=0.05 )\n",
    "#norm_diffs['Diff_v' ] = ct.normalize_column( norm_diffs, 'Diff_v' , minVal=-1.00, maxVal=2.00 )\n",
    "\n",
    "#norm_moms['Momentum_20'] = ct.normalize_column( norm_moms, 'Momentum_20', minVal=-0.15, maxVal=0.15 )\n",
    "\n",
    "norm_rsis['RSI_15'] = ct.normalize_column( norm_rsis, 'RSI_15', minVal=0, maxVal=100 )\n",
    "norm_rsis['RSI_30'] = ct.normalize_column( norm_rsis, 'RSI_30', minVal=0, maxVal=100 )"
   ]
  },
  {
   "cell_type": "code",
   "execution_count": 17,
   "metadata": {
    "collapsed": false,
    "scrolled": true
   },
   "outputs": [
    {
     "data": {
      "text/html": [
       "<div>\n",
       "<table border=\"1\" class=\"dataframe\">\n",
       "  <thead>\n",
       "    <tr style=\"text-align: right;\">\n",
       "      <th></th>\n",
       "      <th>RSI_15</th>\n",
       "      <th>RSI_30</th>\n",
       "    </tr>\n",
       "    <tr>\n",
       "      <th>Date</th>\n",
       "      <th></th>\n",
       "      <th></th>\n",
       "    </tr>\n",
       "  </thead>\n",
       "  <tbody>\n",
       "    <tr>\n",
       "      <th>2017-03-01</th>\n",
       "      <td>0.513866</td>\n",
       "      <td>0.563648</td>\n",
       "    </tr>\n",
       "    <tr>\n",
       "      <th>2017-02-28</th>\n",
       "      <td>0.525981</td>\n",
       "      <td>0.547845</td>\n",
       "    </tr>\n",
       "    <tr>\n",
       "      <th>2017-02-27</th>\n",
       "      <td>0.516233</td>\n",
       "      <td>0.565442</td>\n",
       "    </tr>\n",
       "    <tr>\n",
       "      <th>2017-02-24</th>\n",
       "      <td>0.573404</td>\n",
       "      <td>0.576283</td>\n",
       "    </tr>\n",
       "    <tr>\n",
       "      <th>2017-02-23</th>\n",
       "      <td>0.520390</td>\n",
       "      <td>0.569826</td>\n",
       "    </tr>\n",
       "  </tbody>\n",
       "</table>\n",
       "</div>"
      ],
      "text/plain": [
       "              RSI_15    RSI_30\n",
       "Date                          \n",
       "2017-03-01  0.513866  0.563648\n",
       "2017-02-28  0.525981  0.547845\n",
       "2017-02-27  0.516233  0.565442\n",
       "2017-02-24  0.573404  0.576283\n",
       "2017-02-23  0.520390  0.569826"
      ]
     },
     "execution_count": 17,
     "metadata": {},
     "output_type": "execute_result"
    }
   ],
   "source": [
    "norm_rsis.head()"
   ]
  },
  {
   "cell_type": "code",
   "execution_count": 7,
   "metadata": {
    "collapsed": true
   },
   "outputs": [],
   "source": [
    "# Join everything, or can leave as seperate \n",
    "tempDf = tempDf.join( norm_diffs , how='inner' )\n",
    "tempDf = tempDf.join( rolls      , how='inner' )\n",
    "tempDf = tempDf.join( norm_moms  , how='inner' )\n",
    "tempDf = tempDf.join( norm_rsis  , how='inner' )\n",
    "tempDf = tempDf.join( bolls      , how='inner' )\n",
    "tempDf = tempDf.drop( ['Open','High','Low','Volume','Close'], axis=1 )"
   ]
  },
  {
   "cell_type": "code",
   "execution_count": 8,
   "metadata": {
    "collapsed": false,
    "scrolled": true
   },
   "outputs": [
    {
     "data": {
      "text/html": [
       "<div>\n",
       "<table border=\"1\" class=\"dataframe\">\n",
       "  <thead>\n",
       "    <tr style=\"text-align: right;\">\n",
       "      <th></th>\n",
       "      <th>Adj Close</th>\n",
       "      <th>Diff_co</th>\n",
       "      <th>Diff_v</th>\n",
       "      <th>Close_mean_20</th>\n",
       "      <th>Close_std_20</th>\n",
       "      <th>Momentum_20</th>\n",
       "      <th>RSI_15</th>\n",
       "      <th>RSI_30</th>\n",
       "      <th>Bollinger_20</th>\n",
       "    </tr>\n",
       "    <tr>\n",
       "      <th>Date</th>\n",
       "      <th></th>\n",
       "      <th></th>\n",
       "      <th></th>\n",
       "      <th></th>\n",
       "      <th></th>\n",
       "      <th></th>\n",
       "      <th></th>\n",
       "      <th></th>\n",
       "      <th></th>\n",
       "    </tr>\n",
       "  </thead>\n",
       "  <tbody>\n",
       "    <tr>\n",
       "      <th>2017-03-01</th>\n",
       "      <td>181.949997</td>\n",
       "      <td>0.581450</td>\n",
       "      <td>0.581450</td>\n",
       "      <td>178.651213</td>\n",
       "      <td>2.990200</td>\n",
       "      <td>0.669391</td>\n",
       "      <td>0.513866</td>\n",
       "      <td>0.513866</td>\n",
       "      <td>0.775800</td>\n",
       "    </tr>\n",
       "    <tr>\n",
       "      <th>2017-02-28</th>\n",
       "      <td>179.820007</td>\n",
       "      <td>0.524529</td>\n",
       "      <td>0.524529</td>\n",
       "      <td>178.211260</td>\n",
       "      <td>3.123634</td>\n",
       "      <td>0.603182</td>\n",
       "      <td>0.525981</td>\n",
       "      <td>0.525981</td>\n",
       "      <td>0.628756</td>\n",
       "    </tr>\n",
       "    <tr>\n",
       "      <th>2017-02-27</th>\n",
       "      <td>179.399994</td>\n",
       "      <td>0.401208</td>\n",
       "      <td>0.401208</td>\n",
       "      <td>177.941303</td>\n",
       "      <td>3.209412</td>\n",
       "      <td>0.566149</td>\n",
       "      <td>0.516233</td>\n",
       "      <td>0.516233</td>\n",
       "      <td>0.613626</td>\n",
       "    </tr>\n",
       "    <tr>\n",
       "      <th>2017-02-24</th>\n",
       "      <td>181.350006</td>\n",
       "      <td>0.563259</td>\n",
       "      <td>0.563259</td>\n",
       "      <td>177.766759</td>\n",
       "      <td>3.220811</td>\n",
       "      <td>0.576942</td>\n",
       "      <td>0.573404</td>\n",
       "      <td>0.573404</td>\n",
       "      <td>0.778132</td>\n",
       "    </tr>\n",
       "    <tr>\n",
       "      <th>2017-02-23</th>\n",
       "      <td>181.649994</td>\n",
       "      <td>0.480769</td>\n",
       "      <td>0.480769</td>\n",
       "      <td>177.562180</td>\n",
       "      <td>3.109244</td>\n",
       "      <td>0.589672</td>\n",
       "      <td>0.520390</td>\n",
       "      <td>0.520390</td>\n",
       "      <td>0.828682</td>\n",
       "    </tr>\n",
       "  </tbody>\n",
       "</table>\n",
       "</div>"
      ],
      "text/plain": [
       "             Adj Close   Diff_co    Diff_v  Close_mean_20  Close_std_20  \\\n",
       "Date                                                                      \n",
       "2017-03-01  181.949997  0.581450  0.581450     178.651213      2.990200   \n",
       "2017-02-28  179.820007  0.524529  0.524529     178.211260      3.123634   \n",
       "2017-02-27  179.399994  0.401208  0.401208     177.941303      3.209412   \n",
       "2017-02-24  181.350006  0.563259  0.563259     177.766759      3.220811   \n",
       "2017-02-23  181.649994  0.480769  0.480769     177.562180      3.109244   \n",
       "\n",
       "            Momentum_20    RSI_15    RSI_30  Bollinger_20  \n",
       "Date                                                       \n",
       "2017-03-01     0.669391  0.513866  0.513866      0.775800  \n",
       "2017-02-28     0.603182  0.525981  0.525981      0.628756  \n",
       "2017-02-27     0.566149  0.516233  0.516233      0.613626  \n",
       "2017-02-24     0.576942  0.573404  0.573404      0.778132  \n",
       "2017-02-23     0.589672  0.520390  0.520390      0.828682  "
      ]
     },
     "execution_count": 8,
     "metadata": {},
     "output_type": "execute_result"
    }
   ],
   "source": [
    "tempDf.head()"
   ]
  },
  {
   "cell_type": "code",
   "execution_count": 16,
   "metadata": {
    "collapsed": false
   },
   "outputs": [
    {
     "data": {
      "text/html": [
       "<div>\n",
       "<table border=\"1\" class=\"dataframe\">\n",
       "  <thead>\n",
       "    <tr style=\"text-align: right;\">\n",
       "      <th></th>\n",
       "      <th>Adj Close</th>\n",
       "      <th>Diff_co</th>\n",
       "      <th>Diff_v</th>\n",
       "      <th>Close_mean_20</th>\n",
       "      <th>Close_std_20</th>\n",
       "      <th>Momentum_20</th>\n",
       "      <th>RSI_15</th>\n",
       "      <th>RSI_30</th>\n",
       "      <th>Bollinger_20</th>\n",
       "    </tr>\n",
       "    <tr>\n",
       "      <th>Date</th>\n",
       "      <th></th>\n",
       "      <th></th>\n",
       "      <th></th>\n",
       "      <th></th>\n",
       "      <th></th>\n",
       "      <th></th>\n",
       "      <th></th>\n",
       "      <th></th>\n",
       "      <th></th>\n",
       "    </tr>\n",
       "  </thead>\n",
       "  <tbody>\n",
       "    <tr>\n",
       "      <th>2004-02-17</th>\n",
       "      <td>77.166450</td>\n",
       "      <td>0.437994</td>\n",
       "      <td>0.437994</td>\n",
       "      <td>76.711591</td>\n",
       "      <td>0.771346</td>\n",
       "      <td>0.647261</td>\n",
       "      <td>0.310345</td>\n",
       "      <td>0.310345</td>\n",
       "      <td>0.647424</td>\n",
       "    </tr>\n",
       "    <tr>\n",
       "      <th>2004-02-13</th>\n",
       "      <td>77.430477</td>\n",
       "      <td>0.561554</td>\n",
       "      <td>0.561554</td>\n",
       "      <td>76.548348</td>\n",
       "      <td>0.985707</td>\n",
       "      <td>0.707461</td>\n",
       "      <td>0.338279</td>\n",
       "      <td>0.338279</td>\n",
       "      <td>0.723730</td>\n",
       "    </tr>\n",
       "    <tr>\n",
       "      <th>2004-02-12</th>\n",
       "      <td>77.112092</td>\n",
       "      <td>0.424046</td>\n",
       "      <td>0.424046</td>\n",
       "      <td>76.321509</td>\n",
       "      <td>1.256770</td>\n",
       "      <td>0.837762</td>\n",
       "      <td>0.337564</td>\n",
       "      <td>0.337564</td>\n",
       "      <td>0.657265</td>\n",
       "    </tr>\n",
       "    <tr>\n",
       "      <th>2004-02-11</th>\n",
       "      <td>77.624616</td>\n",
       "      <td>0.576613</td>\n",
       "      <td>0.576613</td>\n",
       "      <td>75.966771</td>\n",
       "      <td>1.872385</td>\n",
       "      <td>0.887293</td>\n",
       "      <td>0.362897</td>\n",
       "      <td>0.362897</td>\n",
       "      <td>0.721355</td>\n",
       "    </tr>\n",
       "    <tr>\n",
       "      <th>2004-02-10</th>\n",
       "      <td>77.352822</td>\n",
       "      <td>0.617827</td>\n",
       "      <td>0.617827</td>\n",
       "      <td>75.562761</td>\n",
       "      <td>2.315219</td>\n",
       "      <td>0.799344</td>\n",
       "      <td>0.372013</td>\n",
       "      <td>0.372013</td>\n",
       "      <td>0.693293</td>\n",
       "    </tr>\n",
       "    <tr>\n",
       "      <th>2004-02-09</th>\n",
       "      <td>76.840292</td>\n",
       "      <td>0.463750</td>\n",
       "      <td>0.463750</td>\n",
       "      <td>75.244055</td>\n",
       "      <td>2.488101</td>\n",
       "      <td>0.788726</td>\n",
       "      <td>0.409842</td>\n",
       "      <td>0.409842</td>\n",
       "      <td>0.660387</td>\n",
       "    </tr>\n",
       "    <tr>\n",
       "      <th>2004-02-06</th>\n",
       "      <td>76.832531</td>\n",
       "      <td>0.509105</td>\n",
       "      <td>0.509105</td>\n",
       "      <td>74.937796</td>\n",
       "      <td>2.652802</td>\n",
       "      <td>0.717125</td>\n",
       "      <td>0.448133</td>\n",
       "      <td>0.448133</td>\n",
       "      <td>0.678560</td>\n",
       "    </tr>\n",
       "    <tr>\n",
       "      <th>2004-02-05</th>\n",
       "      <td>76.646155</td>\n",
       "      <td>0.386000</td>\n",
       "      <td>0.386000</td>\n",
       "      <td>74.702865</td>\n",
       "      <td>2.684043</td>\n",
       "      <td>0.718438</td>\n",
       "      <td>0.533333</td>\n",
       "      <td>0.533333</td>\n",
       "      <td>0.681004</td>\n",
       "    </tr>\n",
       "    <tr>\n",
       "      <th>2004-02-04</th>\n",
       "      <td>77.677306</td>\n",
       "      <td>0.581506</td>\n",
       "      <td>0.581506</td>\n",
       "      <td>74.467174</td>\n",
       "      <td>2.711245</td>\n",
       "      <td>0.755391</td>\n",
       "      <td>0.552753</td>\n",
       "      <td>0.552753</td>\n",
       "      <td>0.796002</td>\n",
       "    </tr>\n",
       "    <tr>\n",
       "      <th>2004-02-03</th>\n",
       "      <td>77.529997</td>\n",
       "      <td>0.601010</td>\n",
       "      <td>0.601010</td>\n",
       "      <td>74.190779</td>\n",
       "      <td>2.647793</td>\n",
       "      <td>0.748970</td>\n",
       "      <td>0.510990</td>\n",
       "      <td>0.510990</td>\n",
       "      <td>0.815283</td>\n",
       "    </tr>\n",
       "    <tr>\n",
       "      <th>2004-02-02</th>\n",
       "      <td>77.057063</td>\n",
       "      <td>0.524205</td>\n",
       "      <td>0.524205</td>\n",
       "      <td>73.921363</td>\n",
       "      <td>2.562915</td>\n",
       "      <td>0.785454</td>\n",
       "      <td>0.505729</td>\n",
       "      <td>0.505729</td>\n",
       "      <td>0.805872</td>\n",
       "    </tr>\n",
       "    <tr>\n",
       "      <th>2004-01-30</th>\n",
       "      <td>76.933018</td>\n",
       "      <td>0.623445</td>\n",
       "      <td>0.623445</td>\n",
       "      <td>73.617445</td>\n",
       "      <td>2.531708</td>\n",
       "      <td>0.500000</td>\n",
       "      <td>0.497025</td>\n",
       "      <td>0.497025</td>\n",
       "      <td>0.827405</td>\n",
       "    </tr>\n",
       "    <tr>\n",
       "      <th>2004-01-29</th>\n",
       "      <td>75.987151</td>\n",
       "      <td>0.490826</td>\n",
       "      <td>0.490826</td>\n",
       "      <td>0.000000</td>\n",
       "      <td>0.000000</td>\n",
       "      <td>0.500000</td>\n",
       "      <td>0.477113</td>\n",
       "      <td>0.477113</td>\n",
       "      <td>0.500000</td>\n",
       "    </tr>\n",
       "    <tr>\n",
       "      <th>2004-01-28</th>\n",
       "      <td>75.498709</td>\n",
       "      <td>0.321482</td>\n",
       "      <td>0.321482</td>\n",
       "      <td>0.000000</td>\n",
       "      <td>0.000000</td>\n",
       "      <td>0.500000</td>\n",
       "      <td>0.524197</td>\n",
       "      <td>0.524197</td>\n",
       "      <td>0.500000</td>\n",
       "    </tr>\n",
       "    <tr>\n",
       "      <th>2004-01-27</th>\n",
       "      <td>76.599639</td>\n",
       "      <td>0.439638</td>\n",
       "      <td>0.439638</td>\n",
       "      <td>0.000000</td>\n",
       "      <td>0.000000</td>\n",
       "      <td>0.500000</td>\n",
       "      <td>0.512880</td>\n",
       "      <td>0.512880</td>\n",
       "      <td>0.500000</td>\n",
       "    </tr>\n",
       "    <tr>\n",
       "      <th>2004-01-26</th>\n",
       "      <td>77.413700</td>\n",
       "      <td>0.699182</td>\n",
       "      <td>0.699182</td>\n",
       "      <td>0.000000</td>\n",
       "      <td>0.000000</td>\n",
       "      <td>0.500000</td>\n",
       "      <td>0.521739</td>\n",
       "      <td>0.521739</td>\n",
       "      <td>0.500000</td>\n",
       "    </tr>\n",
       "    <tr>\n",
       "      <th>2004-01-23</th>\n",
       "      <td>75.901868</td>\n",
       "      <td>0.508178</td>\n",
       "      <td>0.508178</td>\n",
       "      <td>0.000000</td>\n",
       "      <td>0.000000</td>\n",
       "      <td>0.500000</td>\n",
       "      <td>0.500000</td>\n",
       "      <td>0.500000</td>\n",
       "      <td>0.500000</td>\n",
       "    </tr>\n",
       "    <tr>\n",
       "      <th>2004-01-22</th>\n",
       "      <td>75.599501</td>\n",
       "      <td>0.466272</td>\n",
       "      <td>0.466272</td>\n",
       "      <td>0.000000</td>\n",
       "      <td>0.000000</td>\n",
       "      <td>0.500000</td>\n",
       "      <td>0.500000</td>\n",
       "      <td>0.500000</td>\n",
       "      <td>0.500000</td>\n",
       "    </tr>\n",
       "    <tr>\n",
       "      <th>2004-01-21</th>\n",
       "      <td>75.746804</td>\n",
       "      <td>0.548338</td>\n",
       "      <td>0.548338</td>\n",
       "      <td>0.000000</td>\n",
       "      <td>0.000000</td>\n",
       "      <td>0.500000</td>\n",
       "      <td>0.500000</td>\n",
       "      <td>0.500000</td>\n",
       "      <td>0.500000</td>\n",
       "    </tr>\n",
       "    <tr>\n",
       "      <th>2004-01-20</th>\n",
       "      <td>75.281626</td>\n",
       "      <td>0.614583</td>\n",
       "      <td>0.614583</td>\n",
       "      <td>0.000000</td>\n",
       "      <td>0.000000</td>\n",
       "      <td>0.500000</td>\n",
       "      <td>0.500000</td>\n",
       "      <td>0.500000</td>\n",
       "      <td>0.500000</td>\n",
       "    </tr>\n",
       "    <tr>\n",
       "      <th>2004-01-16</th>\n",
       "      <td>73.901593</td>\n",
       "      <td>0.533684</td>\n",
       "      <td>0.533684</td>\n",
       "      <td>0.000000</td>\n",
       "      <td>0.000000</td>\n",
       "      <td>0.500000</td>\n",
       "      <td>0.500000</td>\n",
       "      <td>0.500000</td>\n",
       "      <td>0.500000</td>\n",
       "    </tr>\n",
       "    <tr>\n",
       "      <th>2004-01-15</th>\n",
       "      <td>72.893700</td>\n",
       "      <td>0.389555</td>\n",
       "      <td>0.389555</td>\n",
       "      <td>0.000000</td>\n",
       "      <td>0.000000</td>\n",
       "      <td>0.500000</td>\n",
       "      <td>0.500000</td>\n",
       "      <td>0.500000</td>\n",
       "      <td>0.500000</td>\n",
       "    </tr>\n",
       "    <tr>\n",
       "      <th>2004-01-14</th>\n",
       "      <td>70.017338</td>\n",
       "      <td>0.545606</td>\n",
       "      <td>0.545606</td>\n",
       "      <td>0.000000</td>\n",
       "      <td>0.000000</td>\n",
       "      <td>0.500000</td>\n",
       "      <td>0.500000</td>\n",
       "      <td>0.500000</td>\n",
       "      <td>0.500000</td>\n",
       "    </tr>\n",
       "    <tr>\n",
       "      <th>2004-01-13</th>\n",
       "      <td>69.544405</td>\n",
       "      <td>0.308639</td>\n",
       "      <td>0.308639</td>\n",
       "      <td>0.000000</td>\n",
       "      <td>0.000000</td>\n",
       "      <td>0.500000</td>\n",
       "      <td>0.500000</td>\n",
       "      <td>0.500000</td>\n",
       "      <td>0.500000</td>\n",
       "    </tr>\n",
       "    <tr>\n",
       "      <th>2004-01-12</th>\n",
       "      <td>70.978714</td>\n",
       "      <td>0.537277</td>\n",
       "      <td>0.537277</td>\n",
       "      <td>0.000000</td>\n",
       "      <td>0.000000</td>\n",
       "      <td>0.500000</td>\n",
       "      <td>0.500000</td>\n",
       "      <td>0.500000</td>\n",
       "      <td>0.500000</td>\n",
       "    </tr>\n",
       "    <tr>\n",
       "      <th>2004-01-09</th>\n",
       "      <td>70.715109</td>\n",
       "      <td>0.441144</td>\n",
       "      <td>0.441144</td>\n",
       "      <td>0.000000</td>\n",
       "      <td>0.000000</td>\n",
       "      <td>0.500000</td>\n",
       "      <td>0.500000</td>\n",
       "      <td>0.500000</td>\n",
       "      <td>0.500000</td>\n",
       "    </tr>\n",
       "    <tr>\n",
       "      <th>2004-01-08</th>\n",
       "      <td>72.133910</td>\n",
       "      <td>0.481762</td>\n",
       "      <td>0.481762</td>\n",
       "      <td>0.000000</td>\n",
       "      <td>0.000000</td>\n",
       "      <td>0.500000</td>\n",
       "      <td>0.500000</td>\n",
       "      <td>0.500000</td>\n",
       "      <td>0.500000</td>\n",
       "    </tr>\n",
       "    <tr>\n",
       "      <th>2004-01-07</th>\n",
       "      <td>71.932330</td>\n",
       "      <td>0.461349</td>\n",
       "      <td>0.461349</td>\n",
       "      <td>0.000000</td>\n",
       "      <td>0.000000</td>\n",
       "      <td>0.500000</td>\n",
       "      <td>0.500000</td>\n",
       "      <td>0.500000</td>\n",
       "      <td>0.500000</td>\n",
       "    </tr>\n",
       "    <tr>\n",
       "      <th>2004-01-06</th>\n",
       "      <td>72.149413</td>\n",
       "      <td>0.593276</td>\n",
       "      <td>0.593276</td>\n",
       "      <td>0.000000</td>\n",
       "      <td>0.000000</td>\n",
       "      <td>0.500000</td>\n",
       "      <td>0.500000</td>\n",
       "      <td>0.500000</td>\n",
       "      <td>0.500000</td>\n",
       "    </tr>\n",
       "    <tr>\n",
       "      <th>2004-01-05</th>\n",
       "      <td>72.141664</td>\n",
       "      <td>0.614131</td>\n",
       "      <td>0.614131</td>\n",
       "      <td>0.000000</td>\n",
       "      <td>0.000000</td>\n",
       "      <td>0.500000</td>\n",
       "      <td>0.500000</td>\n",
       "      <td>0.500000</td>\n",
       "      <td>0.500000</td>\n",
       "    </tr>\n",
       "    <tr>\n",
       "      <th>2004-01-02</th>\n",
       "      <td>70.978714</td>\n",
       "      <td>0.358928</td>\n",
       "      <td>0.358928</td>\n",
       "      <td>0.000000</td>\n",
       "      <td>0.000000</td>\n",
       "      <td>0.500000</td>\n",
       "      <td>0.500000</td>\n",
       "      <td>0.500000</td>\n",
       "      <td>0.500000</td>\n",
       "    </tr>\n",
       "  </tbody>\n",
       "</table>\n",
       "</div>"
      ],
      "text/plain": [
       "            Adj Close   Diff_co    Diff_v  Close_mean_20  Close_std_20  \\\n",
       "Date                                                                     \n",
       "2004-02-17  77.166450  0.437994  0.437994      76.711591      0.771346   \n",
       "2004-02-13  77.430477  0.561554  0.561554      76.548348      0.985707   \n",
       "2004-02-12  77.112092  0.424046  0.424046      76.321509      1.256770   \n",
       "2004-02-11  77.624616  0.576613  0.576613      75.966771      1.872385   \n",
       "2004-02-10  77.352822  0.617827  0.617827      75.562761      2.315219   \n",
       "2004-02-09  76.840292  0.463750  0.463750      75.244055      2.488101   \n",
       "2004-02-06  76.832531  0.509105  0.509105      74.937796      2.652802   \n",
       "2004-02-05  76.646155  0.386000  0.386000      74.702865      2.684043   \n",
       "2004-02-04  77.677306  0.581506  0.581506      74.467174      2.711245   \n",
       "2004-02-03  77.529997  0.601010  0.601010      74.190779      2.647793   \n",
       "2004-02-02  77.057063  0.524205  0.524205      73.921363      2.562915   \n",
       "2004-01-30  76.933018  0.623445  0.623445      73.617445      2.531708   \n",
       "2004-01-29  75.987151  0.490826  0.490826       0.000000      0.000000   \n",
       "2004-01-28  75.498709  0.321482  0.321482       0.000000      0.000000   \n",
       "2004-01-27  76.599639  0.439638  0.439638       0.000000      0.000000   \n",
       "2004-01-26  77.413700  0.699182  0.699182       0.000000      0.000000   \n",
       "2004-01-23  75.901868  0.508178  0.508178       0.000000      0.000000   \n",
       "2004-01-22  75.599501  0.466272  0.466272       0.000000      0.000000   \n",
       "2004-01-21  75.746804  0.548338  0.548338       0.000000      0.000000   \n",
       "2004-01-20  75.281626  0.614583  0.614583       0.000000      0.000000   \n",
       "2004-01-16  73.901593  0.533684  0.533684       0.000000      0.000000   \n",
       "2004-01-15  72.893700  0.389555  0.389555       0.000000      0.000000   \n",
       "2004-01-14  70.017338  0.545606  0.545606       0.000000      0.000000   \n",
       "2004-01-13  69.544405  0.308639  0.308639       0.000000      0.000000   \n",
       "2004-01-12  70.978714  0.537277  0.537277       0.000000      0.000000   \n",
       "2004-01-09  70.715109  0.441144  0.441144       0.000000      0.000000   \n",
       "2004-01-08  72.133910  0.481762  0.481762       0.000000      0.000000   \n",
       "2004-01-07  71.932330  0.461349  0.461349       0.000000      0.000000   \n",
       "2004-01-06  72.149413  0.593276  0.593276       0.000000      0.000000   \n",
       "2004-01-05  72.141664  0.614131  0.614131       0.000000      0.000000   \n",
       "2004-01-02  70.978714  0.358928  0.358928       0.000000      0.000000   \n",
       "\n",
       "            Momentum_20    RSI_15    RSI_30  Bollinger_20  \n",
       "Date                                                       \n",
       "2004-02-17     0.647261  0.310345  0.310345      0.647424  \n",
       "2004-02-13     0.707461  0.338279  0.338279      0.723730  \n",
       "2004-02-12     0.837762  0.337564  0.337564      0.657265  \n",
       "2004-02-11     0.887293  0.362897  0.362897      0.721355  \n",
       "2004-02-10     0.799344  0.372013  0.372013      0.693293  \n",
       "2004-02-09     0.788726  0.409842  0.409842      0.660387  \n",
       "2004-02-06     0.717125  0.448133  0.448133      0.678560  \n",
       "2004-02-05     0.718438  0.533333  0.533333      0.681004  \n",
       "2004-02-04     0.755391  0.552753  0.552753      0.796002  \n",
       "2004-02-03     0.748970  0.510990  0.510990      0.815283  \n",
       "2004-02-02     0.785454  0.505729  0.505729      0.805872  \n",
       "2004-01-30     0.500000  0.497025  0.497025      0.827405  \n",
       "2004-01-29     0.500000  0.477113  0.477113      0.500000  \n",
       "2004-01-28     0.500000  0.524197  0.524197      0.500000  \n",
       "2004-01-27     0.500000  0.512880  0.512880      0.500000  \n",
       "2004-01-26     0.500000  0.521739  0.521739      0.500000  \n",
       "2004-01-23     0.500000  0.500000  0.500000      0.500000  \n",
       "2004-01-22     0.500000  0.500000  0.500000      0.500000  \n",
       "2004-01-21     0.500000  0.500000  0.500000      0.500000  \n",
       "2004-01-20     0.500000  0.500000  0.500000      0.500000  \n",
       "2004-01-16     0.500000  0.500000  0.500000      0.500000  \n",
       "2004-01-15     0.500000  0.500000  0.500000      0.500000  \n",
       "2004-01-14     0.500000  0.500000  0.500000      0.500000  \n",
       "2004-01-13     0.500000  0.500000  0.500000      0.500000  \n",
       "2004-01-12     0.500000  0.500000  0.500000      0.500000  \n",
       "2004-01-09     0.500000  0.500000  0.500000      0.500000  \n",
       "2004-01-08     0.500000  0.500000  0.500000      0.500000  \n",
       "2004-01-07     0.500000  0.500000  0.500000      0.500000  \n",
       "2004-01-06     0.500000  0.500000  0.500000      0.500000  \n",
       "2004-01-05     0.500000  0.500000  0.500000      0.500000  \n",
       "2004-01-02     0.500000  0.500000  0.500000      0.500000  "
      ]
     },
     "execution_count": 16,
     "metadata": {},
     "output_type": "execute_result"
    }
   ],
   "source": [
    "tempDf.tail(31)"
   ]
  },
  {
   "cell_type": "code",
   "execution_count": 8,
   "metadata": {
    "collapsed": true
   },
   "outputs": [],
   "source": [
    "import matplotlib.pyplot as plt"
   ]
  },
  {
   "cell_type": "code",
   "execution_count": 15,
   "metadata": {
    "collapsed": false
   },
   "outputs": [
    {
     "name": "stderr",
     "output_type": "stream",
     "text": [
      "/home/sean/anaconda/lib/python2.7/site-packages/matplotlib/collections.py:590: FutureWarning: elementwise comparison failed; returning scalar instead, but in the future will perform elementwise comparison\n",
      "  if self._edgecolors == str('face'):\n"
     ]
    }
   ],
   "source": [
    "plt.figure()\n",
    "tempDf.plot(kind='scatter',x='RSI_15',y='RSI_30')\n",
    "plt.show()"
   ]
  },
  {
   "cell_type": "code",
   "execution_count": null,
   "metadata": {
    "collapsed": true
   },
   "outputs": [],
   "source": []
  },
  {
   "cell_type": "code",
   "execution_count": 10,
   "metadata": {
    "collapsed": true
   },
   "outputs": [],
   "source": [
    "from sklearn.decomposition import PCA"
   ]
  },
  {
   "cell_type": "code",
   "execution_count": 14,
   "metadata": {
    "collapsed": false
   },
   "outputs": [
    {
     "name": "stdout",
     "output_type": "stream",
     "text": [
      "[  8.23914226e-01   1.07413384e-01   6.86723901e-02   4.10898555e-33]\n"
     ]
    }
   ],
   "source": [
    "my_pca = PCA( n_components=4 )\n",
    "my_pca.fit( tempDf.drop(['Adj Close','Close_mean_20','Close_std_20','Diff_co','Diff_v'],axis=1) )\n",
    "print my_pca.explained_variance_ratio_"
   ]
  },
  {
   "cell_type": "code",
   "execution_count": 8,
   "metadata": {
    "collapsed": true
   },
   "outputs": [],
   "source": [
    "# Data should be cleaned, need to plot some trends and check for correlation\n",
    "# [ 'Diff_co', 'Diff_ao', 'Diff_hl', 'Diff_v'] ]\n",
    "# [ 'Close_mean_n', 'Close_std_n' ]\n",
    "# [ 'Momentum_n' ]\n",
    "#\n",
    "# Diff co, v, have different info, co same as hl basically\n",
    "# Momentum 3 correlated with co, 5 a little less, 10 at limit\n",
    "# HUGE autocorrelation with momentum, long momentum really tracks trends, until at/past scale of momentum"
   ]
  },
  {
   "cell_type": "code",
   "execution_count": 7,
   "metadata": {
    "collapsed": true
   },
   "outputs": [],
   "source": [
    "from sklearn.tree import DecisionTreeClassifier\n",
    "from sklearn.svm  import SVR\n",
    "from sklearn.linear_model import SGDRegressor\n",
    "from sklearn.linear_model import Lasso\n",
    "from sklearn.linear_model import Ridge"
   ]
  },
  {
   "cell_type": "code",
   "execution_count": 8,
   "metadata": {
    "collapsed": false
   },
   "outputs": [
    {
     "name": "stdout",
     "output_type": "stream",
     "text": [
      "3313\n"
     ]
    }
   ],
   "source": [
    "print tempDf.shape[0]"
   ]
  },
  {
   "cell_type": "code",
   "execution_count": 33,
   "metadata": {
    "collapsed": false
   },
   "outputs": [],
   "source": [
    "max_day = max( [max(roll_list),max(mom_list),max(rsi_list)] )\n",
    "N_train = 2500\n",
    "N_test  = 700\n",
    "off     = 5\n",
    "\n",
    "# Put things in right cronological order\n",
    "flipped_df = tempDf.copy()\n",
    "flipped_df = flipped_df[::-1]\n",
    "flipped_df = flipped_df[max_day:]\n",
    "\n",
    "# Labels need to be stored as a list, because will use diff CLF for each\n",
    "train_label_list   = []\n",
    "test_label_list    = []\n",
    "\n",
    "# Features are constant for each clf\n",
    "train_features = flipped_df[:N_train]\n",
    "test_features  = flipped_df[ N_train+off:N_train+off+N_test]\n",
    "\n",
    "# Loop over offsets so have training data for each day\n",
    "for offset in range( 1, off+1 ):\n",
    "    \n",
    "    # Train data from 0 to N_train\n",
    "    # Train labels from ^+offset\n",
    "    # Test data from N_train+o to N_train + N_test + o\n",
    "    # Test labels from ^+offset\n",
    "    \n",
    "    train_label_list.append(  flipped_df.ix[offset:N_train+offset,'Adj Close'].values  )\n",
    "    test_label_list.append(   flipped_df.ix[2*offset+N_train::N_test+N_train+2*offset,'Adj Close'].values )"
   ]
  },
  {
   "cell_type": "code",
   "execution_count": 30,
   "metadata": {
    "collapsed": false
   },
   "outputs": [
    {
     "data": {
      "text/plain": [
       "Date\n",
       "2014-01-29    159.390530\n",
       "2014-01-30    160.257968\n",
       "2014-01-31    159.643530\n",
       "2014-02-03    156.228020\n",
       "2014-02-04    156.173808\n",
       "Name: Adj Close, dtype: float64"
      ]
     },
     "execution_count": 30,
     "metadata": {},
     "output_type": "execute_result"
    }
   ],
   "source": [
    "test_features['Adj Close'].head()"
   ]
  },
  {
   "cell_type": "code",
   "execution_count": 32,
   "metadata": {
    "collapsed": false
   },
   "outputs": [
    {
     "name": "stdout",
     "output_type": "stream",
     "text": [
      "0.925266725968 159.39053 [ 154.86204236] 162.318117\n"
     ]
    },
    {
     "name": "stderr",
     "output_type": "stream",
     "text": [
      "/home/sean/anaconda/lib/python2.7/site-packages/sklearn/utils/validation.py:395: DeprecationWarning: Passing 1d arrays as data is deprecated in 0.17 and will raise ValueError in 0.19. Reshape your data either using X.reshape(-1, 1) if your data has a single feature or X.reshape(1, -1) if it contains a single sample.\n",
      "  DeprecationWarning)\n"
     ]
    },
    {
     "name": "stdout",
     "output_type": "stream",
     "text": [
      "0.924107025419 159.39053 [ 154.93927547] 159.79715\n"
     ]
    },
    {
     "name": "stderr",
     "output_type": "stream",
     "text": [
      "/home/sean/anaconda/lib/python2.7/site-packages/sklearn/utils/validation.py:395: DeprecationWarning: Passing 1d arrays as data is deprecated in 0.17 and will raise ValueError in 0.19. Reshape your data either using X.reshape(-1, 1) if your data has a single feature or X.reshape(1, -1) if it contains a single sample.\n",
      "  DeprecationWarning)\n"
     ]
    },
    {
     "name": "stdout",
     "output_type": "stream",
     "text": [
      "0.922888925438 159.39053 [ 154.56218893] 160.257968\n"
     ]
    },
    {
     "name": "stderr",
     "output_type": "stream",
     "text": [
      "/home/sean/anaconda/lib/python2.7/site-packages/sklearn/utils/validation.py:395: DeprecationWarning: Passing 1d arrays as data is deprecated in 0.17 and will raise ValueError in 0.19. Reshape your data either using X.reshape(-1, 1) if your data has a single feature or X.reshape(1, -1) if it contains a single sample.\n",
      "  DeprecationWarning)\n"
     ]
    },
    {
     "name": "stdout",
     "output_type": "stream",
     "text": [
      "0.921903704721 159.39053 [ 154.84077323] 156.22802\n"
     ]
    },
    {
     "name": "stderr",
     "output_type": "stream",
     "text": [
      "/home/sean/anaconda/lib/python2.7/site-packages/sklearn/utils/validation.py:395: DeprecationWarning: Passing 1d arrays as data is deprecated in 0.17 and will raise ValueError in 0.19. Reshape your data either using X.reshape(-1, 1) if your data has a single feature or X.reshape(1, -1) if it contains a single sample.\n",
      "  DeprecationWarning)\n"
     ]
    },
    {
     "name": "stdout",
     "output_type": "stream",
     "text": [
      "0.91930927933 159.39053 [ 153.77003668] 157.43882\n"
     ]
    },
    {
     "name": "stderr",
     "output_type": "stream",
     "text": [
      "/home/sean/anaconda/lib/python2.7/site-packages/sklearn/utils/validation.py:395: DeprecationWarning: Passing 1d arrays as data is deprecated in 0.17 and will raise ValueError in 0.19. Reshape your data either using X.reshape(-1, 1) if your data has a single feature or X.reshape(1, -1) if it contains a single sample.\n",
      "  DeprecationWarning)\n"
     ]
    }
   ],
   "source": [
    "clf_list = []\n",
    "\n",
    "for i in range( 0, off ):\n",
    "    \n",
    "    clf_list.append( SVR() )\n",
    "    \n",
    "    clf_list[i].fit( train_features, train_label_list[i] )\n",
    "    \n",
    "    print clf_list[i].score( train_features, train_label_list[i] ), test_features.ix[0,'Adj Close'],\n",
    "    print clf_list[i].predict( test_features.iloc[0] ), test_label_list[i][0]"
   ]
  },
  {
   "cell_type": "code",
   "execution_count": null,
   "metadata": {
    "collapsed": true
   },
   "outputs": [],
   "source": []
  }
 ],
 "metadata": {
  "kernelspec": {
   "display_name": "Python 2",
   "language": "python",
   "name": "python2"
  },
  "language_info": {
   "codemirror_mode": {
    "name": "ipython",
    "version": 2
   },
   "file_extension": ".py",
   "mimetype": "text/x-python",
   "name": "python",
   "nbconvert_exporter": "python",
   "pygments_lexer": "ipython2",
   "version": "2.7.13"
  }
 },
 "nbformat": 4,
 "nbformat_minor": 2
}

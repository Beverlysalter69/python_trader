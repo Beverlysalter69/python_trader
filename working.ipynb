{
 "cells": [
  {
   "cell_type": "code",
   "execution_count": 1,
   "metadata": {
    "collapsed": true
   },
   "outputs": [],
   "source": [
    "import os\n",
    "import sys\n",
    "import types\n",
    "import pandas as pd\n",
    "import numpy  as np\n",
    "import matplotlib.pyplot as plt\n",
    "import seaborn as sas\n",
    "\n",
    "import read_clean_quote as rcq\n",
    "import calculate_trends as ct"
   ]
  },
  {
   "cell_type": "code",
   "execution_count": 7,
   "metadata": {
    "collapsed": true
   },
   "outputs": [],
   "source": [
    "roll_list = [5]\n",
    "mom_list  = [5,15,30]\n",
    "rsi_list  = [10,15,30]"
   ]
  },
  {
   "cell_type": "code",
   "execution_count": 8,
   "metadata": {
    "collapsed": false,
    "scrolled": true
   },
   "outputs": [],
   "source": [
    "tempDf = rcq.read_quote_data('IBM')\n",
    "\n",
    "rcq.fill_quote_gaps( tempDf )\n",
    "rcq.fix_splits( tempDf )"
   ]
  },
  {
   "cell_type": "code",
   "execution_count": 9,
   "metadata": {
    "collapsed": false
   },
   "outputs": [],
   "source": [
    "diffs = ct.generate_differentials(   tempDf                   ) # Differentials between c,ac, o, h, l, v\n",
    "rolls = ct.generate_rolling_close(   tempDf,        roll_list ) # Rolling averages of adj c, listed as C_mean_n and C_std_10\n",
    "moms  = ct.generate_momentum_close(  tempDf,         mom_list ) # Momentum between day and days offset in list, Momentum_n\n",
    "rsis  = ct.generate_rsi(             tempDf, diffs,  rsi_list ) # Relative Strength Indexes over n days, RSI_n\n",
    "bolls = ct.generate_bollinger_bands( tempDf, rolls, roll_list ) # percentB of Bollinger bands, 1 is at upper, 0 at lower"
   ]
  },
  {
   "cell_type": "code",
   "execution_count": 10,
   "metadata": {
    "collapsed": true
   },
   "outputs": [],
   "source": [
    "# Join everything, or can leave as seperate \n",
    "tempDf = tempDf.join( diffs, how='inner' )\n",
    "tempDf = tempDf.join( rolls, how='inner' )\n",
    "tempDf = tempDf.join(  moms, how='inner' )\n",
    "tempDf = tempDf.join(  rsis, how='inner' )\n",
    "tempDf = tempDf.drop( ['Open','High','Low','Volume','Close'], axis=1 )"
   ]
  },
  {
   "cell_type": "code",
   "execution_count": 11,
   "metadata": {
    "collapsed": false,
    "scrolled": true
   },
   "outputs": [
    {
     "data": {
      "text/html": [
       "<div>\n",
       "<table border=\"1\" class=\"dataframe\">\n",
       "  <thead>\n",
       "    <tr style=\"text-align: right;\">\n",
       "      <th></th>\n",
       "      <th>Adj Close</th>\n",
       "      <th>Diff_co</th>\n",
       "      <th>Diff_v</th>\n",
       "      <th>Close_mean_5</th>\n",
       "      <th>Close_std_5</th>\n",
       "      <th>Momentum_5</th>\n",
       "      <th>Momentum_15</th>\n",
       "      <th>Momentum_30</th>\n",
       "      <th>RSI_10</th>\n",
       "      <th>RSI_15</th>\n",
       "      <th>RSI_30</th>\n",
       "    </tr>\n",
       "    <tr>\n",
       "      <th>Date</th>\n",
       "      <th></th>\n",
       "      <th></th>\n",
       "      <th></th>\n",
       "      <th></th>\n",
       "      <th></th>\n",
       "      <th></th>\n",
       "      <th></th>\n",
       "      <th></th>\n",
       "      <th></th>\n",
       "      <th></th>\n",
       "      <th></th>\n",
       "    </tr>\n",
       "  </thead>\n",
       "  <tbody>\n",
       "    <tr>\n",
       "      <th>2017-03-01</th>\n",
       "      <td>181.949997</td>\n",
       "      <td>0.008145</td>\n",
       "      <td>-0.095493</td>\n",
       "      <td>180.834000</td>\n",
       "      <td>1.146965</td>\n",
       "      <td>0.004416</td>\n",
       "      <td>0.027618</td>\n",
       "      <td>0.092314</td>\n",
       "      <td>50.070191</td>\n",
       "      <td>50.030241</td>\n",
       "      <td>50.218339</td>\n",
       "    </tr>\n",
       "    <tr>\n",
       "      <th>2017-02-28</th>\n",
       "      <td>179.820007</td>\n",
       "      <td>0.002453</td>\n",
       "      <td>-0.108796</td>\n",
       "      <td>180.673999</td>\n",
       "      <td>0.998563</td>\n",
       "      <td>-0.002441</td>\n",
       "      <td>0.030603</td>\n",
       "      <td>0.083075</td>\n",
       "      <td>50.019917</td>\n",
       "      <td>49.976369</td>\n",
       "      <td>50.108271</td>\n",
       "    </tr>\n",
       "    <tr>\n",
       "      <th>2017-02-27</th>\n",
       "      <td>179.399994</td>\n",
       "      <td>-0.009879</td>\n",
       "      <td>0.123692</td>\n",
       "      <td>180.761997</td>\n",
       "      <td>0.920855</td>\n",
       "      <td>-0.007029</td>\n",
       "      <td>0.028430</td>\n",
       "      <td>0.076621</td>\n",
       "      <td>50.007195</td>\n",
       "      <td>49.915102</td>\n",
       "      <td>50.182521</td>\n",
       "    </tr>\n",
       "    <tr>\n",
       "      <th>2017-02-24</th>\n",
       "      <td>181.350006</td>\n",
       "      <td>0.006326</td>\n",
       "      <td>0.452033</td>\n",
       "      <td>181.015997</td>\n",
       "      <td>0.552884</td>\n",
       "      <td>-0.000441</td>\n",
       "      <td>0.046992</td>\n",
       "      <td>0.089621</td>\n",
       "      <td>49.915490</td>\n",
       "      <td>49.851535</td>\n",
       "      <td>50.157921</td>\n",
       "    </tr>\n",
       "    <tr>\n",
       "      <th>2017-02-23</th>\n",
       "      <td>181.649994</td>\n",
       "      <td>-0.001923</td>\n",
       "      <td>-0.253194</td>\n",
       "      <td>181.031995</td>\n",
       "      <td>0.565967</td>\n",
       "      <td>-0.000165</td>\n",
       "      <td>0.050469</td>\n",
       "      <td>0.106128</td>\n",
       "      <td>49.819682</td>\n",
       "      <td>49.756789</td>\n",
       "      <td>50.050590</td>\n",
       "    </tr>\n",
       "  </tbody>\n",
       "</table>\n",
       "</div>"
      ],
      "text/plain": [
       "             Adj Close   Diff_co    Diff_v  Close_mean_5  Close_std_5  \\\n",
       "Date                                                                    \n",
       "2017-03-01  181.949997  0.008145 -0.095493    180.834000     1.146965   \n",
       "2017-02-28  179.820007  0.002453 -0.108796    180.673999     0.998563   \n",
       "2017-02-27  179.399994 -0.009879  0.123692    180.761997     0.920855   \n",
       "2017-02-24  181.350006  0.006326  0.452033    181.015997     0.552884   \n",
       "2017-02-23  181.649994 -0.001923 -0.253194    181.031995     0.565967   \n",
       "\n",
       "            Momentum_5  Momentum_15  Momentum_30     RSI_10     RSI_15  \\\n",
       "Date                                                                     \n",
       "2017-03-01    0.004416     0.027618     0.092314  50.070191  50.030241   \n",
       "2017-02-28   -0.002441     0.030603     0.083075  50.019917  49.976369   \n",
       "2017-02-27   -0.007029     0.028430     0.076621  50.007195  49.915102   \n",
       "2017-02-24   -0.000441     0.046992     0.089621  49.915490  49.851535   \n",
       "2017-02-23   -0.000165     0.050469     0.106128  49.819682  49.756789   \n",
       "\n",
       "               RSI_30  \n",
       "Date                   \n",
       "2017-03-01  50.218339  \n",
       "2017-02-28  50.108271  \n",
       "2017-02-27  50.182521  \n",
       "2017-02-24  50.157921  \n",
       "2017-02-23  50.050590  "
      ]
     },
     "execution_count": 11,
     "metadata": {},
     "output_type": "execute_result"
    }
   ],
   "source": [
    "tempDf.head()"
   ]
  },
  {
   "cell_type": "code",
   "execution_count": 8,
   "metadata": {
    "collapsed": true
   },
   "outputs": [],
   "source": [
    "# Data should be cleaned, need to plot some trends and check for correlation\n",
    "# [ 'Diff_co', 'Diff_ao', 'Diff_hl', 'Diff_v'] ]\n",
    "# [ 'Close_mean_n', 'Close_std_n' ]\n",
    "# [ 'Momentum_n' ]\n",
    "#\n",
    "# Diff co, v, have different info, co same as hl basically\n",
    "# Momentum 3 correlated with co, 5 a little less, 10 at limit\n",
    "# HUGE autocorrelation with momentum, long momentum really tracks trends, until at/past scale of momentum"
   ]
  },
  {
   "cell_type": "code",
   "execution_count": 14,
   "metadata": {
    "collapsed": true
   },
   "outputs": [],
   "source": [
    "from sklearn.tree import DecisionTreeClassifier\n",
    "from sklearn.svm  import SVR\n",
    "from sklearn.linear_model import SGDRegressor\n",
    "from sklearn.linear_model import Lasso\n",
    "from sklearn.linear_model import Ridge"
   ]
  },
  {
   "cell_type": "code",
   "execution_count": 63,
   "metadata": {
    "collapsed": false
   },
   "outputs": [
    {
     "name": "stdout",
     "output_type": "stream",
     "text": [
      "3313\n"
     ]
    }
   ],
   "source": [
    "print tempDf.shape[0]"
   ]
  },
  {
   "cell_type": "code",
   "execution_count": 64,
   "metadata": {
    "collapsed": false
   },
   "outputs": [],
   "source": [
    "max_day = max( [max(roll_list),max(mom_list),max(rsi_list)] )\n",
    "N_train = 2500\n",
    "N_test  = 700\n",
    "off     = 1\n",
    "\n",
    "flipped_df = tempDf.copy()\n",
    "flipped_df = flipped_df[::-1]\n",
    "flipped_df = flipped_df[max_day:]\n",
    "\n",
    "train_features = tempDf[:N_train]\n",
    "train_labels   = tempDf.ix[off:N_train+off,'Adj Close'].values\n",
    "test_features  = tempDf[N_train:N_test+N_train]"
   ]
  },
  {
   "cell_type": "code",
   "execution_count": 65,
   "metadata": {
    "collapsed": false
   },
   "outputs": [
    {
     "name": "stdout",
     "output_type": "stream",
     "text": [
      "0.879633070824\n"
     ]
    }
   ],
   "source": [
    "svr_clf = SVR()\n",
    "\n",
    "svr_clf.fit( train_features, train_labels )\n",
    "\n",
    "print svr_clf.score( train_features, train_labels )"
   ]
  },
  {
   "cell_type": "code",
   "execution_count": null,
   "metadata": {
    "collapsed": true
   },
   "outputs": [],
   "source": []
  }
 ],
 "metadata": {
  "kernelspec": {
   "display_name": "Python 2",
   "language": "python",
   "name": "python2"
  },
  "language_info": {
   "codemirror_mode": {
    "name": "ipython",
    "version": 2
   },
   "file_extension": ".py",
   "mimetype": "text/x-python",
   "name": "python",
   "nbconvert_exporter": "python",
   "pygments_lexer": "ipython2",
   "version": "2.7.13"
  }
 },
 "nbformat": 4,
 "nbformat_minor": 2
}

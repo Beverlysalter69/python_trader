{
 "cells": [
  {
   "cell_type": "code",
   "execution_count": 29,
   "metadata": {
    "collapsed": true
   },
   "outputs": [],
   "source": [
    "import os\n",
    "import sys\n",
    "import types\n",
    "import pandas as pd\n",
    "import numpy  as np\n",
    "import matplotlib.pyplot as plt"
   ]
  },
  {
   "cell_type": "code",
   "execution_count": 2,
   "metadata": {
    "collapsed": true
   },
   "outputs": [],
   "source": [
    "# Reads data from csv file\n",
    "def symbol_to_path(symbol, base_dir=\"data\"):\n",
    "    \"\"\"Return CSV file path given ticker symbol.\"\"\"\n",
    "    return os.path.join(base_dir, \"{}.csv\".format(str(symbol)))\n",
    "\n",
    "\n",
    "def read_quote_data( symbol, new_path=\"data\" ):\n",
    "    \n",
    "    \"\"\"Read stock data (adjusted close) for given symbols from CSV files.\"\"\"\n",
    "    df = pd.read_csv(  symbol_to_path(symbol,new_path), \n",
    "                                      index_col='Date',\n",
    "                                      parse_dates=True, \n",
    "                                     na_values=['nan'])\n",
    "\n",
    "    return df"
   ]
  },
  {
   "cell_type": "code",
   "execution_count": 34,
   "metadata": {
    "collapsed": false
   },
   "outputs": [
    {
     "name": "stdout",
     "output_type": "stream",
     "text": [
      "                  Open        High         Low       Close   Volume  \\\n",
      "Date                                                                  \n",
      "2017-03-01  180.479996  182.550003  180.029999  181.949997  2960000   \n",
      "2017-02-28  179.380005  180.630005  179.350006  179.820007  3272500   \n",
      "2017-02-27  181.190002  181.250000  179.279999  179.399994  3672000   \n",
      "2017-02-24  180.210007  181.490005  179.889999  181.350006  3267800   \n",
      "2017-02-23  182.000000  182.500000  180.919998  181.649994  2250500   \n",
      "\n",
      "             Adj Close  \n",
      "Date                    \n",
      "2017-03-01  181.949997  \n",
      "2017-02-28  179.820007  \n",
      "2017-02-27  179.399994  \n",
      "2017-02-24  181.350006  \n",
      "2017-02-23  181.649994  \n",
      "                 Open       High        Low      Close   Volume  Adj Close\n",
      "Date                                                                      \n",
      "2004-01-08  93.209999  93.209999  92.029999  93.040001  6179800  72.133910\n",
      "2004-01-07  93.139999  93.379997  92.470001  92.779999  4927600  71.932330\n",
      "2004-01-06  92.199997  93.190002  92.139999  93.059998  4380000  72.149413\n",
      "2004-01-05  92.000000  93.089996  92.000000  93.050003  5276300  72.141664\n",
      "2004-01-02  92.860001  93.050003  91.199997  91.550003  5327800  70.978714\n",
      "                  Open        High         Low       Close   Volume  \\\n",
      "Date                                                                  \n",
      "2017-03-01  180.479996  182.550003  180.029999  181.949997  2960000   \n",
      "2017-02-28  179.380005  180.630005  179.350006  179.820007  3272500   \n",
      "2017-02-27  181.190002  181.250000  179.279999  179.399994  3672000   \n",
      "2017-02-24  180.210007  181.490005  179.889999  181.350006  3267800   \n",
      "2017-02-23  182.000000  182.500000  180.919998  181.649994  2250500   \n",
      "\n",
      "             Adj Close  \n",
      "Date                    \n",
      "2017-03-01  181.949997  \n",
      "2017-02-28  179.820007  \n",
      "2017-02-27  179.399994  \n",
      "2017-02-24  181.350006  \n",
      "2017-02-23  181.649994  \n",
      "                 Open       High        Low      Close   Volume  Adj Close\n",
      "Date                                                                      \n",
      "2004-01-08  93.209999  93.209999  92.029999  93.040001  6179800  72.133910\n",
      "2004-01-07  93.139999  93.379997  92.470001  92.779999  4927600  71.932330\n",
      "2004-01-06  92.199997  93.190002  92.139999  93.059998  4380000  72.149413\n",
      "2004-01-05  92.000000  93.089996  92.000000  93.050003  5276300  72.141664\n",
      "2004-01-02  92.860001  93.050003  91.199997  91.550003  5327800  70.978714\n"
     ]
    }
   ],
   "source": [
    "# Forward fill quote gaps\n",
    "# Then backfill\n",
    "def fill_quote_gaps( inp_df ):\n",
    "    inp_df.fillna( method='bfill', axis=0, inplace=True )\n",
    "    inp_df.fillna( method='ffill', axis=0, inplace=True )\n",
    "\n",
    "# Find locations where stock dropped by const number\n",
    "# These stock splits need to be normalized out, divide previous dates by const\n",
    "def fix_splits( inp_df ):\n",
    "    \n",
    "    test_df = inp_df.copy()\n",
    "    \n",
    "    # Possible values for splits\n",
    "    split_list = [ 1/5., 1/4., 1/3., 1/2., 2., 3., 4., 5. ]\n",
    "    \n",
    "    while True:\n",
    "    \n",
    "        # Breaks loop if we found a split\n",
    "        break_it = False\n",
    "        rat_list = test_df['Open']/test_df['Close'].shift(1)\n",
    "    \n",
    "        for     split in split_list:\n",
    "            for     i in range( 0, len(rat_list)) :\n",
    "                \n",
    "                # If stock changes by what would expect from a split\n",
    "                if ( abs(rat_list[i]-split) < 1e-4 ):\n",
    "                    \n",
    "                    # Modulate everything by the split\n",
    "                    test_df.ix[i:,['Close','Open','High','Low','Adj Close']] = \\\n",
    "                    test_df.ix[i:,['Close','Open','High','Low','Adj Close']] / split\n",
    "                    \n",
    "                    # Volume behaves opposite\n",
    "                    test_df.ix[i:,'Volume'] = test_df.ix[i:,'Volume'] * split\n",
    "                    \n",
    "                    # Break out of loops and double check for more splits\n",
    "                    break_it = True\n",
    "                    break\n",
    "            if ( break_it ):\n",
    "                break\n",
    "        \n",
    "        # If we didn't find a split\n",
    "        if ( break_it == False ):\n",
    "            break\n",
    "        \n",
    "    return test_df"
   ]
  },
  {
   "cell_type": "code",
   "execution_count": 4,
   "metadata": {
    "collapsed": false
   },
   "outputs": [],
   "source": [
    "# Generate measures of (close-open)/open, \n",
    "#                        (high-low)/open,\n",
    "#                  (adj_close-open)/open, \n",
    "#                 (vol_tod-vol_yes)/vol_yes\n",
    "def generate_differentials( inp_df ):\n",
    "    new_df = inp_df.copy()\n",
    "\n",
    "    # diff is just differences between close and open\n",
    "    new_df['diff_co'] = new_df[    'Close']/new_df['Open'] - 1.0\n",
    "    new_df['diff_ao'] = new_df['Adj Close']/new_df['Open'] - 1.0\n",
    "    \n",
    "    # diff is breadth of high-low prices, relative to open\n",
    "    new_df['diff_hl'] = (new_df['High']-new_df['Low']) / new_df['Open']\n",
    "    \n",
    "    new_df['diff_v']  = new_df.ix[:-1,['Volume']].astype(float)/new_df.ix[1:,['Volume']].values - 1.0\n",
    "    new_df.ix[ -1,['diff_v']] = 0\n",
    "    \n",
    "    return new_df[ ['diff_co', 'diff_ao', 'diff_hl', 'diff_v'] ]"
   ]
  },
  {
   "cell_type": "code",
   "execution_count": 9,
   "metadata": {
    "collapsed": false
   },
   "outputs": [],
   "source": [
    "# Generate some rolling values of the data\n",
    "def generate_rolling_close( inp_df, inp_list ):\n",
    "    \n",
    "    # Reverse things, list is reversed from direction of rolling\n",
    "    new_df  = inp_df[::-1].copy()\n",
    "    my_days = inp_list\n",
    "    \n",
    "    # Make sure we are working with a list\n",
    "    if ( not isinstance( inp_list, list ) ):\n",
    "        my_days = [ inp_list ]\n",
    "\n",
    "    labelList = []\n",
    "        \n",
    "    # Generate rolline mean and std for each length of days\n",
    "    for day in my_days:\n",
    "        \n",
    "        labelList.append( 'Close_mean_'+str(day) )\n",
    "        labelList.append( 'Close_std_' +str(day) )\n",
    "        \n",
    "        new_df[ labelList[-2] ] = new_df['Close'].rolling(day).mean()\n",
    "        new_df[ labelList[-1] ] = new_df['Close'].rolling(day).std()\n",
    "        \n",
    "    return new_df.ix[ ::-1, labelList ]"
   ]
  },
  {
   "cell_type": "code",
   "execution_count": 18,
   "metadata": {
    "collapsed": false
   },
   "outputs": [],
   "source": [
    "# Generate momentum list, momentum is calculated as day/oldDay - 1\n",
    "def generate_momentum_close( inp_df, inp_list ):\n",
    "    \n",
    "    new_df  = inp_df.copy()\n",
    "    my_days = inp_list\n",
    "    \n",
    "    # Make sure we are working with a list\n",
    "    if ( not isinstance( inp_list, list ) ):\n",
    "        my_days = [ inp_list ]\n",
    "    labelList = []\n",
    "        \n",
    "    # Generate rolline mean and std for each length of days\n",
    "    for day in my_days:\n",
    "        \n",
    "        labelList.append( 'Momentum_'+str(day) )\n",
    "\n",
    "        new_df[ labelList[-1] ] = new_df.ix[:-day,'Close'].astype(float)/new_df.ix[day:,'Close'].values - 1.0\n",
    "        new_df.ix[-day:, labelList[-1] ] = 0\n",
    "    \n",
    "    return new_df[ labelList ]"
   ]
  },
  {
   "cell_type": "code",
   "execution_count": 7,
   "metadata": {
    "collapsed": true
   },
   "outputs": [],
   "source": [
    "rolling_list = [3,5,10,15,20,25,30]"
   ]
  },
  {
   "cell_type": "code",
   "execution_count": 35,
   "metadata": {
    "collapsed": false,
    "scrolled": true
   },
   "outputs": [],
   "source": [
    "tempDf = fix_splits( read_quote_data('IBM') )\n",
    "fill_quote_gaps( tempDf )\n",
    "diffs = generate_differentials( tempDf )\n",
    "rolls = generate_rolling_close( tempDf, rolling_list )\n",
    "moms  = generate_momentum_close(tempDf, rolling_list )"
   ]
  },
  {
   "cell_type": "code",
   "execution_count": 36,
   "metadata": {
    "collapsed": false
   },
   "outputs": [
    {
     "data": {
      "text/html": [
       "<div>\n",
       "<table border=\"1\" class=\"dataframe\">\n",
       "  <thead>\n",
       "    <tr style=\"text-align: right;\">\n",
       "      <th></th>\n",
       "      <th>Open</th>\n",
       "      <th>High</th>\n",
       "      <th>Low</th>\n",
       "      <th>Close</th>\n",
       "      <th>Volume</th>\n",
       "      <th>Adj Close</th>\n",
       "    </tr>\n",
       "    <tr>\n",
       "      <th>Date</th>\n",
       "      <th></th>\n",
       "      <th></th>\n",
       "      <th></th>\n",
       "      <th></th>\n",
       "      <th></th>\n",
       "      <th></th>\n",
       "    </tr>\n",
       "  </thead>\n",
       "  <tbody>\n",
       "    <tr>\n",
       "      <th>2017-03-01</th>\n",
       "      <td>180.479996</td>\n",
       "      <td>182.550003</td>\n",
       "      <td>180.029999</td>\n",
       "      <td>181.949997</td>\n",
       "      <td>2960000</td>\n",
       "      <td>181.949997</td>\n",
       "    </tr>\n",
       "    <tr>\n",
       "      <th>2017-02-28</th>\n",
       "      <td>179.380005</td>\n",
       "      <td>180.630005</td>\n",
       "      <td>179.350006</td>\n",
       "      <td>179.820007</td>\n",
       "      <td>3272500</td>\n",
       "      <td>179.820007</td>\n",
       "    </tr>\n",
       "    <tr>\n",
       "      <th>2017-02-27</th>\n",
       "      <td>181.190002</td>\n",
       "      <td>181.250000</td>\n",
       "      <td>179.279999</td>\n",
       "      <td>179.399994</td>\n",
       "      <td>3672000</td>\n",
       "      <td>179.399994</td>\n",
       "    </tr>\n",
       "    <tr>\n",
       "      <th>2017-02-24</th>\n",
       "      <td>180.210007</td>\n",
       "      <td>181.490005</td>\n",
       "      <td>179.889999</td>\n",
       "      <td>181.350006</td>\n",
       "      <td>3267800</td>\n",
       "      <td>181.350006</td>\n",
       "    </tr>\n",
       "    <tr>\n",
       "      <th>2017-02-23</th>\n",
       "      <td>182.000000</td>\n",
       "      <td>182.500000</td>\n",
       "      <td>180.919998</td>\n",
       "      <td>181.649994</td>\n",
       "      <td>2250500</td>\n",
       "      <td>181.649994</td>\n",
       "    </tr>\n",
       "  </tbody>\n",
       "</table>\n",
       "</div>"
      ],
      "text/plain": [
       "                  Open        High         Low       Close   Volume  \\\n",
       "Date                                                                  \n",
       "2017-03-01  180.479996  182.550003  180.029999  181.949997  2960000   \n",
       "2017-02-28  179.380005  180.630005  179.350006  179.820007  3272500   \n",
       "2017-02-27  181.190002  181.250000  179.279999  179.399994  3672000   \n",
       "2017-02-24  180.210007  181.490005  179.889999  181.350006  3267800   \n",
       "2017-02-23  182.000000  182.500000  180.919998  181.649994  2250500   \n",
       "\n",
       "             Adj Close  \n",
       "Date                    \n",
       "2017-03-01  181.949997  \n",
       "2017-02-28  179.820007  \n",
       "2017-02-27  179.399994  \n",
       "2017-02-24  181.350006  \n",
       "2017-02-23  181.649994  "
      ]
     },
     "execution_count": 36,
     "metadata": {},
     "output_type": "execute_result"
    }
   ],
   "source": [
    "tempDf.head()"
   ]
  },
  {
   "cell_type": "code",
   "execution_count": null,
   "metadata": {
    "collapsed": true
   },
   "outputs": [],
   "source": [
    "# Need to comb looking for splits"
   ]
  }
 ],
 "metadata": {
  "kernelspec": {
   "display_name": "Python 2",
   "language": "python",
   "name": "python2"
  },
  "language_info": {
   "codemirror_mode": {
    "name": "ipython",
    "version": 2
   },
   "file_extension": ".py",
   "mimetype": "text/x-python",
   "name": "python",
   "nbconvert_exporter": "python",
   "pygments_lexer": "ipython2",
   "version": "2.7.13"
  }
 },
 "nbformat": 4,
 "nbformat_minor": 2
}

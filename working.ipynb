{
 "cells": [
  {
   "cell_type": "code",
   "execution_count": 1,
   "metadata": {
    "collapsed": true
   },
   "outputs": [],
   "source": [
    "import os\n",
    "import sys\n",
    "import types\n",
    "import pandas as pd\n",
    "import numpy  as np\n",
    "import matplotlib.pyplot as plt\n",
    "import seaborn as sas\n",
    "\n",
    "import read_clean_quote as rcq\n",
    "import calculate_trends as ct"
   ]
  },
  {
   "cell_type": "code",
   "execution_count": 2,
   "metadata": {
    "collapsed": false
   },
   "outputs": [],
   "source": [
    "n_roll    = 20\n",
    "n_mom     = 20\n",
    "n_rsi     = 15\n",
    "n_max     = 20\n",
    "days_pred = 5\n",
    "predictors_df, price_df = rcq.build_quote( 'IBM', n_roll, n_mom, n_rsi, n_max, days_pred )"
   ]
  },
  {
   "cell_type": "code",
   "execution_count": 3,
   "metadata": {
    "collapsed": false
   },
   "outputs": [
    {
     "data": {
      "text/html": [
       "<div>\n",
       "<table border=\"1\" class=\"dataframe\">\n",
       "  <thead>\n",
       "    <tr style=\"text-align: right;\">\n",
       "      <th></th>\n",
       "      <th>Volatility</th>\n",
       "      <th>Bollinger_20</th>\n",
       "      <th>RSI_15</th>\n",
       "      <th>Momentum_20</th>\n",
       "    </tr>\n",
       "    <tr>\n",
       "      <th>Date</th>\n",
       "      <th></th>\n",
       "      <th></th>\n",
       "      <th></th>\n",
       "      <th></th>\n",
       "    </tr>\n",
       "  </thead>\n",
       "  <tbody>\n",
       "    <tr>\n",
       "      <th>2004-02-06</th>\n",
       "      <td>0.354000</td>\n",
       "      <td>0.678560</td>\n",
       "      <td>0.448133</td>\n",
       "      <td>0.717125</td>\n",
       "    </tr>\n",
       "    <tr>\n",
       "      <th>2004-02-05</th>\n",
       "      <td>0.359296</td>\n",
       "      <td>0.681004</td>\n",
       "      <td>0.533333</td>\n",
       "      <td>0.718438</td>\n",
       "    </tr>\n",
       "    <tr>\n",
       "      <th>2004-02-04</th>\n",
       "      <td>0.364086</td>\n",
       "      <td>0.796002</td>\n",
       "      <td>0.552753</td>\n",
       "      <td>0.755391</td>\n",
       "    </tr>\n",
       "    <tr>\n",
       "      <th>2004-02-03</th>\n",
       "      <td>0.356890</td>\n",
       "      <td>0.815283</td>\n",
       "      <td>0.510990</td>\n",
       "      <td>0.748970</td>\n",
       "    </tr>\n",
       "    <tr>\n",
       "      <th>2004-02-02</th>\n",
       "      <td>0.346708</td>\n",
       "      <td>0.805872</td>\n",
       "      <td>0.505729</td>\n",
       "      <td>0.785454</td>\n",
       "    </tr>\n",
       "  </tbody>\n",
       "</table>\n",
       "</div>"
      ],
      "text/plain": [
       "            Volatility  Bollinger_20    RSI_15  Momentum_20\n",
       "Date                                                       \n",
       "2004-02-06    0.354000      0.678560  0.448133     0.717125\n",
       "2004-02-05    0.359296      0.681004  0.533333     0.718438\n",
       "2004-02-04    0.364086      0.796002  0.552753     0.755391\n",
       "2004-02-03    0.356890      0.815283  0.510990     0.748970\n",
       "2004-02-02    0.346708      0.805872  0.505729     0.785454"
      ]
     },
     "execution_count": 3,
     "metadata": {},
     "output_type": "execute_result"
    }
   ],
   "source": [
    "predictors_df.tail()"
   ]
  },
  {
   "cell_type": "code",
   "execution_count": 4,
   "metadata": {
    "collapsed": false
   },
   "outputs": [
    {
     "data": {
      "text/html": [
       "<div>\n",
       "<table border=\"1\" class=\"dataframe\">\n",
       "  <thead>\n",
       "    <tr style=\"text-align: right;\">\n",
       "      <th></th>\n",
       "      <th>Adj Close</th>\n",
       "      <th>Close_mean_20</th>\n",
       "      <th>Close_std_20</th>\n",
       "      <th>Diff_co</th>\n",
       "      <th>Diff_v</th>\n",
       "      <th>Close_1</th>\n",
       "      <th>Close_2</th>\n",
       "      <th>Close_3</th>\n",
       "      <th>Close_4</th>\n",
       "      <th>Close_5</th>\n",
       "    </tr>\n",
       "    <tr>\n",
       "      <th>Date</th>\n",
       "      <th></th>\n",
       "      <th></th>\n",
       "      <th></th>\n",
       "      <th></th>\n",
       "      <th></th>\n",
       "      <th></th>\n",
       "      <th></th>\n",
       "      <th></th>\n",
       "      <th></th>\n",
       "      <th></th>\n",
       "    </tr>\n",
       "  </thead>\n",
       "  <tbody>\n",
       "    <tr>\n",
       "      <th>2017-03-01</th>\n",
       "      <td>181.949997</td>\n",
       "      <td>178.651213</td>\n",
       "      <td>2.990200</td>\n",
       "      <td>0.581450</td>\n",
       "      <td>0.301502</td>\n",
       "      <td>1.184512</td>\n",
       "      <td>1.421406</td>\n",
       "      <td>0.330847</td>\n",
       "      <td>0.165154</td>\n",
       "      <td>0.441625</td>\n",
       "    </tr>\n",
       "    <tr>\n",
       "      <th>2017-02-28</th>\n",
       "      <td>179.820007</td>\n",
       "      <td>178.211260</td>\n",
       "      <td>3.123634</td>\n",
       "      <td>0.524529</td>\n",
       "      <td>0.297068</td>\n",
       "      <td>0.234121</td>\n",
       "      <td>-0.843672</td>\n",
       "      <td>-1.007425</td>\n",
       "      <td>-0.734191</td>\n",
       "      <td>-0.244085</td>\n",
       "    </tr>\n",
       "    <tr>\n",
       "      <th>2017-02-27</th>\n",
       "      <td>179.399994</td>\n",
       "      <td>177.941303</td>\n",
       "      <td>3.209412</td>\n",
       "      <td>0.401208</td>\n",
       "      <td>0.374564</td>\n",
       "      <td>-1.075275</td>\n",
       "      <td>-1.238646</td>\n",
       "      <td>-0.966050</td>\n",
       "      <td>-0.477089</td>\n",
       "      <td>-0.702941</td>\n",
       "    </tr>\n",
       "    <tr>\n",
       "      <th>2017-02-24</th>\n",
       "      <td>181.350006</td>\n",
       "      <td>177.766759</td>\n",
       "      <td>3.220811</td>\n",
       "      <td>0.563259</td>\n",
       "      <td>0.484011</td>\n",
       "      <td>-0.165146</td>\n",
       "      <td>0.110412</td>\n",
       "      <td>0.604688</td>\n",
       "      <td>0.376381</td>\n",
       "      <td>-0.044087</td>\n",
       "    </tr>\n",
       "    <tr>\n",
       "      <th>2017-02-23</th>\n",
       "      <td>181.649994</td>\n",
       "      <td>177.562180</td>\n",
       "      <td>3.109244</td>\n",
       "      <td>0.480769</td>\n",
       "      <td>0.248935</td>\n",
       "      <td>0.276014</td>\n",
       "      <td>0.771108</td>\n",
       "      <td>0.542423</td>\n",
       "      <td>0.121259</td>\n",
       "      <td>-0.016512</td>\n",
       "    </tr>\n",
       "  </tbody>\n",
       "</table>\n",
       "</div>"
      ],
      "text/plain": [
       "             Adj Close  Close_mean_20  Close_std_20   Diff_co    Diff_v  \\\n",
       "Date                                                                      \n",
       "2017-03-01  181.949997     178.651213      2.990200  0.581450  0.301502   \n",
       "2017-02-28  179.820007     178.211260      3.123634  0.524529  0.297068   \n",
       "2017-02-27  179.399994     177.941303      3.209412  0.401208  0.374564   \n",
       "2017-02-24  181.350006     177.766759      3.220811  0.563259  0.484011   \n",
       "2017-02-23  181.649994     177.562180      3.109244  0.480769  0.248935   \n",
       "\n",
       "             Close_1   Close_2   Close_3   Close_4   Close_5  \n",
       "Date                                                          \n",
       "2017-03-01  1.184512  1.421406  0.330847  0.165154  0.441625  \n",
       "2017-02-28  0.234121 -0.843672 -1.007425 -0.734191 -0.244085  \n",
       "2017-02-27 -1.075275 -1.238646 -0.966050 -0.477089 -0.702941  \n",
       "2017-02-24 -0.165146  0.110412  0.604688  0.376381 -0.044087  \n",
       "2017-02-23  0.276014  0.771108  0.542423  0.121259 -0.016512  "
      ]
     },
     "execution_count": 4,
     "metadata": {},
     "output_type": "execute_result"
    }
   ],
   "source": [
    "price_df.head()"
   ]
  },
  {
   "cell_type": "code",
   "execution_count": null,
   "metadata": {
    "collapsed": true
   },
   "outputs": [],
   "source": []
  },
  {
   "cell_type": "code",
   "execution_count": 8,
   "metadata": {
    "collapsed": true
   },
   "outputs": [],
   "source": [
    "# Data should be cleaned, need to plot some trends and check for correlation\n",
    "# [ 'Diff_co', 'Diff_ao', 'Diff_hl', 'Diff_v'] ]\n",
    "# [ 'Close_mean_n', 'Close_std_n' ]\n",
    "# [ 'Momentum_n' ]\n",
    "#\n",
    "# Diff co, v, have different info, co same as hl basically\n",
    "# Momentum 3 correlated with co, 5 a little less, 10 at limit\n",
    "# HUGE autocorrelation with momentum, long momentum really tracks trends, until at/past scale of momentum"
   ]
  },
  {
   "cell_type": "code",
   "execution_count": null,
   "metadata": {
    "collapsed": true
   },
   "outputs": [],
   "source": [
    "from sklearn.decomposition import PCA"
   ]
  },
  {
   "cell_type": "code",
   "execution_count": 9,
   "metadata": {
    "collapsed": true
   },
   "outputs": [],
   "source": [
    "from sklearn.tree import DecisionTreeClassifier\n",
    "from sklearn.svm  import SVR\n",
    "from sklearn.linear_model import SGDRegressor\n",
    "from sklearn.linear_model import Lasso\n",
    "from sklearn.linear_model import Ridge"
   ]
  },
  {
   "cell_type": "code",
   "execution_count": 10,
   "metadata": {
    "collapsed": false
   },
   "outputs": [
    {
     "name": "stdout",
     "output_type": "stream",
     "text": [
      "3293\n"
     ]
    }
   ],
   "source": [
    "print predictors_df.shape[0]"
   ]
  },
  {
   "cell_type": "code",
   "execution_count": 13,
   "metadata": {
    "collapsed": false
   },
   "outputs": [],
   "source": [
    "N_train = 2500\n",
    "N_test  = 700\n",
    "off     = days_pred\n",
    "\n",
    "# Put things in right cronological order\n",
    "price_df      =      price_df[::-1]\n",
    "predictors_df = predictors_df[::-1]\n",
    "\n",
    "# Labels need to be stored as a list, because will use diff CLF for each\n",
    "train_label_list = []\n",
    "test_label_list  = []\n",
    "\n",
    "# Features are constant for each clf\n",
    "train_features = predictors_df[:N_train]\n",
    "test_features  = predictors_df[ N_train+off:N_train+off+N_test]\n",
    "\n",
    "# Loop over offsets so have training data for each day\n",
    "for offset in range( 1, off+1 ):\n",
    "    \n",
    "    # Train data from 0 to N_train\n",
    "    # Train labels from ^+offset\n",
    "    # Test data from N_train+o to N_train + N_test + o\n",
    "    # Test labels from ^+offset\n",
    "    \n",
    "    train_label_list.append(  price_df.ix[:N_train                       ,'Close_'+str(offset)].values )\n",
    "    test_label_list.append(   price_df.ix[ N_train+off:N_train+off+N_test,'Close_'+str(offset)].values )"
   ]
  },
  {
   "cell_type": "code",
   "execution_count": 32,
   "metadata": {
    "collapsed": false,
    "scrolled": true
   },
   "outputs": [
    {
     "name": "stdout",
     "output_type": "stream",
     "text": [
      "[ 0.77235332  0.10325975  0.08072967]\n"
     ]
    }
   ],
   "source": [
    "my_pca = PCA( n_components=3 )\n",
    "my_pca.fit( train_features )\n",
    "trans_train_features = my_pca.transform( train_features )\n",
    "trans_test_features  = my_pca.transform( test_features  )\n",
    "print my_pca.explained_variance_ratio_"
   ]
  },
  {
   "cell_type": "code",
   "execution_count": 39,
   "metadata": {
    "collapsed": false
   },
   "outputs": [],
   "source": [
    "clf_list  = []\n",
    "pred_list = []\n",
    "\n",
    "for i in range( 0, off ):\n",
    "    \n",
    "    clf_list.append( SVR( C=100, epsilon=0.02 ) )\n",
    "    \n",
    "    clf_list[i].fit( trans_train_features, train_label_list[i] )\n",
    "    \n",
    "    pred = clf_list[i].predict( trans_train_features )\n",
    "    \n",
    "    pred_list.append( pred )"
   ]
  },
  {
   "cell_type": "code",
   "execution_count": 40,
   "metadata": {
    "collapsed": false
   },
   "outputs": [
    {
     "name": "stdout",
     "output_type": "stream",
     "text": [
      "100 69.681656         69.59013      69.54204      69.47028      69.40700      69.43264     \n",
      "101 69.028022         68.87176      68.71511      68.56464      68.38897      68.26445     \n",
      "102 68.701208         68.49772      68.29288      68.11568      67.90709      67.72055     \n",
      "103 68.592271         68.37693      68.16985      68.00101      67.79722      67.61639     \n",
      "104 68.086484         67.65584      67.28219      67.03985      66.81402      66.52722     \n",
      "105 67.728544        \n",
      "106 66.685845        \n",
      "107 66.413501        \n",
      "108 65.09068        \n",
      "109 65.27743        \n"
     ]
    }
   ],
   "source": [
    "# i price, p1, p2, p3, p4, p5\n",
    "# ' '\n",
    "for i in range( 100, 110 ):\n",
    "    \n",
    "    print i, price_df.ix[i,'Adj Close'], '     ',\n",
    "    \n",
    "    if ( i < 105 ):\n",
    "        for j in range( 0, off ):\n",
    "            print '%10.5f' % ((pred_list[j][i]/100. + 1. ) * price_df.ix[i,'Adj Close']), '  ',\n",
    "        \n",
    "    print ' '\n",
    "        \n",
    "#print clf_list[i].score( train_features, (train_label_list[i]/100.+1.0)*price_df.ix[0,'Adj Close'] ), price_df.ix[0,'Adj Close'],\n",
    "#print clf_list[i].predict( test_features.iloc[0] ), test_label_list[i][0]"
   ]
  },
  {
   "cell_type": "code",
   "execution_count": null,
   "metadata": {
    "collapsed": true
   },
   "outputs": [],
   "source": []
  }
 ],
 "metadata": {
  "kernelspec": {
   "display_name": "Python 2",
   "language": "python",
   "name": "python2"
  },
  "language_info": {
   "codemirror_mode": {
    "name": "ipython",
    "version": 2
   },
   "file_extension": ".py",
   "mimetype": "text/x-python",
   "name": "python",
   "nbconvert_exporter": "python",
   "pygments_lexer": "ipython2",
   "version": "2.7.13"
  }
 },
 "nbformat": 4,
 "nbformat_minor": 2
}

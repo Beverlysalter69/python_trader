{
 "cells": [
  {
   "cell_type": "code",
   "execution_count": 1,
   "metadata": {
    "collapsed": true
   },
   "outputs": [],
   "source": [
    "import numpy  as np\n",
    "import pandas as pd\n",
    "import matplotlib.pyplot as plt\n",
    "import seaborn as sns\n",
    "\n",
    "import read_quote      as rq\n",
    "import stock_functions as sf\n",
    "import df_visualizations as dv\n",
    "import remap_values as rv\n",
    "import fill_values as fv\n",
    "\n",
    "import random\n",
    "import pickle\n",
    "\n",
    "import sys\n",
    "import time"
   ]
  },
  {
   "cell_type": "code",
   "execution_count": 2,
   "metadata": {
    "collapsed": true
   },
   "outputs": [],
   "source": [
    "from sklearn.svm            import SVR\n",
    "from sklearn.ensemble       import RandomForestRegressor\n",
    "from sklearn.linear_model   import ElasticNet\n",
    "from sklearn.neural_network import MLPRegressor\n",
    "from sklearn.ensemble       import BaggingRegressor\n",
    "from sklearn.ensemble       import AdaBoostRegressor\n",
    "\n",
    "from sklearn.multioutput    import MultiOutputRegressor\n",
    "\n",
    "from sklearn.utils          import shuffle\n",
    "\n",
    "from sklearn.metrics        import mean_squared_error\n",
    "\n",
    "from sklearn.model_selection import cross_val_score\n",
    "from sklearn.model_selection import GridSearchCV\n",
    "\n",
    "from sklearn.multioutput    import MultiOutputRegressor"
   ]
  },
  {
   "cell_type": "code",
   "execution_count": 3,
   "metadata": {
    "collapsed": true
   },
   "outputs": [],
   "source": [
    "%matplotlib inline\n",
    "plt.style.use('dark_background')\n",
    "plt.rcParams['figure.figsize'] = (14, 10)"
   ]
  },
  {
   "cell_type": "code",
   "execution_count": 4,
   "metadata": {
    "collapsed": true
   },
   "outputs": [],
   "source": [
    "roll_nums = [3,5,8,10,15,20,25,30]  # Generate an algorithm for predicting every few days\n",
    "mom_nums  = [3,5,8,10,15,20,25,30]  # Momentum has many good tracers\n",
    "rsi_nums  = [10,15,20,25,30]        # Good for some long term trends\n",
    "band_nums = [5,8,10,15,20,25]       # A few trace different areas well"
   ]
  },
  {
   "cell_type": "code",
   "execution_count": 5,
   "metadata": {
    "collapsed": true
   },
   "outputs": [],
   "source": [
    "inpFileList = ['aapl','acm' ,'awk' ,'amzn','awr' ,'ba'  ,'bac' ,'c'   ,'cat' ,'cop' ,'cvx' ,'dal' ,\n",
    "               'dd'  ,'farm','fdp' ,'gnc' ,'hes' ,'ibm' ,'mas' ,'mcd' ,'mon' ,'msex','msft','nflx',\n",
    "               'sbux','strl','tgt' ,'tsla','ups' ,'xom' ,'xpo' ,'vmc' ]"
   ]
  },
  {
   "cell_type": "code",
   "execution_count": null,
   "metadata": {
    "collapsed": true
   },
   "outputs": [],
   "source": []
  },
  {
   "cell_type": "code",
   "execution_count": 6,
   "metadata": {
    "collapsed": false
   },
   "outputs": [],
   "source": [
    "scaled_df = sf.get_scaled_data( inpFileList, roll_nums, mom_nums, rsi_nums, band_nums )"
   ]
  },
  {
   "cell_type": "code",
   "execution_count": 6,
   "metadata": {
    "collapsed": false
   },
   "outputs": [],
   "source": [
    "#scaled_df = sf.gen_pca_attributes( scaled_df, mom_nums, rsi_nums, band_nums, n_mom=3, n_rsi=2, n_ban=2 )"
   ]
  },
  {
   "cell_type": "code",
   "execution_count": 7,
   "metadata": {
    "collapsed": true
   },
   "outputs": [],
   "source": [
    "# Read in each stock, and perform reduction\n",
    "#    Break into train, test sets\n",
    "#    Store train, test sets in arrays\n",
    "# For each regressor predicting a certain num of days...\n",
    "#    Manually cross validate, testing and scoring each set"
   ]
  },
  {
   "cell_type": "code",
   "execution_count": null,
   "metadata": {
    "collapsed": true
   },
   "outputs": [],
   "source": []
  },
  {
   "cell_type": "code",
   "execution_count": 7,
   "metadata": {
    "collapsed": true
   },
   "outputs": [],
   "source": [
    "# Mix up the list\n",
    "shuff_scaled_df = shuffle( scaled_df )\n",
    "\n",
    "\n",
    "# Seperate features from target data\n",
    "close_list = ['close']\n",
    "for i in roll_nums:\n",
    "    close_list.append( 'close_mean_'+str(i) )\n",
    "\n",
    "targets  = shuff_scaled_df[close_list]\n",
    "features = shuff_scaled_df.drop( close_list, axis=1 )\n",
    "\n",
    "\n",
    "\n",
    "n_elements = shuff_scaled_df.shape[0]\n",
    "\n",
    "# Set the fraction of data we will train over\n",
    "percent_train = 0.8\n",
    "\n",
    "# Size of training set\n",
    "n_train = int( percent_train * n_elements )\n",
    "\n",
    "\n",
    "# Seperate training and test data\n",
    "train_features = features[ : n_train   ]\n",
    "test_features  = features[   n_train : ]\n",
    "\n",
    "train_targets  =  targets[ : n_train   ].drop( 'close', axis=1 )\n",
    "test_targets   =  targets[   n_train : ].drop( 'close', axis=1 )"
   ]
  },
  {
   "cell_type": "code",
   "execution_count": null,
   "metadata": {
    "collapsed": true
   },
   "outputs": [],
   "source": []
  },
  {
   "cell_type": "code",
   "execution_count": 8,
   "metadata": {
    "collapsed": false
   },
   "outputs": [
    {
     "data": {
      "text/plain": [
       "MultiOutputRegressor(estimator=AdaBoostRegressor(base_estimator=RandomForestRegressor(bootstrap=True, criterion='mse', max_depth=None,\n",
       "           max_features=0.7, max_leaf_nodes=None, min_impurity_split=1e-07,\n",
       "           min_samples_leaf=1, min_samples_split=2,\n",
       "           min_weight_fraction_leaf=0.0, n_estimators=20, n_jobs=1,\n",
       "           oob_score=False, random_state=None, verbose=0, warm_start=False),\n",
       "         learning_rate=1.0, loss='exponential', n_estimators=5,\n",
       "         random_state=None),\n",
       "           n_jobs=1)"
      ]
     },
     "execution_count": 8,
     "metadata": {},
     "output_type": "execute_result"
    }
   ],
   "source": [
    "# Gets the location of not null values\n",
    "train_not_null_locations = train_targets.notnull().all( axis=1 )==1\n",
    "test_not_null_locations  =  test_targets.notnull().all( axis=1 )==1\n",
    "\n",
    "# Take features and targets that are not null\n",
    "train_x = train_features[ train_not_null_locations ].values\n",
    "test_x  =  test_features[  test_not_null_locations ].values\n",
    "\n",
    "train_y = train_targets[ train_not_null_locations ].values\n",
    "test_y  =  test_targets[  test_not_null_locations ].values\n",
    "\n",
    "ad_mult_reg = MultiOutputRegressor( AdaBoostRegressor( base_estimator=RandomForestRegressor( n_estimators=20, max_features=0.7 ), \n",
    "#                            loss='exponential', n_estimators=10 ) )\n",
    "                            loss='exponential', n_estimators=5 ) )\n",
    "#                            loss='exponential', n_estimators=3 ) )\n",
    "\n",
    "ad_mult_reg.fit( train_x, train_y )"
   ]
  },
  {
   "cell_type": "code",
   "execution_count": null,
   "metadata": {
    "collapsed": true
   },
   "outputs": [],
   "source": []
  },
  {
   "cell_type": "code",
   "execution_count": 9,
   "metadata": {
    "collapsed": false
   },
   "outputs": [
    {
     "name": "stdout",
     "output_type": "stream",
     "text": [
      " close_mean_3 MSE :  0.28736, Percent ME : 36.03992\n",
      " close_mean_5 MSE :  0.01817, Percent ME :  9.06243\n",
      " close_mean_7 MSE :  0.02099, Percent ME :  9.73959\n",
      "close_mean_10 MSE :  0.00909, Percent ME :  6.41166\n",
      "close_mean_12 MSE :  0.02232, Percent ME : 10.04452\n",
      "close_mean_15 MSE :  0.02216, Percent ME : 10.00922\n"
     ]
    }
   ],
   "source": [
    "test_60 = ad_mult_reg.predict( test_x )\n",
    "\n",
    "for i in range( 1, len( close_list[1:] ) ) :\n",
    "    mse = mean_squared_error( test_y[i-1], test_60[i-1] )\n",
    "    print '%13s MSE : %8.5f, Percent ME : %8.5f' % ( close_list[i], mse, np.sqrt(mse)/np.mean(test_y) )"
   ]
  },
  {
   "cell_type": "code",
   "execution_count": 29,
   "metadata": {
    "collapsed": false
   },
   "outputs": [
    {
     "name": "stdout",
     "output_type": "stream",
     "text": [
      " close_mean_3 MSE :  0.11175, Percent ME : 22.26275\n",
      " close_mean_5 MSE :  0.02046, Percent ME :  9.52490\n",
      " close_mean_7 MSE :  0.01597, Percent ME :  8.41539\n",
      "close_mean_10 MSE :  0.00119, Percent ME :  2.29876\n",
      "close_mean_12 MSE :  0.23849, Percent ME : 32.52288\n",
      "close_mean_15 MSE :  0.26986, Percent ME : 34.59590\n"
     ]
    }
   ],
   "source": [
    "test_70 = ad_mult_reg.predict( test_x )\n",
    "\n",
    "for i in range( 1, len( close_list[1:] ) ) :\n",
    "    mse = mean_squared_error( test_y[i-1], test_70[i-1] )\n",
    "    print '%13s MSE : %8.5f, Percent ME : %8.5f' % ( close_list[i], mse, np.sqrt(mse)/np.mean(test_y) )"
   ]
  },
  {
   "cell_type": "code",
   "execution_count": 12,
   "metadata": {
    "collapsed": false
   },
   "outputs": [
    {
     "name": "stdout",
     "output_type": "stream",
     "text": [
      " close_mean_3 MSE :  0.00034, Percent ME :  1.28400\n",
      " close_mean_5 MSE :  0.00052, Percent ME :  1.57940\n",
      " close_mean_7 MSE :  0.00769, Percent ME :  6.09548\n",
      "close_mean_10 MSE :  0.00520, Percent ME :  5.01383\n",
      "close_mean_12 MSE :  0.04772, Percent ME : 15.18780\n",
      "close_mean_15 MSE :  0.01710, Percent ME :  9.09208\n",
      "close_mean_20 MSE :  0.04250, Percent ME : 14.33349\n",
      "close_mean_25 MSE :  0.10339, Percent ME : 22.35573\n"
     ]
    }
   ],
   "source": [
    "test_80 = ad_mult_reg.predict( test_x )\n",
    "\n",
    "for i in range( 1, len( close_list[1:] )+1 ) :\n",
    "    mse = mean_squared_error( test_y[i-1], test_80[i-1] )\n",
    "    print '%13s MSE : %8.5f, Percent ME : %8.5f' % ( close_list[i], mse, np.sqrt(mse)/np.mean(test_y) )"
   ]
  },
  {
   "cell_type": "code",
   "execution_count": 8,
   "metadata": {
    "collapsed": false
   },
   "outputs": [
    {
     "name": "stdout",
     "output_type": "stream",
     "text": [
      " close_mean_3 MSE :  0.00052, Percent ME :  1.58310\n",
      " close_mean_5 MSE :  0.01097, Percent ME :  7.28296\n",
      " close_mean_7 MSE :  0.02160, Percent ME : 10.21904\n",
      "close_mean_10 MSE :  0.00542, Percent ME :  5.11623\n",
      "close_mean_12 MSE :  0.04154, Percent ME : 14.17041\n",
      "close_mean_15 MSE :  0.01140, Percent ME :  7.42228\n",
      "close_mean_20 MSE :  0.01214, Percent ME :  7.66086\n",
      "close_mean_25 MSE :  0.06858, Percent ME : 18.20686\n"
     ]
    }
   ],
   "source": [
    "test_80_5 = ad_mult_reg.predict( test_x )\n",
    "\n",
    "for i in range( 1, len( close_list[1:] )+1 ) :\n",
    "    mse = mean_squared_error( test_y[i-1], test_80_5[i-1] )\n",
    "    print '%13s MSE : %8.5f, Percent ME : %8.5f' % ( close_list[i], mse, np.sqrt(mse)/np.mean(test_y) )"
   ]
  },
  {
   "cell_type": "code",
   "execution_count": 8,
   "metadata": {
    "collapsed": false
   },
   "outputs": [
    {
     "name": "stdout",
     "output_type": "stream",
     "text": [
      " close_mean_3 MSE :  0.04622, Percent ME : 16.03829\n",
      " close_mean_5 MSE :  0.00280, Percent ME :  3.95061\n",
      " close_mean_7 MSE :  0.06953, Percent ME : 19.67037\n",
      "close_mean_10 MSE :  0.03379, Percent ME : 13.71227\n",
      "close_mean_12 MSE :  0.00471, Percent ME :  5.11735\n",
      "close_mean_15 MSE :  0.26712, Percent ME : 38.55589\n",
      "close_mean_18 MSE :  0.02227, Percent ME : 11.13333\n",
      "close_mean_20 MSE :  0.00127, Percent ME :  2.66170\n",
      "close_mean_23 MSE :  0.00853, Percent ME :  6.89029\n",
      "close_mean_25 MSE :  0.02849, Percent ME : 12.59120\n",
      "close_mean_28 MSE :  0.00738, Percent ME :  6.40677\n",
      "close_mean_30 MSE :  0.02438, Percent ME : 11.64905\n"
     ]
    }
   ],
   "source": [
    "test_all = ad_mult_reg.predict( test_x )\n",
    "\n",
    "for i in range( 1, len( close_list[1:] )+1 ) :\n",
    "    mse = mean_squared_error( test_y[i-1], test_all[i-1] )\n",
    "    print '%13s MSE : %8.5f, Percent ME : %8.5f' % ( close_list[i], mse, np.sqrt(mse)/np.mean(test_y) )"
   ]
  },
  {
   "cell_type": "code",
   "execution_count": 8,
   "metadata": {
    "collapsed": false
   },
   "outputs": [
    {
     "name": "stdout",
     "output_type": "stream",
     "text": [
      " close_mean_3 MSE :  0.01164, Percent ME :  8.63749\n",
      " close_mean_5 MSE :  0.00212, Percent ME :  3.68463\n",
      " close_mean_7 MSE :  0.08406, Percent ME : 23.21046\n",
      "close_mean_10 MSE :  0.00056, Percent ME :  1.89508\n",
      "close_mean_12 MSE :  0.00012, Percent ME :  0.86886\n",
      "close_mean_15 MSE :  0.00403, Percent ME :  5.08291\n",
      "close_mean_18 MSE :  0.01355, Percent ME :  9.31947\n",
      "close_mean_20 MSE :  0.04023, Percent ME : 16.05616\n",
      "close_mean_23 MSE :  0.00035, Percent ME :  1.48873\n",
      "close_mean_25 MSE :  0.00362, Percent ME :  4.81892\n",
      "close_mean_28 MSE :  0.08284, Percent ME : 23.04127\n",
      "close_mean_30 MSE :  0.00043, Percent ME :  1.66966\n"
     ]
    }
   ],
   "source": [
    "test_80_3_all = ad_mult_reg.predict( test_x )\n",
    "\n",
    "for i in range( 1, len( close_list[1:] )+1 ) :\n",
    "    mse = mean_squared_error( test_y[i-1], test_80_3_all[i-1] )\n",
    "    print '%13s MSE : %8.5f, Percent ME : %8.5f' % ( close_list[i], mse, np.sqrt(mse)/np.mean(test_y) )"
   ]
  },
  {
   "cell_type": "code",
   "execution_count": 9,
   "metadata": {
    "collapsed": false
   },
   "outputs": [
    {
     "name": "stdout",
     "output_type": "stream",
     "text": [
      " close_mean_3 MSE :  0.00222, Percent ME :  0.42910\n",
      " close_mean_5 MSE :  0.01836, Percent ME :  1.23313\n",
      " close_mean_8 MSE :  0.01501, Percent ME :  1.11468\n",
      "close_mean_10 MSE :  0.01245, Percent ME :  1.01514\n",
      "close_mean_15 MSE :  0.00850, Percent ME :  0.83905\n",
      "close_mean_20 MSE :  0.01199, Percent ME :  0.99655\n",
      "close_mean_25 MSE :  0.00141, Percent ME :  0.34111\n",
      "close_mean_30 MSE :  0.00918, Percent ME :  0.87200\n"
     ]
    }
   ],
   "source": [
    "test_80_3_most = ad_mult_reg.predict( test_x )\n",
    "\n",
    "for i in range( 1, len( close_list[1:] )+1 ) :\n",
    "    mse = mean_squared_error( test_y[i-1], test_80_3_most[i-1] )\n",
    "    print '%13s MSE : %8.5f, Percent ME : %8.5f' % ( close_list[i], mse, np.sqrt(mse)/np.mean(abs(test_y) ) )"
   ]
  },
  {
   "cell_type": "code",
   "execution_count": 9,
   "metadata": {
    "collapsed": false
   },
   "outputs": [
    {
     "name": "stdout",
     "output_type": "stream",
     "text": [
      " close_mean_3 MSE :  0.00649, Percent ME : 12.98574\n",
      " close_mean_5 MSE :  0.00211, Percent ME :  7.41025\n",
      " close_mean_8 MSE :  0.00104, Percent ME :  5.20778\n",
      "close_mean_10 MSE :  0.00210, Percent ME :  7.37992\n",
      "close_mean_15 MSE :  0.00080, Percent ME :  4.55972\n",
      "close_mean_20 MSE :  0.00079, Percent ME :  4.52991\n",
      "close_mean_25 MSE :  0.00005, Percent ME :  1.13432\n",
      "close_mean_30 MSE :  0.00121, Percent ME :  5.60555\n"
     ]
    }
   ],
   "source": [
    "test_80_5_most = ad_mult_reg.predict( test_x )\n",
    "\n",
    "for i in range( 1, len( close_list[1:] )+1 ) :\n",
    "    mse = mean_squared_error( test_y[i-1], test_80_5_most[i-1] )\n",
    "    print '%13s MSE : %8.5f, Percent ME : %8.5f' % ( close_list[i], mse, np.sqrt(mse)/np.mean(test_y) )"
   ]
  },
  {
   "cell_type": "code",
   "execution_count": null,
   "metadata": {
    "collapsed": true
   },
   "outputs": [],
   "source": []
  },
  {
   "cell_type": "code",
   "execution_count": 10,
   "metadata": {
    "collapsed": false
   },
   "outputs": [
    {
     "name": "stdout",
     "output_type": "stream",
     "text": [
      " close_mean_3   RMSE :  0.08055,   RMSE/mean :  1.74393\n",
      " close_mean_5   RMSE :  0.04596,   RMSE/mean :  0.99516\n",
      " close_mean_8   RMSE :  0.03230,   RMSE/mean :  0.69938\n",
      "close_mean_10   RMSE :  0.04578,   RMSE/mean :  0.99109\n",
      "close_mean_15   RMSE :  0.02828,   RMSE/mean :  0.61235\n",
      "close_mean_20   RMSE :  0.02810,   RMSE/mean :  0.60835\n",
      "close_mean_25   RMSE :  0.00704,   RMSE/mean :  0.15233\n",
      "close_mean_30   RMSE :  0.03477,   RMSE/mean :  0.75280\n",
      "{'std_25': 0.0070359109472509828, 'std_30': 0.034769905905065297, 'std_20': 0.028097955342065623, 'std_15': 0.02828284048045128, 'std_10': 0.04577586641613135, 'std_5': 0.045963995633090886, 'std_3': 0.080547427926956711, 'std_8': 0.03230259625805873}\n"
     ]
    }
   ],
   "source": [
    "pred_values = test_80_5_most\n",
    "\n",
    "std_dict = {}\n",
    "\n",
    "for i in range( 0, len( close_list[1:] ) ) :\n",
    "    rmse = np.sqrt( mean_squared_error( test_y[i], pred_values[i] ) )\n",
    "    col  = 'std_' + str( roll_nums[i] )\n",
    "    std_dict[col] = rmse\n",
    "    print '%13s   RMSE : %8.5f,   RMSE/mean : %8.5f' % ( close_list[i+1], rmse, rmse/np.mean( abs(test_y)) )\n",
    "    \n",
    "print std_dict"
   ]
  },
  {
   "cell_type": "code",
   "execution_count": null,
   "metadata": {
    "collapsed": true
   },
   "outputs": [],
   "source": []
  },
  {
   "cell_type": "code",
   "execution_count": 109,
   "metadata": {
    "collapsed": true
   },
   "outputs": [],
   "source": [
    "#with open( 'data/temp.pkl', 'wb' ) as handle:\n",
    "#    pickle.dump( ad_mult_reg, handle, protocol=pickle.HIGHEST_PROTOCOL)"
   ]
  },
  {
   "cell_type": "code",
   "execution_count": 30,
   "metadata": {
    "collapsed": true
   },
   "outputs": [],
   "source": [
    "with open( 'data/temp.pkl', 'rb' ) as handle:\n",
    "    ad_mult_reg = pickle.load( handle )"
   ]
  },
  {
   "cell_type": "code",
   "execution_count": null,
   "metadata": {
    "collapsed": true
   },
   "outputs": [],
   "source": []
  },
  {
   "cell_type": "code",
   "execution_count": 14,
   "metadata": {
    "collapsed": true
   },
   "outputs": [],
   "source": [
    "# Test on this quote"
   ]
  },
  {
   "cell_type": "code",
   "execution_count": 31,
   "metadata": {
    "collapsed": false
   },
   "outputs": [],
   "source": [
    "quote_name = 'aapl'\n",
    "\n",
    "\n",
    "# Generate df with the actual rolling averages\n",
    "close_df = rq.readQuote( 'quotes/'+ quote_name +'.csv' )\n",
    "close_df = pd.merge( close_df['close'].to_frame(), sf.generate_rolling_close( close_df, roll_nums, onlyMean=True ), \n",
    "                    left_index=True, right_index=True )\n",
    "close_means = close_df.columns.values\n",
    "\n",
    "\n",
    "# Generate predicted rolling mean percentage increases\n",
    "pred_df     = sf.get_scaled_data( [quote_name], roll_nums, mom_nums, rsi_nums, band_nums ).dropna()\n",
    "pred_values = ad_mult_reg.predict( pred_df.drop( close_means, axis=1 ) )\n",
    "\n",
    "\n",
    "# Adjust close to match pred df shape\n",
    "close_df = close_df.ix[ pred_df.index.values ].dropna()\n",
    "\n",
    "# Pred percent increase = future/now - 1\n",
    "for i in range( 0 , pred_values.shape[1] ):\n",
    "    close_df[ 'pred_mean_' + str( roll_nums[i] ) ] = ( pred_values[:,i] + 1 ) * close_df[ 'close_mean_' + str( roll_nums[i] ) ]\n",
    "    close_df[ 'pred_mean_' + str( roll_nums[i] ) ] = close_df[ 'pred_mean_' + str( roll_nums[i] ) ].shift( -roll_nums[i]+1 )\n",
    "#    close_df[ 'pred_mean_' + str( roll_nums[i] ) ] = ( close_df[ 'pred_mean_' + str( roll_nums[i] ) ] + \n",
    "#                                                       close_df[ 'pred_mean_' + str( roll_nums[i] ) ].shift(-1) ) / 2.\n",
    "close_df = close_df.dropna()"
   ]
  },
  {
   "cell_type": "code",
   "execution_count": 32,
   "metadata": {
    "collapsed": true
   },
   "outputs": [],
   "source": [
    "del ad_mult_reg"
   ]
  },
  {
   "cell_type": "code",
   "execution_count": null,
   "metadata": {
    "collapsed": true
   },
   "outputs": [],
   "source": []
  },
  {
   "cell_type": "code",
   "execution_count": 16,
   "metadata": {
    "collapsed": true
   },
   "outputs": [],
   "source": [
    "# Smooth and shift"
   ]
  },
  {
   "cell_type": "code",
   "execution_count": 33,
   "metadata": {
    "collapsed": true
   },
   "outputs": [],
   "source": [
    "temp = close_df.copy()"
   ]
  },
  {
   "cell_type": "code",
   "execution_count": 34,
   "metadata": {
    "collapsed": false
   },
   "outputs": [],
   "source": [
    "with open( 'data/smooth_shift.pkl', 'rb' ) as handle:\n",
    "    smooth_shift = pickle.load( handle )\n",
    "    \n",
    "    # Tweak the difference in rolling means per day\n",
    "    # Lots of noise, this may force less noise, might not. We will see\n",
    "    for i in range( 0, len(roll_nums) ):\n",
    "\n",
    "        roll = str( roll_nums[i] )\n",
    "        if ( smooth_shift['smooth_'+str(roll_nums[i])] > 1 ):\n",
    "            close_df['pred_mean_'+roll] = close_df['pred_mean_'+roll].values[::-1]\n",
    "            close_df['pred_mean_'+roll] = close_df['pred_mean_'+roll].rolling( smooth_shift['smooth_'+str(roll_nums[i])]).mean()\n",
    "            close_df['pred_mean_'+roll] = close_df['pred_mean_'+roll].shift  (-smooth_shift[ 'shift_'+str(roll_nums[i])])\n",
    "            close_df['pred_mean_'+roll] = close_df['pred_mean_'+roll].values[::-1]\n",
    "        else:\n",
    "            close_df['pred_mean_'+roll] = close_df['pred_mean_'+roll]"
   ]
  },
  {
   "cell_type": "code",
   "execution_count": null,
   "metadata": {
    "collapsed": true
   },
   "outputs": [],
   "source": []
  },
  {
   "cell_type": "code",
   "execution_count": 77,
   "metadata": {
    "collapsed": false
   },
   "outputs": [
    {
     "data": {
      "text/html": [
       "<div>\n",
       "<table border=\"1\" class=\"dataframe\">\n",
       "  <thead>\n",
       "    <tr style=\"text-align: right;\">\n",
       "      <th></th>\n",
       "      <th>close</th>\n",
       "      <th>pred_1</th>\n",
       "      <th>pred_2</th>\n",
       "      <th>pred_3</th>\n",
       "      <th>pred_4</th>\n",
       "      <th>pred_5</th>\n",
       "      <th>pred_6</th>\n",
       "      <th>pred_7</th>\n",
       "      <th>pred_8</th>\n",
       "      <th>pred_9</th>\n",
       "      <th>...</th>\n",
       "      <th>pred_20</th>\n",
       "      <th>pred_21</th>\n",
       "      <th>pred_22</th>\n",
       "      <th>pred_23</th>\n",
       "      <th>pred_24</th>\n",
       "      <th>pred_25</th>\n",
       "      <th>pred_26</th>\n",
       "      <th>pred_27</th>\n",
       "      <th>pred_28</th>\n",
       "      <th>pred_29</th>\n",
       "    </tr>\n",
       "    <tr>\n",
       "      <th>date</th>\n",
       "      <th></th>\n",
       "      <th></th>\n",
       "      <th></th>\n",
       "      <th></th>\n",
       "      <th></th>\n",
       "      <th></th>\n",
       "      <th></th>\n",
       "      <th></th>\n",
       "      <th></th>\n",
       "      <th></th>\n",
       "      <th></th>\n",
       "      <th></th>\n",
       "      <th></th>\n",
       "      <th></th>\n",
       "      <th></th>\n",
       "      <th></th>\n",
       "      <th></th>\n",
       "      <th></th>\n",
       "      <th></th>\n",
       "      <th></th>\n",
       "      <th></th>\n",
       "    </tr>\n",
       "  </thead>\n",
       "  <tbody>\n",
       "    <tr>\n",
       "      <th>2017/01/26</th>\n",
       "      <td>121.94</td>\n",
       "      <td>121.217051</td>\n",
       "      <td>120.494102</td>\n",
       "      <td>119.376143</td>\n",
       "      <td>119.041432</td>\n",
       "      <td>120.164515</td>\n",
       "      <td>120.114399</td>\n",
       "      <td>120.064283</td>\n",
       "      <td>123.801552</td>\n",
       "      <td>125.557383</td>\n",
       "      <td>...</td>\n",
       "      <td>119.237909</td>\n",
       "      <td>118.694575</td>\n",
       "      <td>118.151241</td>\n",
       "      <td>117.607907</td>\n",
       "      <td>117.064573</td>\n",
       "      <td>106.519019</td>\n",
       "      <td>106.463912</td>\n",
       "      <td>106.408805</td>\n",
       "      <td>106.353697</td>\n",
       "      <td>106.298590</td>\n",
       "    </tr>\n",
       "    <tr>\n",
       "      <th>2017/01/25</th>\n",
       "      <td>121.88</td>\n",
       "      <td>120.782651</td>\n",
       "      <td>119.685302</td>\n",
       "      <td>119.965913</td>\n",
       "      <td>119.817415</td>\n",
       "      <td>120.022901</td>\n",
       "      <td>120.034299</td>\n",
       "      <td>120.045697</td>\n",
       "      <td>121.820362</td>\n",
       "      <td>122.720070</td>\n",
       "      <td>...</td>\n",
       "      <td>119.317090</td>\n",
       "      <td>118.867944</td>\n",
       "      <td>118.418799</td>\n",
       "      <td>117.969653</td>\n",
       "      <td>117.520507</td>\n",
       "      <td>107.514079</td>\n",
       "      <td>107.136682</td>\n",
       "      <td>106.759285</td>\n",
       "      <td>106.381888</td>\n",
       "      <td>106.004491</td>\n",
       "    </tr>\n",
       "    <tr>\n",
       "      <th>2017/01/24</th>\n",
       "      <td>119.97</td>\n",
       "      <td>120.434354</td>\n",
       "      <td>120.898708</td>\n",
       "      <td>120.356598</td>\n",
       "      <td>120.342460</td>\n",
       "      <td>119.398872</td>\n",
       "      <td>119.207326</td>\n",
       "      <td>119.015781</td>\n",
       "      <td>119.887867</td>\n",
       "      <td>120.140714</td>\n",
       "      <td>...</td>\n",
       "      <td>119.179484</td>\n",
       "      <td>118.788848</td>\n",
       "      <td>118.398212</td>\n",
       "      <td>118.007576</td>\n",
       "      <td>117.616940</td>\n",
       "      <td>108.287204</td>\n",
       "      <td>107.665743</td>\n",
       "      <td>107.044281</td>\n",
       "      <td>106.422820</td>\n",
       "      <td>105.801358</td>\n",
       "    </tr>\n",
       "    <tr>\n",
       "      <th>2017/01/23</th>\n",
       "      <td>120.08</td>\n",
       "      <td>120.195094</td>\n",
       "      <td>120.310188</td>\n",
       "      <td>119.552362</td>\n",
       "      <td>119.435501</td>\n",
       "      <td>119.770951</td>\n",
       "      <td>119.814669</td>\n",
       "      <td>119.858387</td>\n",
       "      <td>118.582420</td>\n",
       "      <td>118.469801</td>\n",
       "      <td>...</td>\n",
       "      <td>118.825092</td>\n",
       "      <td>118.457286</td>\n",
       "      <td>118.089481</td>\n",
       "      <td>117.721675</td>\n",
       "      <td>117.353870</td>\n",
       "      <td>108.838395</td>\n",
       "      <td>108.051094</td>\n",
       "      <td>107.263793</td>\n",
       "      <td>106.476492</td>\n",
       "      <td>105.689191</td>\n",
       "    </tr>\n",
       "    <tr>\n",
       "      <th>2017/01/20</th>\n",
       "      <td>120.00</td>\n",
       "      <td>120.243406</td>\n",
       "      <td>120.486813</td>\n",
       "      <td>118.601367</td>\n",
       "      <td>118.302814</td>\n",
       "      <td>119.299817</td>\n",
       "      <td>119.439507</td>\n",
       "      <td>119.579197</td>\n",
       "      <td>117.740229</td>\n",
       "      <td>117.563828</td>\n",
       "      <td>...</td>\n",
       "      <td>118.214525</td>\n",
       "      <td>117.883663</td>\n",
       "      <td>117.552801</td>\n",
       "      <td>117.221939</td>\n",
       "      <td>116.891077</td>\n",
       "      <td>109.167653</td>\n",
       "      <td>108.292737</td>\n",
       "      <td>107.417822</td>\n",
       "      <td>106.542906</td>\n",
       "      <td>105.667990</td>\n",
       "    </tr>\n",
       "  </tbody>\n",
       "</table>\n",
       "<p>5 rows × 30 columns</p>\n",
       "</div>"
      ],
      "text/plain": [
       "             close      pred_1      pred_2      pred_3      pred_4  \\\n",
       "date                                                                 \n",
       "2017/01/26  121.94  121.217051  120.494102  119.376143  119.041432   \n",
       "2017/01/25  121.88  120.782651  119.685302  119.965913  119.817415   \n",
       "2017/01/24  119.97  120.434354  120.898708  120.356598  120.342460   \n",
       "2017/01/23  120.08  120.195094  120.310188  119.552362  119.435501   \n",
       "2017/01/20  120.00  120.243406  120.486813  118.601367  118.302814   \n",
       "\n",
       "                pred_5      pred_6      pred_7      pred_8      pred_9  \\\n",
       "date                                                                     \n",
       "2017/01/26  120.164515  120.114399  120.064283  123.801552  125.557383   \n",
       "2017/01/25  120.022901  120.034299  120.045697  121.820362  122.720070   \n",
       "2017/01/24  119.398872  119.207326  119.015781  119.887867  120.140714   \n",
       "2017/01/23  119.770951  119.814669  119.858387  118.582420  118.469801   \n",
       "2017/01/20  119.299817  119.439507  119.579197  117.740229  117.563828   \n",
       "\n",
       "               ...         pred_20     pred_21     pred_22     pred_23  \\\n",
       "date           ...                                                       \n",
       "2017/01/26     ...      119.237909  118.694575  118.151241  117.607907   \n",
       "2017/01/25     ...      119.317090  118.867944  118.418799  117.969653   \n",
       "2017/01/24     ...      119.179484  118.788848  118.398212  118.007576   \n",
       "2017/01/23     ...      118.825092  118.457286  118.089481  117.721675   \n",
       "2017/01/20     ...      118.214525  117.883663  117.552801  117.221939   \n",
       "\n",
       "               pred_24     pred_25     pred_26     pred_27     pred_28  \\\n",
       "date                                                                     \n",
       "2017/01/26  117.064573  106.519019  106.463912  106.408805  106.353697   \n",
       "2017/01/25  117.520507  107.514079  107.136682  106.759285  106.381888   \n",
       "2017/01/24  117.616940  108.287204  107.665743  107.044281  106.422820   \n",
       "2017/01/23  117.353870  108.838395  108.051094  107.263793  106.476492   \n",
       "2017/01/20  116.891077  109.167653  108.292737  107.417822  106.542906   \n",
       "\n",
       "               pred_29  \n",
       "date                    \n",
       "2017/01/26  106.298590  \n",
       "2017/01/25  106.004491  \n",
       "2017/01/24  105.801358  \n",
       "2017/01/23  105.689191  \n",
       "2017/01/20  105.667990  \n",
       "\n",
       "[5 rows x 30 columns]"
      ]
     },
     "execution_count": 77,
     "metadata": {},
     "output_type": "execute_result"
    }
   ],
   "source": [
    "foo = fv.pred_from_mean( close_df, roll_nums )\n",
    "foo.head()"
   ]
  },
  {
   "cell_type": "code",
   "execution_count": 73,
   "metadata": {
    "collapsed": false,
    "scrolled": false
   },
   "outputs": [],
   "source": []
  },
  {
   "cell_type": "code",
   "execution_count": null,
   "metadata": {
    "collapsed": true
   },
   "outputs": [],
   "source": []
  },
  {
   "cell_type": "code",
   "execution_count": 80,
   "metadata": {
    "collapsed": true
   },
   "outputs": [],
   "source": [
    "# Generate frame with all predictions for a day on the same row"
   ]
  },
  {
   "cell_type": "code",
   "execution_count": 81,
   "metadata": {
    "collapsed": false
   },
   "outputs": [
    {
     "data": {
      "text/html": [
       "<div>\n",
       "<table border=\"1\" class=\"dataframe\">\n",
       "  <thead>\n",
       "    <tr style=\"text-align: right;\">\n",
       "      <th></th>\n",
       "      <th>close</th>\n",
       "      <th>pred_1</th>\n",
       "      <th>pred_2</th>\n",
       "      <th>pred_3</th>\n",
       "      <th>pred_4</th>\n",
       "      <th>pred_5</th>\n",
       "      <th>pred_6</th>\n",
       "      <th>pred_7</th>\n",
       "      <th>pred_8</th>\n",
       "      <th>pred_9</th>\n",
       "      <th>...</th>\n",
       "      <th>pred_20</th>\n",
       "      <th>pred_21</th>\n",
       "      <th>pred_22</th>\n",
       "      <th>pred_23</th>\n",
       "      <th>pred_24</th>\n",
       "      <th>pred_25</th>\n",
       "      <th>pred_26</th>\n",
       "      <th>pred_27</th>\n",
       "      <th>pred_28</th>\n",
       "      <th>pred_29</th>\n",
       "    </tr>\n",
       "    <tr>\n",
       "      <th>date</th>\n",
       "      <th></th>\n",
       "      <th></th>\n",
       "      <th></th>\n",
       "      <th></th>\n",
       "      <th></th>\n",
       "      <th></th>\n",
       "      <th></th>\n",
       "      <th></th>\n",
       "      <th></th>\n",
       "      <th></th>\n",
       "      <th></th>\n",
       "      <th></th>\n",
       "      <th></th>\n",
       "      <th></th>\n",
       "      <th></th>\n",
       "      <th></th>\n",
       "      <th></th>\n",
       "      <th></th>\n",
       "      <th></th>\n",
       "      <th></th>\n",
       "      <th></th>\n",
       "    </tr>\n",
       "  </thead>\n",
       "  <tbody>\n",
       "    <tr>\n",
       "      <th>2017/01/26</th>\n",
       "      <td>121.94</td>\n",
       "      <td>120.782651</td>\n",
       "      <td>120.898708</td>\n",
       "      <td>119.552362</td>\n",
       "      <td>118.302814</td>\n",
       "      <td>119.199906</td>\n",
       "      <td>117.358699</td>\n",
       "      <td>113.915898</td>\n",
       "      <td>116.107399</td>\n",
       "      <td>117.422478</td>\n",
       "      <td>...</td>\n",
       "      <td>111.368813</td>\n",
       "      <td>111.817662</td>\n",
       "      <td>112.941269</td>\n",
       "      <td>110.499210</td>\n",
       "      <td>110.195629</td>\n",
       "      <td>109.525002</td>\n",
       "      <td>115.451853</td>\n",
       "      <td>119.531527</td>\n",
       "      <td>121.317285</td>\n",
       "      <td>123.593296</td>\n",
       "    </tr>\n",
       "    <tr>\n",
       "      <th>2017/01/25</th>\n",
       "      <td>121.88</td>\n",
       "      <td>120.434354</td>\n",
       "      <td>120.310188</td>\n",
       "      <td>118.601367</td>\n",
       "      <td>118.506770</td>\n",
       "      <td>117.698151</td>\n",
       "      <td>114.618177</td>\n",
       "      <td>113.235994</td>\n",
       "      <td>116.714821</td>\n",
       "      <td>118.018830</td>\n",
       "      <td>...</td>\n",
       "      <td>111.373615</td>\n",
       "      <td>112.857980</td>\n",
       "      <td>110.840816</td>\n",
       "      <td>110.795501</td>\n",
       "      <td>109.166989</td>\n",
       "      <td>114.270291</td>\n",
       "      <td>118.007605</td>\n",
       "      <td>119.711419</td>\n",
       "      <td>121.912794</td>\n",
       "      <td>115.531283</td>\n",
       "    </tr>\n",
       "    <tr>\n",
       "      <th>2017/01/24</th>\n",
       "      <td>119.97</td>\n",
       "      <td>120.195094</td>\n",
       "      <td>120.486813</td>\n",
       "      <td>118.798598</td>\n",
       "      <td>119.383261</td>\n",
       "      <td>115.320455</td>\n",
       "      <td>113.978798</td>\n",
       "      <td>114.450944</td>\n",
       "      <td>117.430751</td>\n",
       "      <td>120.274795</td>\n",
       "      <td>...</td>\n",
       "      <td>112.774691</td>\n",
       "      <td>111.182421</td>\n",
       "      <td>111.395374</td>\n",
       "      <td>109.622332</td>\n",
       "      <td>102.923850</td>\n",
       "      <td>116.483684</td>\n",
       "      <td>118.105552</td>\n",
       "      <td>120.232292</td>\n",
       "      <td>115.058106</td>\n",
       "      <td>119.995427</td>\n",
       "    </tr>\n",
       "    <tr>\n",
       "      <th>2017/01/23</th>\n",
       "      <td>120.08</td>\n",
       "      <td>120.243406</td>\n",
       "      <td>121.027308</td>\n",
       "      <td>119.395411</td>\n",
       "      <td>118.664644</td>\n",
       "      <td>114.721602</td>\n",
       "      <td>114.900102</td>\n",
       "      <td>115.194415</td>\n",
       "      <td>119.690117</td>\n",
       "      <td>118.059965</td>\n",
       "      <td>...</td>\n",
       "      <td>111.524026</td>\n",
       "      <td>111.995246</td>\n",
       "      <td>110.077674</td>\n",
       "      <td>103.870823</td>\n",
       "      <td>102.990819</td>\n",
       "      <td>116.499686</td>\n",
       "      <td>118.551791</td>\n",
       "      <td>114.584930</td>\n",
       "      <td>119.380744</td>\n",
       "      <td>129.847603</td>\n",
       "    </tr>\n",
       "    <tr>\n",
       "      <th>2017/01/20</th>\n",
       "      <td>120.00</td>\n",
       "      <td>120.403654</td>\n",
       "      <td>118.934468</td>\n",
       "      <td>118.831849</td>\n",
       "      <td>118.241125</td>\n",
       "      <td>115.349260</td>\n",
       "      <td>115.422121</td>\n",
       "      <td>115.907672</td>\n",
       "      <td>118.230211</td>\n",
       "      <td>117.867714</td>\n",
       "      <td>...</td>\n",
       "      <td>112.595118</td>\n",
       "      <td>110.533017</td>\n",
       "      <td>104.817797</td>\n",
       "      <td>103.641565</td>\n",
       "      <td>102.410616</td>\n",
       "      <td>116.871289</td>\n",
       "      <td>114.111753</td>\n",
       "      <td>118.766061</td>\n",
       "      <td>128.238052</td>\n",
       "      <td>130.576615</td>\n",
       "    </tr>\n",
       "  </tbody>\n",
       "</table>\n",
       "<p>5 rows × 30 columns</p>\n",
       "</div>"
      ],
      "text/plain": [
       "             close      pred_1      pred_2      pred_3      pred_4  \\\n",
       "date                                                                 \n",
       "2017/01/26  121.94  120.782651  120.898708  119.552362  118.302814   \n",
       "2017/01/25  121.88  120.434354  120.310188  118.601367  118.506770   \n",
       "2017/01/24  119.97  120.195094  120.486813  118.798598  119.383261   \n",
       "2017/01/23  120.08  120.243406  121.027308  119.395411  118.664644   \n",
       "2017/01/20  120.00  120.403654  118.934468  118.831849  118.241125   \n",
       "\n",
       "                pred_5      pred_6      pred_7      pred_8      pred_9  \\\n",
       "date                                                                     \n",
       "2017/01/26  119.199906  117.358699  113.915898  116.107399  117.422478   \n",
       "2017/01/25  117.698151  114.618177  113.235994  116.714821  118.018830   \n",
       "2017/01/24  115.320455  113.978798  114.450944  117.430751  120.274795   \n",
       "2017/01/23  114.721602  114.900102  115.194415  119.690117  118.059965   \n",
       "2017/01/20  115.349260  115.422121  115.907672  118.230211  117.867714   \n",
       "\n",
       "               ...         pred_20     pred_21     pred_22     pred_23  \\\n",
       "date           ...                                                       \n",
       "2017/01/26     ...      111.368813  111.817662  112.941269  110.499210   \n",
       "2017/01/25     ...      111.373615  112.857980  110.840816  110.795501   \n",
       "2017/01/24     ...      112.774691  111.182421  111.395374  109.622332   \n",
       "2017/01/23     ...      111.524026  111.995246  110.077674  103.870823   \n",
       "2017/01/20     ...      112.595118  110.533017  104.817797  103.641565   \n",
       "\n",
       "               pred_24     pred_25     pred_26     pred_27     pred_28  \\\n",
       "date                                                                     \n",
       "2017/01/26  110.195629  109.525002  115.451853  119.531527  121.317285   \n",
       "2017/01/25  109.166989  114.270291  118.007605  119.711419  121.912794   \n",
       "2017/01/24  102.923850  116.483684  118.105552  120.232292  115.058106   \n",
       "2017/01/23  102.990819  116.499686  118.551791  114.584930  119.380744   \n",
       "2017/01/20  102.410616  116.871289  114.111753  118.766061  128.238052   \n",
       "\n",
       "               pred_29  \n",
       "date                    \n",
       "2017/01/26  123.593296  \n",
       "2017/01/25  115.531283  \n",
       "2017/01/24  119.995427  \n",
       "2017/01/23  129.847603  \n",
       "2017/01/20  130.576615  \n",
       "\n",
       "[5 rows x 30 columns]"
      ]
     },
     "execution_count": 81,
     "metadata": {},
     "output_type": "execute_result"
    }
   ],
   "source": [
    "aligned_frame = foo.copy()\n",
    "for i in range( 1, foo.shape[1] ):\n",
    "    aligned_frame['pred_'+str(i)] = aligned_frame['pred_'+str(i)].shift( -i )\n",
    "aligned_frame = aligned_frame.dropna()\n",
    "aligned_frame.head()"
   ]
  },
  {
   "cell_type": "code",
   "execution_count": 82,
   "metadata": {
    "collapsed": false,
    "scrolled": false
   },
   "outputs": [
    {
     "data": {
      "image/png": "[encoded data removed]",
      "text/plain": [
       "<matplotlib.figure.Figure at 0x7ffb493c07d0>"
      ]
     },
     "metadata": {},
     "output_type": "display_data"
    },
    {
     "data": {
      "image/png": "[encoded data removed]",
      "text/plain": [
       "<matplotlib.figure.Figure at 0x7ffb475d17d0>"
      ]
     },
     "metadata": {},
     "output_type": "display_data"
    },
    {
     "data": {
      "image/png": "[encoded data removed]",
      "text/plain": [
       "<matplotlib.figure.Figure at 0x7ffb42a6ef10>"
      ]
     },
     "metadata": {},
     "output_type": "display_data"
    }
   ],
   "source": [
    "# Predictions over the whole range\n",
    "tot_diff  = np.zeros( aligned_frame.shape[1]-1 )\n",
    "mse_diff  = np.zeros( aligned_frame.shape[1]-1 )\n",
    "fmse_diff = np.zeros( aligned_frame.shape[1]-1 )\n",
    "\n",
    "\n",
    "for i in range( 1, len(aligned_frame.columns.values[1:]) ):\n",
    "    col         =   aligned_frame.columns.values[i]\n",
    "    tot_diff[i] = ( aligned_frame[col] / aligned_frame['close'] - 1      ).mean()\n",
    "    mse_diff[i] =(( aligned_frame[col] - aligned_frame['close']     )**2 ).mean()\n",
    "    fmse_diff[i]=(( aligned_frame[col] / aligned_frame['close'] - 1 )**2 ).mean()\n",
    "    \n",
    "plt.plot( range(1,30), tot_diff, color='b' )\n",
    "plt.title( 'Fractional difference' )\n",
    "plt.show()\n",
    "\n",
    "plt.plot( range(1,30), mse_diff, color='r' )\n",
    "plt.title( 'Mean Squared Error' )\n",
    "plt.show()\n",
    "\n",
    "plt.plot( range(1,30), fmse_diff, color='g' )\n",
    "plt.title( 'Fractional Mean Squared Error' )\n",
    "plt.show()"
   ]
  },
  {
   "cell_type": "code",
   "execution_count": null,
   "metadata": {
    "collapsed": true
   },
   "outputs": [],
   "source": []
  }
 ],
 "metadata": {
  "kernelspec": {
   "display_name": "Python 2",
   "language": "python",
   "name": "python2"
  },
  "language_info": {
   "codemirror_mode": {
    "name": "ipython",
    "version": 2
   },
   "file_extension": ".py",
   "mimetype": "text/x-python",
   "name": "python",
   "nbconvert_exporter": "python",
   "pygments_lexer": "ipython2",
   "version": "2.7.13"
  }
 },
 "nbformat": 4,
 "nbformat_minor": 2
}

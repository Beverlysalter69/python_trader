{
 "cells": [
  {
   "cell_type": "code",
   "execution_count": 1,
   "metadata": {
    "collapsed": true
   },
   "outputs": [],
   "source": [
    "import numpy  as np\n",
    "import pandas as pd\n",
    "import matplotlib.pyplot as plt\n",
    "import seaborn as sns\n",
    "\n",
    "import read_quote      as rq\n",
    "import stock_functions as sf\n",
    "import df_visualizations as dv\n",
    "import remap_values as rv\n",
    "import fill_values as fv\n",
    "\n",
    "import random\n",
    "import pickle\n",
    "\n",
    "import sys\n",
    "import time"
   ]
  },
  {
   "cell_type": "code",
   "execution_count": 2,
   "metadata": {
    "collapsed": true
   },
   "outputs": [],
   "source": [
    "from sklearn.svm            import SVR\n",
    "from sklearn.ensemble       import RandomForestRegressor\n",
    "from sklearn.linear_model   import ElasticNet\n",
    "from sklearn.neural_network import MLPRegressor\n",
    "from sklearn.ensemble       import BaggingRegressor\n",
    "from sklearn.ensemble       import AdaBoostRegressor\n",
    "\n",
    "from sklearn.multioutput    import MultiOutputRegressor\n",
    "\n",
    "from sklearn.utils          import shuffle\n",
    "\n",
    "from sklearn.metrics        import mean_squared_error\n",
    "\n",
    "from sklearn.model_selection import cross_val_score\n",
    "from sklearn.model_selection import GridSearchCV\n",
    "\n",
    "from sklearn.multioutput    import MultiOutputRegressor"
   ]
  },
  {
   "cell_type": "code",
   "execution_count": 3,
   "metadata": {
    "collapsed": true
   },
   "outputs": [],
   "source": [
    "%matplotlib inline\n",
    "plt.style.use('dark_background')\n",
    "plt.rcParams['figure.figsize'] = (14, 10)"
   ]
  },
  {
   "cell_type": "code",
   "execution_count": 4,
   "metadata": {
    "collapsed": true
   },
   "outputs": [],
   "source": [
    "roll_nums = [3,5,8,10,15,20,25,30]  # Generate an algorithm for predicting every few days\n",
    "mom_nums  = [3,5,8,10,15,20,25,30]  # Momentum has many good tracers\n",
    "rsi_nums  = [10,15,20,25,30]        # Good for some long term trends\n",
    "band_nums = [5,8,10,15,20,25]       # A few trace different areas well"
   ]
  },
  {
   "cell_type": "code",
   "execution_count": 5,
   "metadata": {
    "collapsed": true
   },
   "outputs": [],
   "source": [
    "inpFileList = ['aapl','acm' ,'awk' ,'amzn','awr' ,'ba'  ,'bac' ,'c'   ,'cat' ,'cop' ,'cvx' ,'dal' ,\n",
    "               'dd'  ,'farm','fdp' ,'gnc' ,'hes' ,'ibm' ,'mas' ,'mcd' ,'mon' ,'msex','msft','nflx',\n",
    "               'sbux','strl','tgt' ,'tsla','ups' ,'xom' ,'xpo' ,'vmc' ]"
   ]
  },
  {
   "cell_type": "code",
   "execution_count": null,
   "metadata": {
    "collapsed": true
   },
   "outputs": [],
   "source": []
  },
  {
   "cell_type": "code",
   "execution_count": 6,
   "metadata": {
    "collapsed": false
   },
   "outputs": [],
   "source": [
    "scaled_df = sf.get_scaled_data( inpFileList, roll_nums, mom_nums, rsi_nums, band_nums )"
   ]
  },
  {
   "cell_type": "code",
   "execution_count": 6,
   "metadata": {
    "collapsed": false
   },
   "outputs": [],
   "source": [
    "#scaled_df = sf.gen_pca_attributes( scaled_df, mom_nums, rsi_nums, band_nums, n_mom=3, n_rsi=2, n_ban=2 )"
   ]
  },
  {
   "cell_type": "code",
   "execution_count": 7,
   "metadata": {
    "collapsed": true
   },
   "outputs": [],
   "source": [
    "# Read in each stock, and perform reduction\n",
    "#    Break into train, test sets\n",
    "#    Store train, test sets in arrays\n",
    "# For each regressor predicting a certain num of days...\n",
    "#    Manually cross validate, testing and scoring each set"
   ]
  },
  {
   "cell_type": "code",
   "execution_count": null,
   "metadata": {
    "collapsed": true
   },
   "outputs": [],
   "source": []
  },
  {
   "cell_type": "code",
   "execution_count": 7,
   "metadata": {
    "collapsed": true
   },
   "outputs": [],
   "source": [
    "# Mix up the list\n",
    "shuff_scaled_df = shuffle( scaled_df )\n",
    "\n",
    "\n",
    "# Seperate features from target data\n",
    "close_list = ['close']\n",
    "for i in roll_nums:\n",
    "    close_list.append( 'close_mean_'+str(i) )\n",
    "\n",
    "targets  = shuff_scaled_df[close_list]\n",
    "features = shuff_scaled_df.drop( close_list, axis=1 )\n",
    "\n",
    "\n",
    "\n",
    "n_elements = shuff_scaled_df.shape[0]\n",
    "\n",
    "# Set the fraction of data we will train over\n",
    "percent_train = 0.8\n",
    "\n",
    "# Size of training set\n",
    "n_train = int( percent_train * n_elements )\n",
    "\n",
    "\n",
    "# Seperate training and test data\n",
    "train_features = features[ : n_train   ]\n",
    "test_features  = features[   n_train : ]\n",
    "\n",
    "train_targets  =  targets[ : n_train   ].drop( 'close', axis=1 )\n",
    "test_targets   =  targets[   n_train : ].drop( 'close', axis=1 )"
   ]
  },
  {
   "cell_type": "code",
   "execution_count": null,
   "metadata": {
    "collapsed": true
   },
   "outputs": [],
   "source": []
  },
  {
   "cell_type": "code",
   "execution_count": 8,
   "metadata": {
    "collapsed": false
   },
   "outputs": [
    {
     "data": {
      "text/plain": [
       "MultiOutputRegressor(estimator=AdaBoostRegressor(base_estimator=RandomForestRegressor(bootstrap=True, criterion='mse', max_depth=None,\n",
       "           max_features=0.7, max_leaf_nodes=None, min_impurity_split=1e-07,\n",
       "           min_samples_leaf=1, min_samples_split=2,\n",
       "           min_weight_fraction_leaf=0.0, n_estimators=20, n_jobs=1,\n",
       "           oob_score=False, random_state=None, verbose=0, warm_start=False),\n",
       "         learning_rate=1.0, loss='exponential', n_estimators=5,\n",
       "         random_state=None),\n",
       "           n_jobs=1)"
      ]
     },
     "execution_count": 8,
     "metadata": {},
     "output_type": "execute_result"
    }
   ],
   "source": [
    "# Gets the location of not null values\n",
    "train_not_null_locations = train_targets.notnull().all( axis=1 )==1\n",
    "test_not_null_locations  =  test_targets.notnull().all( axis=1 )==1\n",
    "\n",
    "# Take features and targets that are not null\n",
    "train_x = train_features[ train_not_null_locations ].values\n",
    "test_x  =  test_features[  test_not_null_locations ].values\n",
    "\n",
    "train_y = train_targets[ train_not_null_locations ].values\n",
    "test_y  =  test_targets[  test_not_null_locations ].values\n",
    "\n",
    "ad_mult_reg = MultiOutputRegressor( AdaBoostRegressor( base_estimator=RandomForestRegressor( n_estimators=20, max_features=0.7 ), \n",
    "#                            loss='exponential', n_estimators=10 ) )\n",
    "                            loss='exponential', n_estimators=5 ) )\n",
    "#                            loss='exponential', n_estimators=3 ) )\n",
    "\n",
    "ad_mult_reg.fit( train_x, train_y )"
   ]
  },
  {
   "cell_type": "code",
   "execution_count": null,
   "metadata": {
    "collapsed": true
   },
   "outputs": [],
   "source": []
  },
  {
   "cell_type": "code",
   "execution_count": 9,
   "metadata": {
    "collapsed": false
   },
   "outputs": [
    {
     "name": "stdout",
     "output_type": "stream",
     "text": [
      " close_mean_3 MSE :  0.28736, Percent ME : 36.03992\n",
      " close_mean_5 MSE :  0.01817, Percent ME :  9.06243\n",
      " close_mean_7 MSE :  0.02099, Percent ME :  9.73959\n",
      "close_mean_10 MSE :  0.00909, Percent ME :  6.41166\n",
      "close_mean_12 MSE :  0.02232, Percent ME : 10.04452\n",
      "close_mean_15 MSE :  0.02216, Percent ME : 10.00922\n"
     ]
    }
   ],
   "source": [
    "test_60 = ad_mult_reg.predict( test_x )\n",
    "\n",
    "for i in range( 1, len( close_list[1:] ) ) :\n",
    "    mse = mean_squared_error( test_y[i-1], test_60[i-1] )\n",
    "    print '%13s MSE : %8.5f, Percent ME : %8.5f' % ( close_list[i], mse, np.sqrt(mse)/np.mean(test_y) )"
   ]
  },
  {
   "cell_type": "code",
   "execution_count": 29,
   "metadata": {
    "collapsed": false
   },
   "outputs": [
    {
     "name": "stdout",
     "output_type": "stream",
     "text": [
      " close_mean_3 MSE :  0.11175, Percent ME : 22.26275\n",
      " close_mean_5 MSE :  0.02046, Percent ME :  9.52490\n",
      " close_mean_7 MSE :  0.01597, Percent ME :  8.41539\n",
      "close_mean_10 MSE :  0.00119, Percent ME :  2.29876\n",
      "close_mean_12 MSE :  0.23849, Percent ME : 32.52288\n",
      "close_mean_15 MSE :  0.26986, Percent ME : 34.59590\n"
     ]
    }
   ],
   "source": [
    "test_70 = ad_mult_reg.predict( test_x )\n",
    "\n",
    "for i in range( 1, len( close_list[1:] ) ) :\n",
    "    mse = mean_squared_error( test_y[i-1], test_70[i-1] )\n",
    "    print '%13s MSE : %8.5f, Percent ME : %8.5f' % ( close_list[i], mse, np.sqrt(mse)/np.mean(test_y) )"
   ]
  },
  {
   "cell_type": "code",
   "execution_count": 12,
   "metadata": {
    "collapsed": false
   },
   "outputs": [
    {
     "name": "stdout",
     "output_type": "stream",
     "text": [
      " close_mean_3 MSE :  0.00034, Percent ME :  1.28400\n",
      " close_mean_5 MSE :  0.00052, Percent ME :  1.57940\n",
      " close_mean_7 MSE :  0.00769, Percent ME :  6.09548\n",
      "close_mean_10 MSE :  0.00520, Percent ME :  5.01383\n",
      "close_mean_12 MSE :  0.04772, Percent ME : 15.18780\n",
      "close_mean_15 MSE :  0.01710, Percent ME :  9.09208\n",
      "close_mean_20 MSE :  0.04250, Percent ME : 14.33349\n",
      "close_mean_25 MSE :  0.10339, Percent ME : 22.35573\n"
     ]
    }
   ],
   "source": [
    "test_80 = ad_mult_reg.predict( test_x )\n",
    "\n",
    "for i in range( 1, len( close_list[1:] )+1 ) :\n",
    "    mse = mean_squared_error( test_y[i-1], test_80[i-1] )\n",
    "    print '%13s MSE : %8.5f, Percent ME : %8.5f' % ( close_list[i], mse, np.sqrt(mse)/np.mean(test_y) )"
   ]
  },
  {
   "cell_type": "code",
   "execution_count": 8,
   "metadata": {
    "collapsed": false
   },
   "outputs": [
    {
     "name": "stdout",
     "output_type": "stream",
     "text": [
      " close_mean_3 MSE :  0.00052, Percent ME :  1.58310\n",
      " close_mean_5 MSE :  0.01097, Percent ME :  7.28296\n",
      " close_mean_7 MSE :  0.02160, Percent ME : 10.21904\n",
      "close_mean_10 MSE :  0.00542, Percent ME :  5.11623\n",
      "close_mean_12 MSE :  0.04154, Percent ME : 14.17041\n",
      "close_mean_15 MSE :  0.01140, Percent ME :  7.42228\n",
      "close_mean_20 MSE :  0.01214, Percent ME :  7.66086\n",
      "close_mean_25 MSE :  0.06858, Percent ME : 18.20686\n"
     ]
    }
   ],
   "source": [
    "test_80_5 = ad_mult_reg.predict( test_x )\n",
    "\n",
    "for i in range( 1, len( close_list[1:] )+1 ) :\n",
    "    mse = mean_squared_error( test_y[i-1], test_80_5[i-1] )\n",
    "    print '%13s MSE : %8.5f, Percent ME : %8.5f' % ( close_list[i], mse, np.sqrt(mse)/np.mean(test_y) )"
   ]
  },
  {
   "cell_type": "code",
   "execution_count": 8,
   "metadata": {
    "collapsed": false
   },
   "outputs": [
    {
     "name": "stdout",
     "output_type": "stream",
     "text": [
      " close_mean_3 MSE :  0.04622, Percent ME : 16.03829\n",
      " close_mean_5 MSE :  0.00280, Percent ME :  3.95061\n",
      " close_mean_7 MSE :  0.06953, Percent ME : 19.67037\n",
      "close_mean_10 MSE :  0.03379, Percent ME : 13.71227\n",
      "close_mean_12 MSE :  0.00471, Percent ME :  5.11735\n",
      "close_mean_15 MSE :  0.26712, Percent ME : 38.55589\n",
      "close_mean_18 MSE :  0.02227, Percent ME : 11.13333\n",
      "close_mean_20 MSE :  0.00127, Percent ME :  2.66170\n",
      "close_mean_23 MSE :  0.00853, Percent ME :  6.89029\n",
      "close_mean_25 MSE :  0.02849, Percent ME : 12.59120\n",
      "close_mean_28 MSE :  0.00738, Percent ME :  6.40677\n",
      "close_mean_30 MSE :  0.02438, Percent ME : 11.64905\n"
     ]
    }
   ],
   "source": [
    "test_all = ad_mult_reg.predict( test_x )\n",
    "\n",
    "for i in range( 1, len( close_list[1:] )+1 ) :\n",
    "    mse = mean_squared_error( test_y[i-1], test_all[i-1] )\n",
    "    print '%13s MSE : %8.5f, Percent ME : %8.5f' % ( close_list[i], mse, np.sqrt(mse)/np.mean(test_y) )"
   ]
  },
  {
   "cell_type": "code",
   "execution_count": 8,
   "metadata": {
    "collapsed": false
   },
   "outputs": [
    {
     "name": "stdout",
     "output_type": "stream",
     "text": [
      " close_mean_3 MSE :  0.01164, Percent ME :  8.63749\n",
      " close_mean_5 MSE :  0.00212, Percent ME :  3.68463\n",
      " close_mean_7 MSE :  0.08406, Percent ME : 23.21046\n",
      "close_mean_10 MSE :  0.00056, Percent ME :  1.89508\n",
      "close_mean_12 MSE :  0.00012, Percent ME :  0.86886\n",
      "close_mean_15 MSE :  0.00403, Percent ME :  5.08291\n",
      "close_mean_18 MSE :  0.01355, Percent ME :  9.31947\n",
      "close_mean_20 MSE :  0.04023, Percent ME : 16.05616\n",
      "close_mean_23 MSE :  0.00035, Percent ME :  1.48873\n",
      "close_mean_25 MSE :  0.00362, Percent ME :  4.81892\n",
      "close_mean_28 MSE :  0.08284, Percent ME : 23.04127\n",
      "close_mean_30 MSE :  0.00043, Percent ME :  1.66966\n"
     ]
    }
   ],
   "source": [
    "test_80_3_all = ad_mult_reg.predict( test_x )\n",
    "\n",
    "for i in range( 1, len( close_list[1:] )+1 ) :\n",
    "    mse = mean_squared_error( test_y[i-1], test_80_3_all[i-1] )\n",
    "    print '%13s MSE : %8.5f, Percent ME : %8.5f' % ( close_list[i], mse, np.sqrt(mse)/np.mean(test_y) )"
   ]
  },
  {
   "cell_type": "code",
   "execution_count": 9,
   "metadata": {
    "collapsed": false
   },
   "outputs": [
    {
     "name": "stdout",
     "output_type": "stream",
     "text": [
      " close_mean_3 MSE :  0.00222, Percent ME :  0.42910\n",
      " close_mean_5 MSE :  0.01836, Percent ME :  1.23313\n",
      " close_mean_8 MSE :  0.01501, Percent ME :  1.11468\n",
      "close_mean_10 MSE :  0.01245, Percent ME :  1.01514\n",
      "close_mean_15 MSE :  0.00850, Percent ME :  0.83905\n",
      "close_mean_20 MSE :  0.01199, Percent ME :  0.99655\n",
      "close_mean_25 MSE :  0.00141, Percent ME :  0.34111\n",
      "close_mean_30 MSE :  0.00918, Percent ME :  0.87200\n"
     ]
    }
   ],
   "source": [
    "test_80_3_most = ad_mult_reg.predict( test_x )\n",
    "\n",
    "for i in range( 1, len( close_list[1:] )+1 ) :\n",
    "    mse = mean_squared_error( test_y[i-1], test_80_3_most[i-1] )\n",
    "    print '%13s MSE : %8.5f, Percent ME : %8.5f' % ( close_list[i], mse, np.sqrt(mse)/np.mean(abs(test_y) ) )"
   ]
  },
  {
   "cell_type": "code",
   "execution_count": 9,
   "metadata": {
    "collapsed": false
   },
   "outputs": [
    {
     "name": "stdout",
     "output_type": "stream",
     "text": [
      " close_mean_3 MSE :  0.00649, Percent ME : 12.98574\n",
      " close_mean_5 MSE :  0.00211, Percent ME :  7.41025\n",
      " close_mean_8 MSE :  0.00104, Percent ME :  5.20778\n",
      "close_mean_10 MSE :  0.00210, Percent ME :  7.37992\n",
      "close_mean_15 MSE :  0.00080, Percent ME :  4.55972\n",
      "close_mean_20 MSE :  0.00079, Percent ME :  4.52991\n",
      "close_mean_25 MSE :  0.00005, Percent ME :  1.13432\n",
      "close_mean_30 MSE :  0.00121, Percent ME :  5.60555\n"
     ]
    }
   ],
   "source": [
    "test_80_5_most = ad_mult_reg.predict( test_x )\n",
    "\n",
    "for i in range( 1, len( close_list[1:] )+1 ) :\n",
    "    mse = mean_squared_error( test_y[i-1], test_80_5_most[i-1] )\n",
    "    print '%13s MSE : %8.5f, Percent ME : %8.5f' % ( close_list[i], mse, np.sqrt(mse)/np.mean(test_y) )"
   ]
  },
  {
   "cell_type": "code",
   "execution_count": null,
   "metadata": {
    "collapsed": true
   },
   "outputs": [],
   "source": []
  },
  {
   "cell_type": "code",
   "execution_count": 10,
   "metadata": {
    "collapsed": false
   },
   "outputs": [
    {
     "name": "stdout",
     "output_type": "stream",
     "text": [
      " close_mean_3   RMSE :  0.08055,   RMSE/mean :  1.74393\n",
      " close_mean_5   RMSE :  0.04596,   RMSE/mean :  0.99516\n",
      " close_mean_8   RMSE :  0.03230,   RMSE/mean :  0.69938\n",
      "close_mean_10   RMSE :  0.04578,   RMSE/mean :  0.99109\n",
      "close_mean_15   RMSE :  0.02828,   RMSE/mean :  0.61235\n",
      "close_mean_20   RMSE :  0.02810,   RMSE/mean :  0.60835\n",
      "close_mean_25   RMSE :  0.00704,   RMSE/mean :  0.15233\n",
      "close_mean_30   RMSE :  0.03477,   RMSE/mean :  0.75280\n",
      "{'std_25': 0.0070359109472509828, 'std_30': 0.034769905905065297, 'std_20': 0.028097955342065623, 'std_15': 0.02828284048045128, 'std_10': 0.04577586641613135, 'std_5': 0.045963995633090886, 'std_3': 0.080547427926956711, 'std_8': 0.03230259625805873}\n"
     ]
    }
   ],
   "source": [
    "pred_values = test_80_5_most\n",
    "\n",
    "std_dict = {}\n",
    "\n",
    "for i in range( 0, len( close_list[1:] ) ) :\n",
    "    rmse = np.sqrt( mean_squared_error( test_y[i], pred_values[i] ) )\n",
    "    col  = 'std_' + str( roll_nums[i] )\n",
    "    std_dict[col] = rmse\n",
    "    print '%13s   RMSE : %8.5f,   RMSE/mean : %8.5f' % ( close_list[i+1], rmse, rmse/np.mean( abs(test_y)) )\n",
    "    \n",
    "print std_dict"
   ]
  },
  {
   "cell_type": "code",
   "execution_count": null,
   "metadata": {
    "collapsed": true
   },
   "outputs": [],
   "source": []
  },
  {
   "cell_type": "code",
   "execution_count": 109,
   "metadata": {
    "collapsed": true
   },
   "outputs": [],
   "source": [
    "#with open( 'data/temp.pkl', 'wb' ) as handle:\n",
    "#    pickle.dump( ad_mult_reg, handle, protocol=pickle.HIGHEST_PROTOCOL)"
   ]
  },
  {
   "cell_type": "code",
   "execution_count": 5,
   "metadata": {
    "collapsed": true
   },
   "outputs": [],
   "source": [
    "with open( 'data/temp.pkl', 'rb' ) as handle:\n",
    "    ad_mult_reg = pickle.load( handle )"
   ]
  },
  {
   "cell_type": "code",
   "execution_count": null,
   "metadata": {
    "collapsed": true
   },
   "outputs": [],
   "source": []
  },
  {
   "cell_type": "code",
   "execution_count": 14,
   "metadata": {
    "collapsed": true
   },
   "outputs": [],
   "source": [
    "# Test on this quote"
   ]
  },
  {
   "cell_type": "code",
   "execution_count": 18,
   "metadata": {
    "collapsed": true
   },
   "outputs": [],
   "source": [
    "def list_duplicates_of(seq,item):\n",
    "    start_at = -1\n",
    "    locs = []\n",
    "    while True:\n",
    "        try:\n",
    "            loc = seq.index(item,start_at+1)\n",
    "        except ValueError:\n",
    "            break\n",
    "        else:\n",
    "            locs.append(loc)\n",
    "            start_at = loc\n",
    "    return locs"
   ]
  },
  {
   "cell_type": "code",
   "execution_count": 7,
   "metadata": {
    "collapsed": false
   },
   "outputs": [],
   "source": [
    "quote_list    = ['ge','kmb','mmm','mu']\n",
    "quote_df_list = []\n",
    "\n",
    "for quote_name in quote_list:\n",
    "\n",
    "    # Generate df with the actual rolling averages\n",
    "    close_df = rq.readQuote( 'quotes/'+ quote_name +'.csv' )\n",
    "    close_df = pd.merge( close_df['close'].to_frame(), sf.generate_rolling_close( close_df, roll_nums, onlyMean=True ), \n",
    "                        left_index=True, right_index=True )\n",
    "    close_means = close_df.columns.values\n",
    "\n",
    "\n",
    "    # Generate predicted rolling mean percentage increases\n",
    "    pred_df     = sf.get_scaled_data( [quote_name], roll_nums, mom_nums, rsi_nums, band_nums ).dropna()\n",
    "    pred_values = ad_mult_reg.predict( pred_df.drop( close_means, axis=1 ) )\n",
    "\n",
    "\n",
    "    # Adjust close to match pred df shape\n",
    "    close_df = close_df.ix[ pred_df.index.values ].dropna()\n",
    "\n",
    "    # Pred percent increase = future/now - 1\n",
    "    for i in range( 0 , pred_values.shape[1] ):\n",
    "        close_df[ 'pred_mean_' + str( roll_nums[i] ) ] = ( pred_values[:,i] + 1 ) * close_df[ 'close_mean_' + str( roll_nums[i] ) ]\n",
    "        close_df[ 'pred_mean_' + str( roll_nums[i] ) ] = close_df[ 'pred_mean_' + str( roll_nums[i] ) ].shift( -roll_nums[i]+1 )\n",
    "\n",
    "    quote_df_list.append( close_df )\n",
    "        \n",
    "close_df = pd.concat( quote_df_list )\n",
    "close_df = close_df.dropna()"
   ]
  },
  {
   "cell_type": "code",
   "execution_count": 31,
   "metadata": {
    "collapsed": false
   },
   "outputs": [],
   "source": [
    "chunk_index = list_duplicates_of( close_df.index.values.tolist(), close_df.index.values[0] ) + [-1]"
   ]
  },
  {
   "cell_type": "code",
   "execution_count": 29,
   "metadata": {
    "collapsed": true
   },
   "outputs": [],
   "source": [
    "del ad_mult_reg"
   ]
  },
  {
   "cell_type": "code",
   "execution_count": null,
   "metadata": {
    "collapsed": true
   },
   "outputs": [],
   "source": []
  },
  {
   "cell_type": "code",
   "execution_count": 32,
   "metadata": {
    "collapsed": false
   },
   "outputs": [
    {
     "data": {
      "text/plain": [
       "[0, 2431, 4862, 7293, -1]"
      ]
     },
     "execution_count": 32,
     "metadata": {},
     "output_type": "execute_result"
    }
   ],
   "source": [
    "chunk_index"
   ]
  },
  {
   "cell_type": "code",
   "execution_count": 16,
   "metadata": {
    "collapsed": true
   },
   "outputs": [],
   "source": [
    "# Smooth and shift"
   ]
  },
  {
   "cell_type": "code",
   "execution_count": 33,
   "metadata": {
    "collapsed": true
   },
   "outputs": [],
   "source": [
    "full_df = close_df.copy()"
   ]
  },
  {
   "cell_type": "code",
   "execution_count": 70,
   "metadata": {
    "collapsed": false,
    "scrolled": false
   },
   "outputs": [
    {
     "name": "stdout",
     "output_type": "stream",
     "text": [
      "ge\n",
      "Predicted         MSE = 3.78733\n",
      "Weighted          MSE = 2.07995\n",
      "Predicted Percent MSE = 0.01264\n",
      "Weighted  Percent MSE = 0.00745\n",
      "\n",
      "\n",
      "\n",
      "kmb\n",
      "Predicted         MSE = 35.22011\n",
      "Weighted          MSE = 13.23400\n",
      "Predicted Percent MSE = 0.00419\n",
      "Weighted  Percent MSE = 0.00174\n",
      "\n",
      "\n",
      "\n",
      "mmm\n",
      "Predicted         MSE = 75.94707\n",
      "Weighted          MSE = 26.10430\n",
      "Predicted Percent MSE = 0.00591\n",
      "Weighted  Percent MSE = 0.00270\n",
      "\n",
      "\n",
      "\n",
      "mu\n",
      "Predicted         MSE = 6.42744\n",
      "Weighted          MSE = 3.34322\n",
      "Predicted Percent MSE = 0.04473\n",
      "Weighted  Percent MSE = 0.02745\n",
      "\n",
      "\n",
      "\n"
     ]
    },
    {
     "data": {
      "image/png": "[encoded data removed]",
      "text/plain": [
       "<matplotlib.figure.Figure at 0x7ff1baecf050>"
      ]
     },
     "metadata": {},
     "output_type": "display_data"
    }
   ],
   "source": [
    "color_list = ['w','b','r','g']\n",
    "for j in range( 0, len(quote_list) ):\n",
    "\n",
    "    # Only look at one chunk at a time\n",
    "    close_df      = full_df[ chunk_index[j]:chunk_index[j+1]-1 ].copy()\n",
    "    current_quote = quote_list[j]\n",
    "    \n",
    "    \n",
    "    with open( 'data/smooth_shift.pkl', 'rb' ) as handle:\n",
    "        smooth_shift = pickle.load( handle )\n",
    "\n",
    "        # Tweak the difference in rolling means per day\n",
    "        # Lots of noise, this may force less noise, might not. We will see\n",
    "        for i in range( 0, len(roll_nums) ):\n",
    "\n",
    "            roll = str( roll_nums[i] )\n",
    "            if ( smooth_shift['smooth_'+str(roll_nums[i])] > 1 ):\n",
    "                close_df['pred_mean_'+roll] = close_df['pred_mean_'+roll].values[::-1]\n",
    "                close_df['pred_mean_'+roll] = close_df['pred_mean_'+roll].rolling( smooth_shift['smooth_'+str(roll_nums[i])]).mean()\n",
    "                close_df['pred_mean_'+roll] = close_df['pred_mean_'+roll].shift  (-smooth_shift[ 'shift_'+str(roll_nums[i])])\n",
    "                close_df['pred_mean_'+roll] = close_df['pred_mean_'+roll].values[::-1]\n",
    "            else:\n",
    "                close_df['pred_mean_'+roll] = close_df['pred_mean_'+roll]\n",
    "                \n",
    "    # Interpolates values using predicted rolling means\n",
    "    foo = fv.pred_from_mean( close_df, roll_nums )\n",
    "    \n",
    "    # Aligns predictions, so row is all the predictions for the same day\n",
    "    aligned_frame = foo.copy()\n",
    "    for i in range( 1, foo.shape[1] ):\n",
    "        aligned_frame['pred_'+str(i)] = aligned_frame['pred_'+str(i)].shift( -i )\n",
    "    aligned_frame = aligned_frame.dropna()\n",
    "    \n",
    "    \n",
    "    print current_quote\n",
    "    \n",
    "    # Plot fractional difference, fractional mean square error\n",
    "    std_dictionary, tot_weights = plot_mse( aligned_frame, current_quote, color_list[j], current_quote )\n",
    "    \n",
    "    # Print MSE info for normal and weighted distributions\n",
    "    print_mse( aligned_frame, std_dictionary, tot_weights )\n",
    "    \n",
    "    # Compare mse with weighted average\n",
    "#    compare_weight( aligned_frame, std_dictionary, current_quote, c_size=5 )\n",
    "    \n",
    "    print '\\n\\n'\n",
    "    \n",
    "plt.legend( loc=2 )\n",
    "plt.show()"
   ]
  },
  {
   "cell_type": "code",
   "execution_count": 67,
   "metadata": {
    "collapsed": false
   },
   "outputs": [],
   "source": [
    "def plot_mse( aligned_frame, which_quote, colz, lab ):\n",
    "\n",
    "    # STDev dictionary for weighting\n",
    "    std_dictionary = {}\n",
    "    tot_weights    = 0\n",
    "\n",
    "    # Predictions over the whole range\n",
    "    tot_diff  = np.zeros( aligned_frame.shape[1]-1 )\n",
    "    #mse_diff  = np.zeros( aligned_frame.shape[1]-1 )\n",
    "    fmse_diff = np.zeros( aligned_frame.shape[1]-1 )\n",
    "\n",
    "\n",
    "    for i in range( 1, len(aligned_frame.columns.values[1:]) ):\n",
    "        col         =   aligned_frame.columns.values[i]\n",
    "        tot_diff[i] = ( aligned_frame[col] / aligned_frame['close'] - 1      ).mean()\n",
    "    #    mse_diff[i] =(( aligned_frame[col] - aligned_frame['close']     )**2 ).mean()\n",
    "        fmse_diff[i]=(( aligned_frame[col] / aligned_frame['close'] - 1 )**2 ).mean()\n",
    "\n",
    "        std_dictionary['std_'+str(col)] = np.sqrt( fmse_diff[i] )\n",
    "        tot_weights = tot_weights + 1/std_dictionary['std_'+str(col)]\n",
    "\n",
    "    #print tot_diff\n",
    "    #plt.plot( range(1,30), tot_diff, color='b' )\n",
    "    #plt.title( 'Fractional difference between predicted close and true close for '+which_quote )\n",
    "    #plt.show()\n",
    "\n",
    "    #print mse_diff\n",
    "    #plt.plot( range(1,30), mse_diff, color='r' )\n",
    "    #plt.title( 'Mean Squared Error' )\n",
    "    #plt.show()\n",
    "\n",
    "    #print fmse_diff\n",
    "    plt.plot( range(1,30), fmse_diff, color=colz, label=lab )\n",
    "    plt.title( 'Fractional Mean Squared Errors of predicted close' )\n",
    "#    plt.show()\n",
    "    \n",
    "    return std_dictionary, tot_weights"
   ]
  },
  {
   "cell_type": "code",
   "execution_count": 53,
   "metadata": {
    "collapsed": false
   },
   "outputs": [],
   "source": [
    "def print_mse( aligned_frame, std_dictionary, tot_weights ):\n",
    "    # Predictions over the whole range\n",
    "\n",
    "    predicted_mse = 0\n",
    "    weighted_mse  = 0\n",
    "\n",
    "    predicted_percent_mse = 0\n",
    "    weighted_percent_mse  = 0\n",
    "\n",
    "    # Predict = average of predictions\n",
    "    # Weight  = average of predictions, weighted by stddev, sum ( x/w ) / ( n/w )\n",
    "    predicted = np.zeros( aligned_frame.shape[0] )\n",
    "    weighted  = np.zeros( aligned_frame.shape[0] )\n",
    "\n",
    "    n_cols = len(aligned_frame.columns.values[1:])\n",
    "    for i in range( 1, n_cols ):\n",
    "        col         =   aligned_frame.columns.values[i]\n",
    "\n",
    "        predicted   = predicted + aligned_frame[col]\n",
    "        weighted    = weighted  + aligned_frame[col] / std_dictionary['std_'+col]\n",
    "\n",
    "    predicted = predicted / n_cols\n",
    "    weighted  = weighted  / tot_weights\n",
    "\n",
    "    predicted_mse         = ( ( predicted - aligned_frame['close']     )**2 ).mean()\n",
    "    weighted_mse          = ( (  weighted - aligned_frame['close']     )**2 ).mean()\n",
    "\n",
    "    predicted_percent_mse = ( ( predicted / aligned_frame['close'] - 1 )**2 ).mean()\n",
    "    weighted_percent_mse  = ( (  weighted / aligned_frame['close'] - 1 )**2 ).mean()\n",
    "\n",
    "    print 'Predicted         MSE = %7.5f' % predicted_mse\n",
    "    print 'Weighted          MSE = %7.5f' % weighted_mse\n",
    "    print 'Predicted Percent MSE = %7.5f' % predicted_percent_mse\n",
    "    print 'Weighted  Percent MSE = %7.5f' % weighted_percent_mse"
   ]
  },
  {
   "cell_type": "code",
   "execution_count": 57,
   "metadata": {
    "collapsed": false,
    "scrolled": false
   },
   "outputs": [],
   "source": [
    "def compare_weight( aligned_frame, std_dictionary, current_quote, c_size=3 ):\n",
    "    chunk_list = [1,5,10,15,20,25,28]\n",
    "\n",
    "    per_list = []\n",
    "    wei_list = []\n",
    "\n",
    "    for i in range( 1, 28-c_size ):\n",
    "        j = i + c_size\n",
    "\n",
    "        # Predictions over the whole range\n",
    "\n",
    "        predicted_mse = 0\n",
    "        weighted_mse  = 0\n",
    "\n",
    "        predicted_percent_mse = 0\n",
    "        weighted_percent_mse  = 0\n",
    "\n",
    "        # Predict = average of predictions\n",
    "        # Weight  = average of predictions, weighted by stddev, sum ( x/w ) / ( n/w )\n",
    "        predicted = np.zeros( aligned_frame.shape[0] )\n",
    "        weighted  = np.zeros( aligned_frame.shape[0] )\n",
    "\n",
    "        n_cols     = len(aligned_frame.columns.values[1:])\n",
    "        weight_sum = 0\n",
    "        for k in range( i, j ):\n",
    "            col         =   aligned_frame.columns.values[k]\n",
    "\n",
    "            predicted   = predicted + aligned_frame[col]\n",
    "            weighted    = weighted  + aligned_frame[col] / std_dictionary['std_'+col]\n",
    "\n",
    "            weight_sum  = weight_sum + 1./std_dictionary['std_'+col]\n",
    "\n",
    "        predicted = predicted / (j-i)\n",
    "        weighted  = weighted  / weight_sum\n",
    "\n",
    "        predicted_mse         = ( ( predicted - aligned_frame['close']     )**2 ).mean()\n",
    "        weighted_mse          = ( (  weighted - aligned_frame['close']     )**2 ).mean()\n",
    "\n",
    "        predicted_percent_mse = ( ( predicted / aligned_frame['close'] - 1 )**2 ).mean()\n",
    "        weighted_percent_mse  = ( (  weighted / aligned_frame['close'] - 1 )**2 ).mean()\n",
    "\n",
    "    #    print i,'-',j\n",
    "    #    print 'Predicted         MSE = %7.5f' % predicted_mse\n",
    "    #    print 'Weighted          MSE = %7.5f' % weighted_mse\n",
    "    #    print 'Predicted Percent MSE = %7.5f' % predicted_percent_mse\n",
    "    #    print 'Weighted  Percent MSE = %7.5f' % weighted_percent_mse\n",
    "    #    print ' '\n",
    "\n",
    "        per_list.append( predicted_percent_mse )\n",
    "        wei_list.append(  weighted_percent_mse )\n",
    "\n",
    "    plt.plot( range(1, len(per_list)+1), per_list , color='g', label='Percent MSE' )\n",
    "    plt.plot( range(1, len(wei_list)+1), wei_list , color='r', label='Weighted Percent MSE' )\n",
    "    plt.legend( loc=2 )\n",
    "    plt.title('Fractional MSE of '+str(c_size)+' day window averaged prediction for '+current_quote)\n",
    "    plt.show()"
   ]
  },
  {
   "cell_type": "code",
   "execution_count": null,
   "metadata": {
    "collapsed": true
   },
   "outputs": [],
   "source": []
  }
 ],
 "metadata": {
  "kernelspec": {
   "display_name": "Python 2",
   "language": "python",
   "name": "python2"
  },
  "language_info": {
   "codemirror_mode": {
    "name": "ipython",
    "version": 2
   },
   "file_extension": ".py",
   "mimetype": "text/x-python",
   "name": "python",
   "nbconvert_exporter": "python",
   "pygments_lexer": "ipython2",
   "version": "2.7.13"
  }
 },
 "nbformat": 4,
 "nbformat_minor": 2
}

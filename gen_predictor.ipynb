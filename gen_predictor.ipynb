{
 "cells": [
  {
   "cell_type": "code",
   "execution_count": 1,
   "metadata": {
    "collapsed": true
   },
   "outputs": [],
   "source": [
    "import numpy  as np\n",
    "import pandas as pd\n",
    "import matplotlib.pyplot as plt\n",
    "import seaborn as sns\n",
    "\n",
    "import read_quote      as rq\n",
    "import stock_functions as sf\n",
    "import df_visualizations as dv\n",
    "import remap_values as rv\n",
    "import fill_values as fv\n",
    "\n",
    "import random\n",
    "import pickle\n",
    "\n",
    "import sys\n",
    "import time"
   ]
  },
  {
   "cell_type": "code",
   "execution_count": 2,
   "metadata": {
    "collapsed": true
   },
   "outputs": [],
   "source": [
    "from sklearn.svm            import SVR\n",
    "from sklearn.ensemble       import RandomForestRegressor\n",
    "from sklearn.linear_model   import ElasticNet\n",
    "from sklearn.neural_network import MLPRegressor\n",
    "from sklearn.ensemble       import BaggingRegressor\n",
    "from sklearn.ensemble       import AdaBoostRegressor\n",
    "\n",
    "from sklearn.multioutput    import MultiOutputRegressor\n",
    "\n",
    "from sklearn.utils          import shuffle\n",
    "\n",
    "from sklearn.metrics        import mean_squared_error\n",
    "\n",
    "from sklearn.model_selection import cross_val_score\n",
    "from sklearn.model_selection import GridSearchCV\n",
    "\n",
    "from sklearn.multioutput    import MultiOutputRegressor"
   ]
  },
  {
   "cell_type": "code",
   "execution_count": 3,
   "metadata": {
    "collapsed": true
   },
   "outputs": [],
   "source": [
    "%matplotlib inline\n",
    "plt.style.use('dark_background')\n",
    "plt.rcParams['figure.figsize'] = (14, 10)"
   ]
  },
  {
   "cell_type": "code",
   "execution_count": 4,
   "metadata": {
    "collapsed": true
   },
   "outputs": [],
   "source": [
    "roll_nums = [3,5,8,10,15,20,25,30]  # Generate an algorithm for predicting every few days\n",
    "mom_nums  = [3,5,8,10,15,20,25,30]  # Momentum has many good tracers\n",
    "rsi_nums  = [10,15,20,25,30]        # Good for some long term trends\n",
    "band_nums = [5,8,10,15,20,25]       # A few trace different areas well"
   ]
  },
  {
   "cell_type": "code",
   "execution_count": 5,
   "metadata": {
    "collapsed": true
   },
   "outputs": [],
   "source": [
    "inpFileList = ['aapl','acm' ,'awk' ,'amzn','awr' ,'ba'  ,'bac' ,'c'   ,'cat' ,'cop' ,'cvx' ,'dal' ,\n",
    "               'dd'  ,'farm','fdp' ,'gnc' ,'hes' ,'ibm' ,'mas' ,'mcd' ,'mon' ,'msex','msft','nflx',\n",
    "               'sbux','strl','tgt' ,'tsla','ups' ,'xom' ,'xpo' ,'vmc' ]"
   ]
  },
  {
   "cell_type": "code",
   "execution_count": null,
   "metadata": {
    "collapsed": true
   },
   "outputs": [],
   "source": []
  },
  {
   "cell_type": "code",
   "execution_count": 6,
   "metadata": {
    "collapsed": false
   },
   "outputs": [],
   "source": [
    "scaled_df = sf.get_scaled_data( inpFileList, roll_nums, mom_nums, rsi_nums, band_nums )"
   ]
  },
  {
   "cell_type": "code",
   "execution_count": 6,
   "metadata": {
    "collapsed": false
   },
   "outputs": [],
   "source": [
    "#scaled_df = sf.gen_pca_attributes( scaled_df, mom_nums, rsi_nums, band_nums, n_mom=3, n_rsi=2, n_ban=2 )"
   ]
  },
  {
   "cell_type": "code",
   "execution_count": 7,
   "metadata": {
    "collapsed": true
   },
   "outputs": [],
   "source": [
    "# Read in each stock, and perform reduction\n",
    "#    Break into train, test sets\n",
    "#    Store train, test sets in arrays\n",
    "# For each regressor predicting a certain num of days...\n",
    "#    Manually cross validate, testing and scoring each set"
   ]
  },
  {
   "cell_type": "code",
   "execution_count": null,
   "metadata": {
    "collapsed": true
   },
   "outputs": [],
   "source": []
  },
  {
   "cell_type": "code",
   "execution_count": 7,
   "metadata": {
    "collapsed": true
   },
   "outputs": [],
   "source": [
    "# Mix up the list\n",
    "shuff_scaled_df = shuffle( scaled_df )\n",
    "\n",
    "\n",
    "# Seperate features from target data\n",
    "close_list = ['close']\n",
    "for i in roll_nums:\n",
    "    close_list.append( 'close_mean_'+str(i) )\n",
    "\n",
    "targets  = shuff_scaled_df[close_list]\n",
    "features = shuff_scaled_df.drop( close_list, axis=1 )\n",
    "\n",
    "\n",
    "\n",
    "n_elements = shuff_scaled_df.shape[0]\n",
    "\n",
    "# Set the fraction of data we will train over\n",
    "percent_train = 0.8\n",
    "\n",
    "# Size of training set\n",
    "n_train = int( percent_train * n_elements )\n",
    "\n",
    "\n",
    "# Seperate training and test data\n",
    "train_features = features[ : n_train   ]\n",
    "test_features  = features[   n_train : ]\n",
    "\n",
    "train_targets  =  targets[ : n_train   ].drop( 'close', axis=1 )\n",
    "test_targets   =  targets[   n_train : ].drop( 'close', axis=1 )"
   ]
  },
  {
   "cell_type": "code",
   "execution_count": null,
   "metadata": {
    "collapsed": true
   },
   "outputs": [],
   "source": []
  },
  {
   "cell_type": "code",
   "execution_count": 8,
   "metadata": {
    "collapsed": false
   },
   "outputs": [
    {
     "data": {
      "text/plain": [
       "MultiOutputRegressor(estimator=AdaBoostRegressor(base_estimator=RandomForestRegressor(bootstrap=True, criterion='mse', max_depth=None,\n",
       "           max_features=0.7, max_leaf_nodes=None, min_impurity_split=1e-07,\n",
       "           min_samples_leaf=1, min_samples_split=2,\n",
       "           min_weight_fraction_leaf=0.0, n_estimators=20, n_jobs=1,\n",
       "           oob_score=False, random_state=None, verbose=0, warm_start=False),\n",
       "         learning_rate=1.0, loss='exponential', n_estimators=5,\n",
       "         random_state=None),\n",
       "           n_jobs=1)"
      ]
     },
     "execution_count": 8,
     "metadata": {},
     "output_type": "execute_result"
    }
   ],
   "source": [
    "# Gets the location of not null values\n",
    "train_not_null_locations = train_targets.notnull().all( axis=1 )==1\n",
    "test_not_null_locations  =  test_targets.notnull().all( axis=1 )==1\n",
    "\n",
    "# Take features and targets that are not null\n",
    "train_x = train_features[ train_not_null_locations ].values\n",
    "test_x  =  test_features[  test_not_null_locations ].values\n",
    "\n",
    "train_y = train_targets[ train_not_null_locations ].values\n",
    "test_y  =  test_targets[  test_not_null_locations ].values\n",
    "\n",
    "ad_mult_reg = MultiOutputRegressor( AdaBoostRegressor( base_estimator=RandomForestRegressor( n_estimators=20, max_features=0.7 ), \n",
    "#                            loss='exponential', n_estimators=10 ) )\n",
    "                            loss='exponential', n_estimators=5 ) )\n",
    "#                            loss='exponential', n_estimators=3 ) )\n",
    "\n",
    "ad_mult_reg.fit( train_x, train_y )"
   ]
  },
  {
   "cell_type": "code",
   "execution_count": null,
   "metadata": {
    "collapsed": true
   },
   "outputs": [],
   "source": []
  },
  {
   "cell_type": "code",
   "execution_count": 9,
   "metadata": {
    "collapsed": false
   },
   "outputs": [
    {
     "name": "stdout",
     "output_type": "stream",
     "text": [
      " close_mean_3 MSE :  0.28736, Percent ME : 36.03992\n",
      " close_mean_5 MSE :  0.01817, Percent ME :  9.06243\n",
      " close_mean_7 MSE :  0.02099, Percent ME :  9.73959\n",
      "close_mean_10 MSE :  0.00909, Percent ME :  6.41166\n",
      "close_mean_12 MSE :  0.02232, Percent ME : 10.04452\n",
      "close_mean_15 MSE :  0.02216, Percent ME : 10.00922\n"
     ]
    }
   ],
   "source": [
    "test_60 = ad_mult_reg.predict( test_x )\n",
    "\n",
    "for i in range( 1, len( close_list[1:] ) ) :\n",
    "    mse = mean_squared_error( test_y[i-1], test_60[i-1] )\n",
    "    print '%13s MSE : %8.5f, Percent ME : %8.5f' % ( close_list[i], mse, np.sqrt(mse)/np.mean(test_y) )"
   ]
  },
  {
   "cell_type": "code",
   "execution_count": 29,
   "metadata": {
    "collapsed": false
   },
   "outputs": [
    {
     "name": "stdout",
     "output_type": "stream",
     "text": [
      " close_mean_3 MSE :  0.11175, Percent ME : 22.26275\n",
      " close_mean_5 MSE :  0.02046, Percent ME :  9.52490\n",
      " close_mean_7 MSE :  0.01597, Percent ME :  8.41539\n",
      "close_mean_10 MSE :  0.00119, Percent ME :  2.29876\n",
      "close_mean_12 MSE :  0.23849, Percent ME : 32.52288\n",
      "close_mean_15 MSE :  0.26986, Percent ME : 34.59590\n"
     ]
    }
   ],
   "source": [
    "test_70 = ad_mult_reg.predict( test_x )\n",
    "\n",
    "for i in range( 1, len( close_list[1:] ) ) :\n",
    "    mse = mean_squared_error( test_y[i-1], test_70[i-1] )\n",
    "    print '%13s MSE : %8.5f, Percent ME : %8.5f' % ( close_list[i], mse, np.sqrt(mse)/np.mean(test_y) )"
   ]
  },
  {
   "cell_type": "code",
   "execution_count": 12,
   "metadata": {
    "collapsed": false
   },
   "outputs": [
    {
     "name": "stdout",
     "output_type": "stream",
     "text": [
      " close_mean_3 MSE :  0.00034, Percent ME :  1.28400\n",
      " close_mean_5 MSE :  0.00052, Percent ME :  1.57940\n",
      " close_mean_7 MSE :  0.00769, Percent ME :  6.09548\n",
      "close_mean_10 MSE :  0.00520, Percent ME :  5.01383\n",
      "close_mean_12 MSE :  0.04772, Percent ME : 15.18780\n",
      "close_mean_15 MSE :  0.01710, Percent ME :  9.09208\n",
      "close_mean_20 MSE :  0.04250, Percent ME : 14.33349\n",
      "close_mean_25 MSE :  0.10339, Percent ME : 22.35573\n"
     ]
    }
   ],
   "source": [
    "test_80 = ad_mult_reg.predict( test_x )\n",
    "\n",
    "for i in range( 1, len( close_list[1:] )+1 ) :\n",
    "    mse = mean_squared_error( test_y[i-1], test_80[i-1] )\n",
    "    print '%13s MSE : %8.5f, Percent ME : %8.5f' % ( close_list[i], mse, np.sqrt(mse)/np.mean(test_y) )"
   ]
  },
  {
   "cell_type": "code",
   "execution_count": 8,
   "metadata": {
    "collapsed": false
   },
   "outputs": [
    {
     "name": "stdout",
     "output_type": "stream",
     "text": [
      " close_mean_3 MSE :  0.00052, Percent ME :  1.58310\n",
      " close_mean_5 MSE :  0.01097, Percent ME :  7.28296\n",
      " close_mean_7 MSE :  0.02160, Percent ME : 10.21904\n",
      "close_mean_10 MSE :  0.00542, Percent ME :  5.11623\n",
      "close_mean_12 MSE :  0.04154, Percent ME : 14.17041\n",
      "close_mean_15 MSE :  0.01140, Percent ME :  7.42228\n",
      "close_mean_20 MSE :  0.01214, Percent ME :  7.66086\n",
      "close_mean_25 MSE :  0.06858, Percent ME : 18.20686\n"
     ]
    }
   ],
   "source": [
    "test_80_5 = ad_mult_reg.predict( test_x )\n",
    "\n",
    "for i in range( 1, len( close_list[1:] )+1 ) :\n",
    "    mse = mean_squared_error( test_y[i-1], test_80_5[i-1] )\n",
    "    print '%13s MSE : %8.5f, Percent ME : %8.5f' % ( close_list[i], mse, np.sqrt(mse)/np.mean(test_y) )"
   ]
  },
  {
   "cell_type": "code",
   "execution_count": 8,
   "metadata": {
    "collapsed": false
   },
   "outputs": [
    {
     "name": "stdout",
     "output_type": "stream",
     "text": [
      " close_mean_3 MSE :  0.04622, Percent ME : 16.03829\n",
      " close_mean_5 MSE :  0.00280, Percent ME :  3.95061\n",
      " close_mean_7 MSE :  0.06953, Percent ME : 19.67037\n",
      "close_mean_10 MSE :  0.03379, Percent ME : 13.71227\n",
      "close_mean_12 MSE :  0.00471, Percent ME :  5.11735\n",
      "close_mean_15 MSE :  0.26712, Percent ME : 38.55589\n",
      "close_mean_18 MSE :  0.02227, Percent ME : 11.13333\n",
      "close_mean_20 MSE :  0.00127, Percent ME :  2.66170\n",
      "close_mean_23 MSE :  0.00853, Percent ME :  6.89029\n",
      "close_mean_25 MSE :  0.02849, Percent ME : 12.59120\n",
      "close_mean_28 MSE :  0.00738, Percent ME :  6.40677\n",
      "close_mean_30 MSE :  0.02438, Percent ME : 11.64905\n"
     ]
    }
   ],
   "source": [
    "test_all = ad_mult_reg.predict( test_x )\n",
    "\n",
    "for i in range( 1, len( close_list[1:] )+1 ) :\n",
    "    mse = mean_squared_error( test_y[i-1], test_all[i-1] )\n",
    "    print '%13s MSE : %8.5f, Percent ME : %8.5f' % ( close_list[i], mse, np.sqrt(mse)/np.mean(test_y) )"
   ]
  },
  {
   "cell_type": "code",
   "execution_count": 8,
   "metadata": {
    "collapsed": false
   },
   "outputs": [
    {
     "name": "stdout",
     "output_type": "stream",
     "text": [
      " close_mean_3 MSE :  0.01164, Percent ME :  8.63749\n",
      " close_mean_5 MSE :  0.00212, Percent ME :  3.68463\n",
      " close_mean_7 MSE :  0.08406, Percent ME : 23.21046\n",
      "close_mean_10 MSE :  0.00056, Percent ME :  1.89508\n",
      "close_mean_12 MSE :  0.00012, Percent ME :  0.86886\n",
      "close_mean_15 MSE :  0.00403, Percent ME :  5.08291\n",
      "close_mean_18 MSE :  0.01355, Percent ME :  9.31947\n",
      "close_mean_20 MSE :  0.04023, Percent ME : 16.05616\n",
      "close_mean_23 MSE :  0.00035, Percent ME :  1.48873\n",
      "close_mean_25 MSE :  0.00362, Percent ME :  4.81892\n",
      "close_mean_28 MSE :  0.08284, Percent ME : 23.04127\n",
      "close_mean_30 MSE :  0.00043, Percent ME :  1.66966\n"
     ]
    }
   ],
   "source": [
    "test_80_3_all = ad_mult_reg.predict( test_x )\n",
    "\n",
    "for i in range( 1, len( close_list[1:] )+1 ) :\n",
    "    mse = mean_squared_error( test_y[i-1], test_80_3_all[i-1] )\n",
    "    print '%13s MSE : %8.5f, Percent ME : %8.5f' % ( close_list[i], mse, np.sqrt(mse)/np.mean(test_y) )"
   ]
  },
  {
   "cell_type": "code",
   "execution_count": 9,
   "metadata": {
    "collapsed": false
   },
   "outputs": [
    {
     "name": "stdout",
     "output_type": "stream",
     "text": [
      " close_mean_3 MSE :  0.00222, Percent ME :  0.42910\n",
      " close_mean_5 MSE :  0.01836, Percent ME :  1.23313\n",
      " close_mean_8 MSE :  0.01501, Percent ME :  1.11468\n",
      "close_mean_10 MSE :  0.01245, Percent ME :  1.01514\n",
      "close_mean_15 MSE :  0.00850, Percent ME :  0.83905\n",
      "close_mean_20 MSE :  0.01199, Percent ME :  0.99655\n",
      "close_mean_25 MSE :  0.00141, Percent ME :  0.34111\n",
      "close_mean_30 MSE :  0.00918, Percent ME :  0.87200\n"
     ]
    }
   ],
   "source": [
    "test_80_3_most = ad_mult_reg.predict( test_x )\n",
    "\n",
    "for i in range( 1, len( close_list[1:] )+1 ) :\n",
    "    mse = mean_squared_error( test_y[i-1], test_80_3_most[i-1] )\n",
    "    print '%13s MSE : %8.5f, Percent ME : %8.5f' % ( close_list[i], mse, np.sqrt(mse)/np.mean(abs(test_y) ) )"
   ]
  },
  {
   "cell_type": "code",
   "execution_count": 9,
   "metadata": {
    "collapsed": false
   },
   "outputs": [
    {
     "name": "stdout",
     "output_type": "stream",
     "text": [
      " close_mean_3 MSE :  0.00649, Percent ME : 12.98574\n",
      " close_mean_5 MSE :  0.00211, Percent ME :  7.41025\n",
      " close_mean_8 MSE :  0.00104, Percent ME :  5.20778\n",
      "close_mean_10 MSE :  0.00210, Percent ME :  7.37992\n",
      "close_mean_15 MSE :  0.00080, Percent ME :  4.55972\n",
      "close_mean_20 MSE :  0.00079, Percent ME :  4.52991\n",
      "close_mean_25 MSE :  0.00005, Percent ME :  1.13432\n",
      "close_mean_30 MSE :  0.00121, Percent ME :  5.60555\n"
     ]
    }
   ],
   "source": [
    "test_80_5_most = ad_mult_reg.predict( test_x )\n",
    "\n",
    "for i in range( 1, len( close_list[1:] )+1 ) :\n",
    "    mse = mean_squared_error( test_y[i-1], test_80_5_most[i-1] )\n",
    "    print '%13s MSE : %8.5f, Percent ME : %8.5f' % ( close_list[i], mse, np.sqrt(mse)/np.mean(test_y) )"
   ]
  },
  {
   "cell_type": "code",
   "execution_count": null,
   "metadata": {
    "collapsed": true
   },
   "outputs": [],
   "source": []
  },
  {
   "cell_type": "code",
   "execution_count": 10,
   "metadata": {
    "collapsed": false
   },
   "outputs": [
    {
     "name": "stdout",
     "output_type": "stream",
     "text": [
      " close_mean_3   RMSE :  0.08055,   RMSE/mean :  1.74393\n",
      " close_mean_5   RMSE :  0.04596,   RMSE/mean :  0.99516\n",
      " close_mean_8   RMSE :  0.03230,   RMSE/mean :  0.69938\n",
      "close_mean_10   RMSE :  0.04578,   RMSE/mean :  0.99109\n",
      "close_mean_15   RMSE :  0.02828,   RMSE/mean :  0.61235\n",
      "close_mean_20   RMSE :  0.02810,   RMSE/mean :  0.60835\n",
      "close_mean_25   RMSE :  0.00704,   RMSE/mean :  0.15233\n",
      "close_mean_30   RMSE :  0.03477,   RMSE/mean :  0.75280\n",
      "{'std_25': 0.0070359109472509828, 'std_30': 0.034769905905065297, 'std_20': 0.028097955342065623, 'std_15': 0.02828284048045128, 'std_10': 0.04577586641613135, 'std_5': 0.045963995633090886, 'std_3': 0.080547427926956711, 'std_8': 0.03230259625805873}\n"
     ]
    }
   ],
   "source": [
    "pred_values = test_80_5_most\n",
    "\n",
    "std_dict = {}\n",
    "\n",
    "for i in range( 0, len( close_list[1:] ) ) :\n",
    "    rmse = np.sqrt( mean_squared_error( test_y[i], pred_values[i] ) )\n",
    "    col  = 'std_' + str( roll_nums[i] )\n",
    "    std_dict[col] = rmse\n",
    "    print '%13s   RMSE : %8.5f,   RMSE/mean : %8.5f' % ( close_list[i+1], rmse, rmse/np.mean( abs(test_y)) )\n",
    "    \n",
    "print std_dict"
   ]
  },
  {
   "cell_type": "code",
   "execution_count": null,
   "metadata": {
    "collapsed": true
   },
   "outputs": [],
   "source": []
  },
  {
   "cell_type": "code",
   "execution_count": 109,
   "metadata": {
    "collapsed": true
   },
   "outputs": [],
   "source": [
    "with open( 'data/temp.pkl', 'wb' ) as handle:\n",
    "    pickle.dump( ad_mult_reg, handle, protocol=pickle.HIGHEST_PROTOCOL)"
   ]
  },
  {
   "cell_type": "code",
   "execution_count": null,
   "metadata": {
    "collapsed": true
   },
   "outputs": [],
   "source": [
    "with open( 'data/temp.pkl', 'rb' ) as handle:\n",
    "    ad_mult_reg = pickle.load( handle )"
   ]
  },
  {
   "cell_type": "code",
   "execution_count": null,
   "metadata": {
    "collapsed": true
   },
   "outputs": [],
   "source": []
  },
  {
   "cell_type": "code",
   "execution_count": 14,
   "metadata": {
    "collapsed": true
   },
   "outputs": [],
   "source": [
    "# Test on this quote"
   ]
  },
  {
   "cell_type": "code",
   "execution_count": 129,
   "metadata": {
    "collapsed": false
   },
   "outputs": [],
   "source": [
    "quote_name = 'aapl'\n",
    "\n",
    "\n",
    "# Generate df with the actual rolling averages\n",
    "close_df = rq.readQuote( 'quotes/'+ quote_name +'.csv' )\n",
    "close_df = pd.merge( close_df['close'].to_frame(), sf.generate_rolling_close( close_df, roll_nums, onlyMean=True ), \n",
    "                    left_index=True, right_index=True )\n",
    "close_means = close_df.columns.values\n",
    "\n",
    "\n",
    "# Generate predicted rolling mean percentage increases\n",
    "pred_df     = sf.get_scaled_data( [quote_name], roll_nums, mom_nums, rsi_nums, band_nums ).dropna()\n",
    "pred_values = ad_mult_reg.predict( pred_df.drop( close_means, axis=1 ) )\n",
    "\n",
    "\n",
    "# Adjust close to match pred df shape\n",
    "close_df = close_df.ix[ pred_df.index.values ].dropna()\n",
    "\n",
    "# Pred percent increase = future/now - 1\n",
    "for i in range( 0 , pred_values.shape[1] ):\n",
    "    close_df[ 'pred_mean_' + str( roll_nums[i] ) ] = ( pred_values[:,i] + 1 ) * close_df[ 'close_mean_' + str( roll_nums[i] ) ]\n",
    "    close_df[ 'pred_mean_' + str( roll_nums[i] ) ] = close_df[ 'pred_mean_' + str( roll_nums[i] ) ].shift( -roll_nums[i]+1 )\n",
    "#    close_df[ 'pred_mean_' + str( roll_nums[i] ) ] = ( close_df[ 'pred_mean_' + str( roll_nums[i] ) ] + \n",
    "#                                                       close_df[ 'pred_mean_' + str( roll_nums[i] ) ].shift(-1) ) / 2.\n",
    "close_df = close_df.dropna()"
   ]
  },
  {
   "cell_type": "code",
   "execution_count": 98,
   "metadata": {
    "collapsed": false
   },
   "outputs": [],
   "source": [
    "#smooth_vals = [0,3,3,3,3,4,4,5] # 10, 09, 10, 11, 14, 15, 19, 20\n",
    "#shift_vals  = [0,1,2,2,3,4,4,5]\n",
    "#smooth_vals = [0,2,2,3,3,4,4,5] # 10, 12, 12, 11, 14, 15, 19, 20\n",
    "#shift_vals  = [0,0,1,2,3,4,4,5]\n",
    "\n",
    "\n",
    "#smooth_shift = {}\n",
    "## Save the smooth/shift values\n",
    "#for i in range( 0, len(shift_vals) ):\n",
    "#    smooth_shift['smooth_'+str(roll_nums[i])] = smooth_vals[i]\n",
    "#    smooth_shift[ 'shift_'+str(roll_nums[i])] =  shift_vals[i]\n",
    "#with open( 'data/smooth_shift.pkl', 'wb' ) as handle:\n",
    "#    pickle.dump( smooth_shift, handle, protocol=pickle.HIGHEST_PROTOCOL)"
   ]
  },
  {
   "cell_type": "code",
   "execution_count": 130,
   "metadata": {
    "collapsed": true
   },
   "outputs": [
    {
     "ename": "KeyError",
     "evalue": "'new_mean_3'",
     "output_type": "error",
     "traceback": [
      "\u001b[0;31m---------------------------------------------------------------------------\u001b[0m",
      "\u001b[0;31mKeyError\u001b[0m                                  Traceback (most recent call last)",
      "\u001b[0;32m<ipython-input-130-5564262d91d6>\u001b[0m in \u001b[0;36m<module>\u001b[0;34m()\u001b[0m\n\u001b[1;32m      9\u001b[0m     \u001b[0mclose_df\u001b[0m\u001b[0;34m[\u001b[0m\u001b[0mhi\u001b[0m\u001b[0;34m:\u001b[0m\u001b[0mlow\u001b[0m\u001b[0;34m:\u001b[0m\u001b[0;34m-\u001b[0m\u001b[0;36m1\u001b[0m\u001b[0;34m]\u001b[0m\u001b[0;34m.\u001b[0m\u001b[0mplot\u001b[0m\u001b[0;34m(\u001b[0m \u001b[0my\u001b[0m \u001b[0;34m=\u001b[0m \u001b[0;34m'close_mean_'\u001b[0m\u001b[0;34m+\u001b[0m\u001b[0mstr\u001b[0m\u001b[0;34m(\u001b[0m\u001b[0mi\u001b[0m\u001b[0;34m)\u001b[0m\u001b[0;34m,\u001b[0m \u001b[0mcolor\u001b[0m\u001b[0;34m=\u001b[0m\u001b[0;34m'b'\u001b[0m\u001b[0;34m,\u001b[0m \u001b[0max\u001b[0m\u001b[0;34m=\u001b[0m\u001b[0max1\u001b[0m \u001b[0;34m)\u001b[0m\u001b[0;34m\u001b[0m\u001b[0m\n\u001b[1;32m     10\u001b[0m \u001b[0;31m#    close_df[hi:low:-1].plot( y =  'pred_mean_'+str(i), color='g', ax=ax1 )\u001b[0m\u001b[0;34m\u001b[0m\u001b[0;34m\u001b[0m\u001b[0m\n\u001b[0;32m---> 11\u001b[0;31m     \u001b[0mclose_df\u001b[0m\u001b[0;34m[\u001b[0m\u001b[0mhi\u001b[0m\u001b[0;34m:\u001b[0m\u001b[0mlow\u001b[0m\u001b[0;34m:\u001b[0m\u001b[0;34m-\u001b[0m\u001b[0;36m1\u001b[0m\u001b[0;34m]\u001b[0m\u001b[0;34m.\u001b[0m\u001b[0mplot\u001b[0m\u001b[0;34m(\u001b[0m \u001b[0my\u001b[0m \u001b[0;34m=\u001b[0m   \u001b[0;34m'new_mean_'\u001b[0m\u001b[0;34m+\u001b[0m\u001b[0mstr\u001b[0m\u001b[0;34m(\u001b[0m\u001b[0mi\u001b[0m\u001b[0;34m)\u001b[0m\u001b[0;34m,\u001b[0m \u001b[0mcolor\u001b[0m\u001b[0;34m=\u001b[0m\u001b[0;34m'r'\u001b[0m\u001b[0;34m,\u001b[0m \u001b[0max\u001b[0m\u001b[0;34m=\u001b[0m\u001b[0max1\u001b[0m \u001b[0;34m)\u001b[0m\u001b[0;34m\u001b[0m\u001b[0m\n\u001b[0m\u001b[1;32m     12\u001b[0m     \u001b[0max1\u001b[0m\u001b[0;34m.\u001b[0m\u001b[0mset_title\u001b[0m\u001b[0;34m(\u001b[0m \u001b[0;34m'Comparison between rolling means of predicted '\u001b[0m \u001b[0;34m+\u001b[0m \u001b[0mstr\u001b[0m\u001b[0;34m(\u001b[0m\u001b[0mi\u001b[0m\u001b[0;34m)\u001b[0m\u001b[0;34m)\u001b[0m \u001b[0;31m#+ ' day rolling mean for AAPL' )\u001b[0m\u001b[0;34m\u001b[0m\u001b[0m\n\u001b[1;32m     13\u001b[0m     \u001b[0max1\u001b[0m\u001b[0;34m.\u001b[0m\u001b[0mset_ylabel\u001b[0m\u001b[0;34m(\u001b[0m \u001b[0;34m'Price'\u001b[0m \u001b[0;34m)\u001b[0m\u001b[0;34m\u001b[0m\u001b[0m\n",
      "\u001b[0;32m/home/sean/anaconda/lib/python2.7/site-packages/pandas/tools/plotting.pyc\u001b[0m in \u001b[0;36m__call__\u001b[0;34m(self, x, y, kind, ax, subplots, sharex, sharey, layout, figsize, use_index, title, grid, legend, style, logx, logy, loglog, xticks, yticks, xlim, ylim, rot, fontsize, colormap, table, yerr, xerr, secondary_y, sort_columns, **kwds)\u001b[0m\n\u001b[1;32m   3772\u001b[0m                           \u001b[0mfontsize\u001b[0m\u001b[0;34m=\u001b[0m\u001b[0mfontsize\u001b[0m\u001b[0;34m,\u001b[0m \u001b[0mcolormap\u001b[0m\u001b[0;34m=\u001b[0m\u001b[0mcolormap\u001b[0m\u001b[0;34m,\u001b[0m \u001b[0mtable\u001b[0m\u001b[0;34m=\u001b[0m\u001b[0mtable\u001b[0m\u001b[0;34m,\u001b[0m\u001b[0;34m\u001b[0m\u001b[0m\n\u001b[1;32m   3773\u001b[0m                           \u001b[0myerr\u001b[0m\u001b[0;34m=\u001b[0m\u001b[0myerr\u001b[0m\u001b[0;34m,\u001b[0m \u001b[0mxerr\u001b[0m\u001b[0;34m=\u001b[0m\u001b[0mxerr\u001b[0m\u001b[0;34m,\u001b[0m \u001b[0msecondary_y\u001b[0m\u001b[0;34m=\u001b[0m\u001b[0msecondary_y\u001b[0m\u001b[0;34m,\u001b[0m\u001b[0;34m\u001b[0m\u001b[0m\n\u001b[0;32m-> 3774\u001b[0;31m                           sort_columns=sort_columns, **kwds)\n\u001b[0m\u001b[1;32m   3775\u001b[0m     \u001b[0m__call__\u001b[0m\u001b[0;34m.\u001b[0m\u001b[0m__doc__\u001b[0m \u001b[0;34m=\u001b[0m \u001b[0mplot_frame\u001b[0m\u001b[0;34m.\u001b[0m\u001b[0m__doc__\u001b[0m\u001b[0;34m\u001b[0m\u001b[0m\n\u001b[1;32m   3776\u001b[0m \u001b[0;34m\u001b[0m\u001b[0m\n",
      "\u001b[0;32m/home/sean/anaconda/lib/python2.7/site-packages/pandas/tools/plotting.pyc\u001b[0m in \u001b[0;36mplot_frame\u001b[0;34m(data, x, y, kind, ax, subplots, sharex, sharey, layout, figsize, use_index, title, grid, legend, style, logx, logy, loglog, xticks, yticks, xlim, ylim, rot, fontsize, colormap, table, yerr, xerr, secondary_y, sort_columns, **kwds)\u001b[0m\n\u001b[1;32m   2641\u001b[0m                  \u001b[0myerr\u001b[0m\u001b[0;34m=\u001b[0m\u001b[0myerr\u001b[0m\u001b[0;34m,\u001b[0m \u001b[0mxerr\u001b[0m\u001b[0;34m=\u001b[0m\u001b[0mxerr\u001b[0m\u001b[0;34m,\u001b[0m\u001b[0;34m\u001b[0m\u001b[0m\n\u001b[1;32m   2642\u001b[0m                  \u001b[0msecondary_y\u001b[0m\u001b[0;34m=\u001b[0m\u001b[0msecondary_y\u001b[0m\u001b[0;34m,\u001b[0m \u001b[0msort_columns\u001b[0m\u001b[0;34m=\u001b[0m\u001b[0msort_columns\u001b[0m\u001b[0;34m,\u001b[0m\u001b[0;34m\u001b[0m\u001b[0m\n\u001b[0;32m-> 2643\u001b[0;31m                  **kwds)\n\u001b[0m\u001b[1;32m   2644\u001b[0m \u001b[0;34m\u001b[0m\u001b[0m\n\u001b[1;32m   2645\u001b[0m \u001b[0;34m\u001b[0m\u001b[0m\n",
      "\u001b[0;32m/home/sean/anaconda/lib/python2.7/site-packages/pandas/tools/plotting.pyc\u001b[0m in \u001b[0;36m_plot\u001b[0;34m(data, x, y, subplots, ax, kind, **kwds)\u001b[0m\n\u001b[1;32m   2454\u001b[0m                     \u001b[0my\u001b[0m \u001b[0;34m=\u001b[0m \u001b[0mdata\u001b[0m\u001b[0;34m.\u001b[0m\u001b[0mcolumns\u001b[0m\u001b[0;34m[\u001b[0m\u001b[0my\u001b[0m\u001b[0;34m]\u001b[0m\u001b[0;34m\u001b[0m\u001b[0m\n\u001b[1;32m   2455\u001b[0m                 \u001b[0mlabel\u001b[0m \u001b[0;34m=\u001b[0m \u001b[0mkwds\u001b[0m\u001b[0;34m[\u001b[0m\u001b[0;34m'label'\u001b[0m\u001b[0;34m]\u001b[0m \u001b[0;32mif\u001b[0m \u001b[0;34m'label'\u001b[0m \u001b[0;32min\u001b[0m \u001b[0mkwds\u001b[0m \u001b[0;32melse\u001b[0m \u001b[0my\u001b[0m\u001b[0;34m\u001b[0m\u001b[0m\n\u001b[0;32m-> 2456\u001b[0;31m                 \u001b[0mseries\u001b[0m \u001b[0;34m=\u001b[0m \u001b[0mdata\u001b[0m\u001b[0;34m[\u001b[0m\u001b[0my\u001b[0m\u001b[0;34m]\u001b[0m\u001b[0;34m.\u001b[0m\u001b[0mcopy\u001b[0m\u001b[0;34m(\u001b[0m\u001b[0;34m)\u001b[0m  \u001b[0;31m# Don't modify\u001b[0m\u001b[0;34m\u001b[0m\u001b[0m\n\u001b[0m\u001b[1;32m   2457\u001b[0m                 \u001b[0mseries\u001b[0m\u001b[0;34m.\u001b[0m\u001b[0mname\u001b[0m \u001b[0;34m=\u001b[0m \u001b[0mlabel\u001b[0m\u001b[0;34m\u001b[0m\u001b[0m\n\u001b[1;32m   2458\u001b[0m \u001b[0;34m\u001b[0m\u001b[0m\n",
      "\u001b[0;32m/home/sean/anaconda/lib/python2.7/site-packages/pandas/core/frame.pyc\u001b[0m in \u001b[0;36m__getitem__\u001b[0;34m(self, key)\u001b[0m\n\u001b[1;32m   2057\u001b[0m             \u001b[0;32mreturn\u001b[0m \u001b[0mself\u001b[0m\u001b[0;34m.\u001b[0m\u001b[0m_getitem_multilevel\u001b[0m\u001b[0;34m(\u001b[0m\u001b[0mkey\u001b[0m\u001b[0;34m)\u001b[0m\u001b[0;34m\u001b[0m\u001b[0m\n\u001b[1;32m   2058\u001b[0m         \u001b[0;32melse\u001b[0m\u001b[0;34m:\u001b[0m\u001b[0;34m\u001b[0m\u001b[0m\n\u001b[0;32m-> 2059\u001b[0;31m             \u001b[0;32mreturn\u001b[0m \u001b[0mself\u001b[0m\u001b[0;34m.\u001b[0m\u001b[0m_getitem_column\u001b[0m\u001b[0;34m(\u001b[0m\u001b[0mkey\u001b[0m\u001b[0;34m)\u001b[0m\u001b[0;34m\u001b[0m\u001b[0m\n\u001b[0m\u001b[1;32m   2060\u001b[0m \u001b[0;34m\u001b[0m\u001b[0m\n\u001b[1;32m   2061\u001b[0m     \u001b[0;32mdef\u001b[0m \u001b[0m_getitem_column\u001b[0m\u001b[0;34m(\u001b[0m\u001b[0mself\u001b[0m\u001b[0;34m,\u001b[0m \u001b[0mkey\u001b[0m\u001b[0;34m)\u001b[0m\u001b[0;34m:\u001b[0m\u001b[0;34m\u001b[0m\u001b[0m\n",
      "\u001b[0;32m/home/sean/anaconda/lib/python2.7/site-packages/pandas/core/frame.pyc\u001b[0m in \u001b[0;36m_getitem_column\u001b[0;34m(self, key)\u001b[0m\n\u001b[1;32m   2064\u001b[0m         \u001b[0;31m# get column\u001b[0m\u001b[0;34m\u001b[0m\u001b[0;34m\u001b[0m\u001b[0m\n\u001b[1;32m   2065\u001b[0m         \u001b[0;32mif\u001b[0m \u001b[0mself\u001b[0m\u001b[0;34m.\u001b[0m\u001b[0mcolumns\u001b[0m\u001b[0;34m.\u001b[0m\u001b[0mis_unique\u001b[0m\u001b[0;34m:\u001b[0m\u001b[0;34m\u001b[0m\u001b[0m\n\u001b[0;32m-> 2066\u001b[0;31m             \u001b[0;32mreturn\u001b[0m \u001b[0mself\u001b[0m\u001b[0;34m.\u001b[0m\u001b[0m_get_item_cache\u001b[0m\u001b[0;34m(\u001b[0m\u001b[0mkey\u001b[0m\u001b[0;34m)\u001b[0m\u001b[0;34m\u001b[0m\u001b[0m\n\u001b[0m\u001b[1;32m   2067\u001b[0m \u001b[0;34m\u001b[0m\u001b[0m\n\u001b[1;32m   2068\u001b[0m         \u001b[0;31m# duplicate columns & possible reduce dimensionality\u001b[0m\u001b[0;34m\u001b[0m\u001b[0;34m\u001b[0m\u001b[0m\n",
      "\u001b[0;32m/home/sean/anaconda/lib/python2.7/site-packages/pandas/core/generic.pyc\u001b[0m in \u001b[0;36m_get_item_cache\u001b[0;34m(self, item)\u001b[0m\n\u001b[1;32m   1384\u001b[0m         \u001b[0mres\u001b[0m \u001b[0;34m=\u001b[0m \u001b[0mcache\u001b[0m\u001b[0;34m.\u001b[0m\u001b[0mget\u001b[0m\u001b[0;34m(\u001b[0m\u001b[0mitem\u001b[0m\u001b[0;34m)\u001b[0m\u001b[0;34m\u001b[0m\u001b[0m\n\u001b[1;32m   1385\u001b[0m         \u001b[0;32mif\u001b[0m \u001b[0mres\u001b[0m \u001b[0;32mis\u001b[0m \u001b[0mNone\u001b[0m\u001b[0;34m:\u001b[0m\u001b[0;34m\u001b[0m\u001b[0m\n\u001b[0;32m-> 1386\u001b[0;31m             \u001b[0mvalues\u001b[0m \u001b[0;34m=\u001b[0m \u001b[0mself\u001b[0m\u001b[0;34m.\u001b[0m\u001b[0m_data\u001b[0m\u001b[0;34m.\u001b[0m\u001b[0mget\u001b[0m\u001b[0;34m(\u001b[0m\u001b[0mitem\u001b[0m\u001b[0;34m)\u001b[0m\u001b[0;34m\u001b[0m\u001b[0m\n\u001b[0m\u001b[1;32m   1387\u001b[0m             \u001b[0mres\u001b[0m \u001b[0;34m=\u001b[0m \u001b[0mself\u001b[0m\u001b[0;34m.\u001b[0m\u001b[0m_box_item_values\u001b[0m\u001b[0;34m(\u001b[0m\u001b[0mitem\u001b[0m\u001b[0;34m,\u001b[0m \u001b[0mvalues\u001b[0m\u001b[0;34m)\u001b[0m\u001b[0;34m\u001b[0m\u001b[0m\n\u001b[1;32m   1388\u001b[0m             \u001b[0mcache\u001b[0m\u001b[0;34m[\u001b[0m\u001b[0mitem\u001b[0m\u001b[0;34m]\u001b[0m \u001b[0;34m=\u001b[0m \u001b[0mres\u001b[0m\u001b[0;34m\u001b[0m\u001b[0m\n",
      "\u001b[0;32m/home/sean/anaconda/lib/python2.7/site-packages/pandas/core/internals.pyc\u001b[0m in \u001b[0;36mget\u001b[0;34m(self, item, fastpath)\u001b[0m\n\u001b[1;32m   3541\u001b[0m \u001b[0;34m\u001b[0m\u001b[0m\n\u001b[1;32m   3542\u001b[0m             \u001b[0;32mif\u001b[0m \u001b[0;32mnot\u001b[0m \u001b[0misnull\u001b[0m\u001b[0;34m(\u001b[0m\u001b[0mitem\u001b[0m\u001b[0;34m)\u001b[0m\u001b[0;34m:\u001b[0m\u001b[0;34m\u001b[0m\u001b[0m\n\u001b[0;32m-> 3543\u001b[0;31m                 \u001b[0mloc\u001b[0m \u001b[0;34m=\u001b[0m \u001b[0mself\u001b[0m\u001b[0;34m.\u001b[0m\u001b[0mitems\u001b[0m\u001b[0;34m.\u001b[0m\u001b[0mget_loc\u001b[0m\u001b[0;34m(\u001b[0m\u001b[0mitem\u001b[0m\u001b[0;34m)\u001b[0m\u001b[0;34m\u001b[0m\u001b[0m\n\u001b[0m\u001b[1;32m   3544\u001b[0m             \u001b[0;32melse\u001b[0m\u001b[0;34m:\u001b[0m\u001b[0;34m\u001b[0m\u001b[0m\n\u001b[1;32m   3545\u001b[0m                 \u001b[0mindexer\u001b[0m \u001b[0;34m=\u001b[0m \u001b[0mnp\u001b[0m\u001b[0;34m.\u001b[0m\u001b[0marange\u001b[0m\u001b[0;34m(\u001b[0m\u001b[0mlen\u001b[0m\u001b[0;34m(\u001b[0m\u001b[0mself\u001b[0m\u001b[0;34m.\u001b[0m\u001b[0mitems\u001b[0m\u001b[0;34m)\u001b[0m\u001b[0;34m)\u001b[0m\u001b[0;34m[\u001b[0m\u001b[0misnull\u001b[0m\u001b[0;34m(\u001b[0m\u001b[0mself\u001b[0m\u001b[0;34m.\u001b[0m\u001b[0mitems\u001b[0m\u001b[0;34m)\u001b[0m\u001b[0;34m]\u001b[0m\u001b[0;34m\u001b[0m\u001b[0m\n",
      "\u001b[0;32m/home/sean/anaconda/lib/python2.7/site-packages/pandas/indexes/base.pyc\u001b[0m in \u001b[0;36mget_loc\u001b[0;34m(self, key, method, tolerance)\u001b[0m\n\u001b[1;32m   2134\u001b[0m                 \u001b[0;32mreturn\u001b[0m \u001b[0mself\u001b[0m\u001b[0;34m.\u001b[0m\u001b[0m_engine\u001b[0m\u001b[0;34m.\u001b[0m\u001b[0mget_loc\u001b[0m\u001b[0;34m(\u001b[0m\u001b[0mkey\u001b[0m\u001b[0;34m)\u001b[0m\u001b[0;34m\u001b[0m\u001b[0m\n\u001b[1;32m   2135\u001b[0m             \u001b[0;32mexcept\u001b[0m \u001b[0mKeyError\u001b[0m\u001b[0;34m:\u001b[0m\u001b[0;34m\u001b[0m\u001b[0m\n\u001b[0;32m-> 2136\u001b[0;31m                 \u001b[0;32mreturn\u001b[0m \u001b[0mself\u001b[0m\u001b[0;34m.\u001b[0m\u001b[0m_engine\u001b[0m\u001b[0;34m.\u001b[0m\u001b[0mget_loc\u001b[0m\u001b[0;34m(\u001b[0m\u001b[0mself\u001b[0m\u001b[0;34m.\u001b[0m\u001b[0m_maybe_cast_indexer\u001b[0m\u001b[0;34m(\u001b[0m\u001b[0mkey\u001b[0m\u001b[0;34m)\u001b[0m\u001b[0;34m)\u001b[0m\u001b[0;34m\u001b[0m\u001b[0m\n\u001b[0m\u001b[1;32m   2137\u001b[0m \u001b[0;34m\u001b[0m\u001b[0m\n\u001b[1;32m   2138\u001b[0m         \u001b[0mindexer\u001b[0m \u001b[0;34m=\u001b[0m \u001b[0mself\u001b[0m\u001b[0;34m.\u001b[0m\u001b[0mget_indexer\u001b[0m\u001b[0;34m(\u001b[0m\u001b[0;34m[\u001b[0m\u001b[0mkey\u001b[0m\u001b[0;34m]\u001b[0m\u001b[0;34m,\u001b[0m \u001b[0mmethod\u001b[0m\u001b[0;34m=\u001b[0m\u001b[0mmethod\u001b[0m\u001b[0;34m,\u001b[0m \u001b[0mtolerance\u001b[0m\u001b[0;34m=\u001b[0m\u001b[0mtolerance\u001b[0m\u001b[0;34m)\u001b[0m\u001b[0;34m\u001b[0m\u001b[0m\n",
      "\u001b[0;32mpandas/index.pyx\u001b[0m in \u001b[0;36mpandas.index.IndexEngine.get_loc (pandas/index.c:4433)\u001b[0;34m()\u001b[0m\n",
      "\u001b[0;32mpandas/index.pyx\u001b[0m in \u001b[0;36mpandas.index.IndexEngine.get_loc (pandas/index.c:4279)\u001b[0;34m()\u001b[0m\n",
      "\u001b[0;32mpandas/src/hashtable_class_helper.pxi\u001b[0m in \u001b[0;36mpandas.hashtable.PyObjectHashTable.get_item (pandas/hashtable.c:13742)\u001b[0;34m()\u001b[0m\n",
      "\u001b[0;32mpandas/src/hashtable_class_helper.pxi\u001b[0m in \u001b[0;36mpandas.hashtable.PyObjectHashTable.get_item (pandas/hashtable.c:13696)\u001b[0;34m()\u001b[0m\n",
      "\u001b[0;31mKeyError\u001b[0m: 'new_mean_3'"
     ]
    },
    {
     "data": {
      "image/png": "[encoded data removed]",
      "text/plain": [
       "<matplotlib.figure.Figure at 0x7ff72a0ed550>"
      ]
     },
     "metadata": {},
     "output_type": "display_data"
    }
   ],
   "source": [
    "max_ind = close_df.shape[0]\n",
    "low = int( 0.6*max_ind )\n",
    "hi  = int( 0.65*max_ind )\n",
    "for i in roll_nums:\n",
    "\n",
    "    f, (ax1, ax2) = plt.subplots(1, 2, figsize=(18,10) )\n",
    "\n",
    "#    close_df[hi:low:-1].plot( y = 'close'             , color='w', ax=ax1 )\n",
    "    close_df[hi:low:-1].plot( y = 'close_mean_'+str(i), color='b', ax=ax1 )\n",
    "#    close_df[hi:low:-1].plot( y =  'pred_mean_'+str(i), color='g', ax=ax1 )\n",
    "    close_df[hi:low:-1].plot( y =   'new_mean_'+str(i), color='r', ax=ax1 )    \n",
    "    ax1.set_title( 'Comparison between rolling means of predicted ' + str(i)) #+ ' day rolling mean for AAPL' )\n",
    "    ax1.set_ylabel( 'Price' )\n",
    "    \n",
    "    close_df['diff_pred'] = close_df['pred_mean_'+str(i)] / close_df['close_mean_'+str(i)] - 1.\n",
    "    close_df['diff_adj' ] = close_df[ 'new_mean_'+str(i)] / close_df['close_mean_'+str(i)] - 1.\n",
    "    \n",
    "    close_df[hi:low:-1].plot( y='diff_pred', color='g', ax=ax2 )\n",
    "    close_df[hi:low:-1].plot( y='diff_adj' , color='r', ax=ax2 )\n",
    "    \n",
    "    ax2.set_title( 'AAPL, mean_pred=%5.3f, std_pred=%5.3f, mean_adj=%5.3f, std_adj=%5.3f'%(\n",
    "                   close_df['diff_pred'].mean(),close_df['diff_pred'].std(),\n",
    "                   close_df['diff_adj' ].mean(),close_df['diff_adj' ].std(),\n",
    "               ) )\n",
    "    ax2.set_ylabel( 'Prediction/True Rolling Mean - 1' )\n",
    "    ax2.set_ylim( [-0.15,0.15] )\n",
    "    plt.show()"
   ]
  },
  {
   "cell_type": "code",
   "execution_count": null,
   "metadata": {
    "collapsed": true
   },
   "outputs": [],
   "source": []
  },
  {
   "cell_type": "code",
   "execution_count": 16,
   "metadata": {
    "collapsed": true
   },
   "outputs": [],
   "source": [
    "# Smooth and shift"
   ]
  },
  {
   "cell_type": "code",
   "execution_count": 131,
   "metadata": {
    "collapsed": true
   },
   "outputs": [],
   "source": [
    "with open( 'data/smooth_shift.pkl', 'rb' ) as handle:\n",
    "    smooth_shift = pickle.load( handle )\n",
    "    \n",
    "    # Tweak the difference in rolling means per day\n",
    "    # Lots of noise, this may force less noise, might not. We will see\n",
    "    for i in range( 0, len(roll_nums) ):\n",
    "\n",
    "        roll = str( roll_nums[i] )\n",
    "        if ( smooth_vals[i] > 1 ):\n",
    "            close_df['pred_mean_'+roll] = close_df['pred_mean_'+roll].values[::-1]\n",
    "            close_df['pred_mean_'+roll] = close_df['pred_mean_'+roll].rolling( smooth_shift['smooth_'+str(roll_nums[i])]).mean()\n",
    "            close_df['pred_mean_'+roll] = close_df['pred_mean_'+roll].shift  (-smooth_shift[ 'shift_'+str(roll_nums[i])])\n",
    "            close_df['pred_mean_'+roll] = close_df['pred_mean_'+roll].values[::-1]\n",
    "        else:\n",
    "            close_df['pred_mean_'+roll] = close_df['pred_mean_'+roll]"
   ]
  },
  {
   "cell_type": "code",
   "execution_count": null,
   "metadata": {
    "collapsed": true
   },
   "outputs": [],
   "source": []
  },
  {
   "cell_type": "code",
   "execution_count": 151,
   "metadata": {
    "collapsed": false
   },
   "outputs": [],
   "source": [
    "foo = fv.pred_from_mean( close_df, roll_nums )\n",
    "foo = foo[['close',\n",
    "           'pred_3_day_1', 'pred_3_day_2', 'pred_3_day_3',\n",
    "           'pred_5_day_1', 'pred_5_day_2',\n",
    "           'pred_8_day_1', 'pred_8_day_2', 'pred_8_day_3',\n",
    "           'pred_10_day_1', 'pred_10_day_2',\n",
    "           'pred_15_day_1', 'pred_15_day_2', 'pred_15_day_3', 'pred_15_day_4', 'pred_15_day_5',\n",
    "           'pred_20_day_1', 'pred_20_day_2', 'pred_20_day_3', 'pred_20_day_4', 'pred_20_day_5',\n",
    "           'pred_25_day_1', 'pred_25_day_2', 'pred_25_day_3', 'pred_25_day_4', 'pred_25_day_5',\n",
    "           'pred_30_day_1', 'pred_30_day_2', 'pred_30_day_3', 'pred_30_day_4', 'pred_30_day_5'\n",
    "          ]]\n",
    "foo = foo.drop( 'pred_3_day_1', axis=1 )\n",
    "\n",
    "# Rewrite so just have predictions\n",
    "for i in range( 1, len(foo.columns.values) ):\n",
    "    foo.columns.values[i] = 'pred_'+str(i)"
   ]
  },
  {
   "cell_type": "code",
   "execution_count": 152,
   "metadata": {
    "collapsed": false
   },
   "outputs": [
    {
     "name": "stdout",
     "output_type": "stream",
     "text": [
      "['close' 'pred_1' 'pred_2' 'pred_3' 'pred_4' 'pred_5' 'pred_6' 'pred_7'\n",
      " 'pred_8' 'pred_9' 'pred_10' 'pred_11' 'pred_12' 'pred_13' 'pred_14'\n",
      " 'pred_15' 'pred_16' 'pred_17' 'pred_18' 'pred_19' 'pred_20' 'pred_21'\n",
      " 'pred_22' 'pred_23' 'pred_24' 'pred_25' 'pred_26' 'pred_27' 'pred_28'\n",
      " 'pred_29']\n"
     ]
    }
   ],
   "source": [
    "print foo.columns.values"
   ]
  },
  {
   "cell_type": "code",
   "execution_count": 153,
   "metadata": {
    "collapsed": false
   },
   "outputs": [
    {
     "data": {
      "text/html": [
       "<div>\n",
       "<table border=\"1\" class=\"dataframe\">\n",
       "  <thead>\n",
       "    <tr style=\"text-align: right;\">\n",
       "      <th></th>\n",
       "      <th>close</th>\n",
       "      <th>pred_1</th>\n",
       "      <th>pred_2</th>\n",
       "      <th>pred_3</th>\n",
       "      <th>pred_4</th>\n",
       "      <th>pred_5</th>\n",
       "      <th>pred_6</th>\n",
       "      <th>pred_7</th>\n",
       "      <th>pred_8</th>\n",
       "      <th>pred_9</th>\n",
       "      <th>...</th>\n",
       "      <th>pred_20</th>\n",
       "      <th>pred_21</th>\n",
       "      <th>pred_22</th>\n",
       "      <th>pred_23</th>\n",
       "      <th>pred_24</th>\n",
       "      <th>pred_25</th>\n",
       "      <th>pred_26</th>\n",
       "      <th>pred_27</th>\n",
       "      <th>pred_28</th>\n",
       "      <th>pred_29</th>\n",
       "    </tr>\n",
       "    <tr>\n",
       "      <th>date</th>\n",
       "      <th></th>\n",
       "      <th></th>\n",
       "      <th></th>\n",
       "      <th></th>\n",
       "      <th></th>\n",
       "      <th></th>\n",
       "      <th></th>\n",
       "      <th></th>\n",
       "      <th></th>\n",
       "      <th></th>\n",
       "      <th></th>\n",
       "      <th></th>\n",
       "      <th></th>\n",
       "      <th></th>\n",
       "      <th></th>\n",
       "      <th></th>\n",
       "      <th></th>\n",
       "      <th></th>\n",
       "      <th></th>\n",
       "      <th></th>\n",
       "      <th></th>\n",
       "    </tr>\n",
       "  </thead>\n",
       "  <tbody>\n",
       "    <tr>\n",
       "      <th>2017/01/26</th>\n",
       "      <td>121.94</td>\n",
       "      <td>121.217051</td>\n",
       "      <td>120.494102</td>\n",
       "      <td>120.714985</td>\n",
       "      <td>119.710853</td>\n",
       "      <td>NaN</td>\n",
       "      <td>NaN</td>\n",
       "      <td>NaN</td>\n",
       "      <td>NaN</td>\n",
       "      <td>NaN</td>\n",
       "      <td>...</td>\n",
       "      <td>NaN</td>\n",
       "      <td>NaN</td>\n",
       "      <td>NaN</td>\n",
       "      <td>NaN</td>\n",
       "      <td>NaN</td>\n",
       "      <td>NaN</td>\n",
       "      <td>NaN</td>\n",
       "      <td>NaN</td>\n",
       "      <td>NaN</td>\n",
       "      <td>NaN</td>\n",
       "    </tr>\n",
       "    <tr>\n",
       "      <th>2017/01/25</th>\n",
       "      <td>121.88</td>\n",
       "      <td>120.782651</td>\n",
       "      <td>119.685302</td>\n",
       "      <td>120.559904</td>\n",
       "      <td>120.114411</td>\n",
       "      <td>120.297102</td>\n",
       "      <td>120.034299</td>\n",
       "      <td>119.771496</td>\n",
       "      <td>NaN</td>\n",
       "      <td>NaN</td>\n",
       "      <td>...</td>\n",
       "      <td>NaN</td>\n",
       "      <td>NaN</td>\n",
       "      <td>NaN</td>\n",
       "      <td>NaN</td>\n",
       "      <td>NaN</td>\n",
       "      <td>NaN</td>\n",
       "      <td>NaN</td>\n",
       "      <td>NaN</td>\n",
       "      <td>NaN</td>\n",
       "      <td>NaN</td>\n",
       "    </tr>\n",
       "    <tr>\n",
       "      <th>2017/01/24</th>\n",
       "      <td>119.97</td>\n",
       "      <td>120.434354</td>\n",
       "      <td>120.898708</td>\n",
       "      <td>120.413148</td>\n",
       "      <td>120.370735</td>\n",
       "      <td>119.810237</td>\n",
       "      <td>119.207326</td>\n",
       "      <td>118.604415</td>\n",
       "      <td>119.586598</td>\n",
       "      <td>120.345140</td>\n",
       "      <td>...</td>\n",
       "      <td>NaN</td>\n",
       "      <td>NaN</td>\n",
       "      <td>NaN</td>\n",
       "      <td>NaN</td>\n",
       "      <td>NaN</td>\n",
       "      <td>NaN</td>\n",
       "      <td>NaN</td>\n",
       "      <td>NaN</td>\n",
       "      <td>NaN</td>\n",
       "      <td>NaN</td>\n",
       "    </tr>\n",
       "    <tr>\n",
       "      <th>2017/01/23</th>\n",
       "      <td>120.08</td>\n",
       "      <td>120.195094</td>\n",
       "      <td>120.310188</td>\n",
       "      <td>120.019804</td>\n",
       "      <td>119.669222</td>\n",
       "      <td>119.917236</td>\n",
       "      <td>119.814669</td>\n",
       "      <td>119.712102</td>\n",
       "      <td>119.645739</td>\n",
       "      <td>119.307880</td>\n",
       "      <td>...</td>\n",
       "      <td>NaN</td>\n",
       "      <td>NaN</td>\n",
       "      <td>NaN</td>\n",
       "      <td>NaN</td>\n",
       "      <td>NaN</td>\n",
       "      <td>NaN</td>\n",
       "      <td>NaN</td>\n",
       "      <td>NaN</td>\n",
       "      <td>NaN</td>\n",
       "      <td>NaN</td>\n",
       "    </tr>\n",
       "    <tr>\n",
       "      <th>2017/01/20</th>\n",
       "      <td>120.00</td>\n",
       "      <td>120.243406</td>\n",
       "      <td>120.486813</td>\n",
       "      <td>119.795577</td>\n",
       "      <td>118.899919</td>\n",
       "      <td>119.617542</td>\n",
       "      <td>119.439507</td>\n",
       "      <td>119.261472</td>\n",
       "      <td>119.174906</td>\n",
       "      <td>118.645703</td>\n",
       "      <td>...</td>\n",
       "      <td>119.537974</td>\n",
       "      <td>118.545388</td>\n",
       "      <td>117.552801</td>\n",
       "      <td>116.560214</td>\n",
       "      <td>115.567628</td>\n",
       "      <td>NaN</td>\n",
       "      <td>NaN</td>\n",
       "      <td>NaN</td>\n",
       "      <td>NaN</td>\n",
       "      <td>NaN</td>\n",
       "    </tr>\n",
       "  </tbody>\n",
       "</table>\n",
       "<p>5 rows × 30 columns</p>\n",
       "</div>"
      ],
      "text/plain": [
       "             close      pred_1      pred_2      pred_3      pred_4  \\\n",
       "date                                                                 \n",
       "2017/01/26  121.94  121.217051  120.494102  120.714985  119.710853   \n",
       "2017/01/25  121.88  120.782651  119.685302  120.559904  120.114411   \n",
       "2017/01/24  119.97  120.434354  120.898708  120.413148  120.370735   \n",
       "2017/01/23  120.08  120.195094  120.310188  120.019804  119.669222   \n",
       "2017/01/20  120.00  120.243406  120.486813  119.795577  118.899919   \n",
       "\n",
       "                pred_5      pred_6      pred_7      pred_8      pred_9  \\\n",
       "date                                                                     \n",
       "2017/01/26         NaN         NaN         NaN         NaN         NaN   \n",
       "2017/01/25  120.297102  120.034299  119.771496         NaN         NaN   \n",
       "2017/01/24  119.810237  119.207326  118.604415  119.586598  120.345140   \n",
       "2017/01/23  119.917236  119.814669  119.712102  119.645739  119.307880   \n",
       "2017/01/20  119.617542  119.439507  119.261472  119.174906  118.645703   \n",
       "\n",
       "             ...        pred_20     pred_21     pred_22     pred_23  \\\n",
       "date         ...                                                      \n",
       "2017/01/26   ...            NaN         NaN         NaN         NaN   \n",
       "2017/01/25   ...            NaN         NaN         NaN         NaN   \n",
       "2017/01/24   ...            NaN         NaN         NaN         NaN   \n",
       "2017/01/23   ...            NaN         NaN         NaN         NaN   \n",
       "2017/01/20   ...     119.537974  118.545388  117.552801  116.560214   \n",
       "\n",
       "               pred_24  pred_25  pred_26  pred_27  pred_28  pred_29  \n",
       "date                                                                 \n",
       "2017/01/26         NaN      NaN      NaN      NaN      NaN      NaN  \n",
       "2017/01/25         NaN      NaN      NaN      NaN      NaN      NaN  \n",
       "2017/01/24         NaN      NaN      NaN      NaN      NaN      NaN  \n",
       "2017/01/23         NaN      NaN      NaN      NaN      NaN      NaN  \n",
       "2017/01/20  115.567628      NaN      NaN      NaN      NaN      NaN  \n",
       "\n",
       "[5 rows x 30 columns]"
      ]
     },
     "execution_count": 153,
     "metadata": {},
     "output_type": "execute_result"
    }
   ],
   "source": [
    "foo.head()"
   ]
  },
  {
   "cell_type": "code",
   "execution_count": null,
   "metadata": {
    "collapsed": true
   },
   "outputs": [],
   "source": []
  },
  {
   "cell_type": "code",
   "execution_count": 159,
   "metadata": {
    "collapsed": true
   },
   "outputs": [],
   "source": [
    "# Generate frame with all predictions for a day on the same row"
   ]
  },
  {
   "cell_type": "code",
   "execution_count": 158,
   "metadata": {
    "collapsed": false
   },
   "outputs": [
    {
     "data": {
      "text/html": [
       "<div>\n",
       "<table border=\"1\" class=\"dataframe\">\n",
       "  <thead>\n",
       "    <tr style=\"text-align: right;\">\n",
       "      <th></th>\n",
       "      <th>close</th>\n",
       "      <th>pred_1</th>\n",
       "      <th>pred_2</th>\n",
       "      <th>pred_3</th>\n",
       "      <th>pred_4</th>\n",
       "      <th>pred_5</th>\n",
       "      <th>pred_6</th>\n",
       "      <th>pred_7</th>\n",
       "      <th>pred_8</th>\n",
       "      <th>pred_9</th>\n",
       "      <th>...</th>\n",
       "      <th>pred_20</th>\n",
       "      <th>pred_21</th>\n",
       "      <th>pred_22</th>\n",
       "      <th>pred_23</th>\n",
       "      <th>pred_24</th>\n",
       "      <th>pred_25</th>\n",
       "      <th>pred_26</th>\n",
       "      <th>pred_27</th>\n",
       "      <th>pred_28</th>\n",
       "      <th>pred_29</th>\n",
       "    </tr>\n",
       "    <tr>\n",
       "      <th>date</th>\n",
       "      <th></th>\n",
       "      <th></th>\n",
       "      <th></th>\n",
       "      <th></th>\n",
       "      <th></th>\n",
       "      <th></th>\n",
       "      <th></th>\n",
       "      <th></th>\n",
       "      <th></th>\n",
       "      <th></th>\n",
       "      <th></th>\n",
       "      <th></th>\n",
       "      <th></th>\n",
       "      <th></th>\n",
       "      <th></th>\n",
       "      <th></th>\n",
       "      <th></th>\n",
       "      <th></th>\n",
       "      <th></th>\n",
       "      <th></th>\n",
       "      <th></th>\n",
       "    </tr>\n",
       "  </thead>\n",
       "  <tbody>\n",
       "    <tr>\n",
       "      <th>2017/01/26</th>\n",
       "      <td>121.94</td>\n",
       "      <td>120.782651</td>\n",
       "      <td>120.898708</td>\n",
       "      <td>120.019804</td>\n",
       "      <td>118.899919</td>\n",
       "      <td>119.623039</td>\n",
       "      <td>117.358699</td>\n",
       "      <td>112.176931</td>\n",
       "      <td>115.459805</td>\n",
       "      <td>118.084559</td>\n",
       "      <td>...</td>\n",
       "      <td>109.665073</td>\n",
       "      <td>110.929569</td>\n",
       "      <td>112.941269</td>\n",
       "      <td>109.815999</td>\n",
       "      <td>107.796140</td>\n",
       "      <td>109.801338</td>\n",
       "      <td>113.088729</td>\n",
       "      <td>119.531527</td>\n",
       "      <td>124.529018</td>\n",
       "      <td>130.315302</td>\n",
       "    </tr>\n",
       "    <tr>\n",
       "      <th>2017/01/25</th>\n",
       "      <td>121.88</td>\n",
       "      <td>120.434354</td>\n",
       "      <td>120.310188</td>\n",
       "      <td>119.795577</td>\n",
       "      <td>119.090427</td>\n",
       "      <td>118.401354</td>\n",
       "      <td>114.618177</td>\n",
       "      <td>111.361391</td>\n",
       "      <td>115.961587</td>\n",
       "      <td>118.068478</td>\n",
       "      <td>...</td>\n",
       "      <td>109.597429</td>\n",
       "      <td>112.691402</td>\n",
       "      <td>110.840816</td>\n",
       "      <td>109.595757</td>\n",
       "      <td>107.345619</td>\n",
       "      <td>109.544044</td>\n",
       "      <td>114.959762</td>\n",
       "      <td>119.711419</td>\n",
       "      <td>125.273797</td>\n",
       "      <td>117.423989</td>\n",
       "    </tr>\n",
       "    <tr>\n",
       "      <th>2017/01/24</th>\n",
       "      <td>119.97</td>\n",
       "      <td>120.195094</td>\n",
       "      <td>120.486813</td>\n",
       "      <td>119.965911</td>\n",
       "      <td>119.407561</td>\n",
       "      <td>117.059423</td>\n",
       "      <td>113.978798</td>\n",
       "      <td>113.013059</td>\n",
       "      <td>116.304240</td>\n",
       "      <td>118.529927</td>\n",
       "      <td>...</td>\n",
       "      <td>112.441535</td>\n",
       "      <td>111.865632</td>\n",
       "      <td>111.395374</td>\n",
       "      <td>108.711647</td>\n",
       "      <td>99.135956</td>\n",
       "      <td>110.387998</td>\n",
       "      <td>114.893820</td>\n",
       "      <td>120.232292</td>\n",
       "      <td>116.004459</td>\n",
       "      <td>122.454161</td>\n",
       "    </tr>\n",
       "    <tr>\n",
       "      <th>2017/01/23</th>\n",
       "      <td>120.08</td>\n",
       "      <td>120.243406</td>\n",
       "      <td>121.027308</td>\n",
       "      <td>119.444010</td>\n",
       "      <td>118.999054</td>\n",
       "      <td>116.596205</td>\n",
       "      <td>114.900102</td>\n",
       "      <td>113.832215</td>\n",
       "      <td>116.775893</td>\n",
       "      <td>117.066602</td>\n",
       "      <td>...</td>\n",
       "      <td>112.890448</td>\n",
       "      <td>113.194990</td>\n",
       "      <td>110.077674</td>\n",
       "      <td>101.976876</td>\n",
       "      <td>100.387831</td>\n",
       "      <td>110.076221</td>\n",
       "      <td>115.190788</td>\n",
       "      <td>114.584930</td>\n",
       "      <td>120.610111</td>\n",
       "      <td>136.285808</td>\n",
       "    </tr>\n",
       "    <tr>\n",
       "      <th>2017/01/20</th>\n",
       "      <td>120.00</td>\n",
       "      <td>120.403654</td>\n",
       "      <td>118.934468</td>\n",
       "      <td>119.500669</td>\n",
       "      <td>118.630120</td>\n",
       "      <td>116.787144</td>\n",
       "      <td>115.422121</td>\n",
       "      <td>114.756064</td>\n",
       "      <td>117.577339</td>\n",
       "      <td>116.987240</td>\n",
       "      <td>...</td>\n",
       "      <td>114.994607</td>\n",
       "      <td>111.443702</td>\n",
       "      <td>104.817797</td>\n",
       "      <td>102.340072</td>\n",
       "      <td>99.926338</td>\n",
       "      <td>110.149283</td>\n",
       "      <td>113.165400</td>\n",
       "      <td>118.766061</td>\n",
       "      <td>131.457155</td>\n",
       "      <td>136.188463</td>\n",
       "    </tr>\n",
       "  </tbody>\n",
       "</table>\n",
       "<p>5 rows × 30 columns</p>\n",
       "</div>"
      ],
      "text/plain": [
       "             close      pred_1      pred_2      pred_3      pred_4  \\\n",
       "date                                                                 \n",
       "2017/01/26  121.94  120.782651  120.898708  120.019804  118.899919   \n",
       "2017/01/25  121.88  120.434354  120.310188  119.795577  119.090427   \n",
       "2017/01/24  119.97  120.195094  120.486813  119.965911  119.407561   \n",
       "2017/01/23  120.08  120.243406  121.027308  119.444010  118.999054   \n",
       "2017/01/20  120.00  120.403654  118.934468  119.500669  118.630120   \n",
       "\n",
       "                pred_5      pred_6      pred_7      pred_8      pred_9  \\\n",
       "date                                                                     \n",
       "2017/01/26  119.623039  117.358699  112.176931  115.459805  118.084559   \n",
       "2017/01/25  118.401354  114.618177  111.361391  115.961587  118.068478   \n",
       "2017/01/24  117.059423  113.978798  113.013059  116.304240  118.529927   \n",
       "2017/01/23  116.596205  114.900102  113.832215  116.775893  117.066602   \n",
       "2017/01/20  116.787144  115.422121  114.756064  117.577339  116.987240   \n",
       "\n",
       "               ...         pred_20     pred_21     pred_22     pred_23  \\\n",
       "date           ...                                                       \n",
       "2017/01/26     ...      109.665073  110.929569  112.941269  109.815999   \n",
       "2017/01/25     ...      109.597429  112.691402  110.840816  109.595757   \n",
       "2017/01/24     ...      112.441535  111.865632  111.395374  108.711647   \n",
       "2017/01/23     ...      112.890448  113.194990  110.077674  101.976876   \n",
       "2017/01/20     ...      114.994607  111.443702  104.817797  102.340072   \n",
       "\n",
       "               pred_24     pred_25     pred_26     pred_27     pred_28  \\\n",
       "date                                                                     \n",
       "2017/01/26  107.796140  109.801338  113.088729  119.531527  124.529018   \n",
       "2017/01/25  107.345619  109.544044  114.959762  119.711419  125.273797   \n",
       "2017/01/24   99.135956  110.387998  114.893820  120.232292  116.004459   \n",
       "2017/01/23  100.387831  110.076221  115.190788  114.584930  120.610111   \n",
       "2017/01/20   99.926338  110.149283  113.165400  118.766061  131.457155   \n",
       "\n",
       "               pred_29  \n",
       "date                    \n",
       "2017/01/26  130.315302  \n",
       "2017/01/25  117.423989  \n",
       "2017/01/24  122.454161  \n",
       "2017/01/23  136.285808  \n",
       "2017/01/20  136.188463  \n",
       "\n",
       "[5 rows x 30 columns]"
      ]
     },
     "execution_count": 158,
     "metadata": {},
     "output_type": "execute_result"
    }
   ],
   "source": [
    "aligned_frame = foo.copy()\n",
    "for i in range( 1, foo.shape[1] ):\n",
    "    aligned_frame['pred_'+str(i)] = aligned_frame['pred_'+str(i)].shift( -i )\n",
    "aligned_frame = aligned_frame.dropna()\n",
    "aligned_frame.head()"
   ]
  },
  {
   "cell_type": "code",
   "execution_count": 169,
   "metadata": {
    "collapsed": false,
    "scrolled": false
   },
   "outputs": [
    {
     "data": {
      "image/png": "[encoded data removed]",
      "text/plain": [
       "<matplotlib.figure.Figure at 0x7ff72a0c9a90>"
      ]
     },
     "metadata": {},
     "output_type": "display_data"
    },
    {
     "data": {
      "image/png": "[encoded data removed]",
      "text/plain": [
       "<matplotlib.figure.Figure at 0x7ff732e70b90>"
      ]
     },
     "metadata": {},
     "output_type": "display_data"
    },
    {
     "data": {
      "image/png": "[encoded data removed]",
      "text/plain": [
       "<matplotlib.figure.Figure at 0x7ff730927bd0>"
      ]
     },
     "metadata": {},
     "output_type": "display_data"
    }
   ],
   "source": [
    "tot_diff  = np.zeros( aligned_frame.shape[1]-1 )\n",
    "mse_diff  = np.zeros( aligned_frame.shape[1]-1 )\n",
    "fmse_diff = np.zeros( aligned_frame.shape[1]-1 )\n",
    "\n",
    "\n",
    "for i in range( 1, len(aligned_frame.columns.values[1:]) ):\n",
    "    col         =   aligned_frame.columns.values[i]\n",
    "    tot_diff[i] = ( aligned_frame[col] / aligned_frame['close'] - 1      ).mean()\n",
    "    mse_diff[i] =(( aligned_frame[col] - aligned_frame['close']     )**2 ).mean()\n",
    "    fmse_diff[i]=(( aligned_frame[col] / aligned_frame['close'] - 1 )**2 ).mean()\n",
    "    \n",
    "plt.plot( range(1,30), tot_diff, color='b' )\n",
    "plt.title( 'Fractional difference' )\n",
    "plt.show()\n",
    "\n",
    "plt.plot( range(1,30), mse_diff, color='r' )\n",
    "plt.title( 'Mean Squared Error' )\n",
    "plt.show()\n",
    "\n",
    "plt.plot( range(1,30), fmse_diff, color='g' )\n",
    "plt.title( 'Fractional Mean Squared Error' )\n",
    "plt.show()"
   ]
  },
  {
   "cell_type": "code",
   "execution_count": null,
   "metadata": {
    "collapsed": true
   },
   "outputs": [],
   "source": []
  }
 ],
 "metadata": {
  "kernelspec": {
   "display_name": "Python 2",
   "language": "python",
   "name": "python2"
  },
  "language_info": {
   "codemirror_mode": {
    "name": "ipython",
    "version": 2
   },
   "file_extension": ".py",
   "mimetype": "text/x-python",
   "name": "python",
   "nbconvert_exporter": "python",
   "pygments_lexer": "ipython2",
   "version": "2.7.13"
  }
 },
 "nbformat": 4,
 "nbformat_minor": 2
}

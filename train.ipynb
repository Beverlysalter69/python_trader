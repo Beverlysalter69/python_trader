{
 "cells": [
  {
   "cell_type": "code",
   "execution_count": 1,
   "metadata": {
    "collapsed": true
   },
   "outputs": [],
   "source": [
    "import numpy  as np\n",
    "import pandas as pd\n",
    "import matplotlib.pyplot as plt\n",
    "import seaborn as sns\n",
    "\n",
    "import read_quote      as rq\n",
    "import stock_functions as sf\n",
    "import df_visualizations as dv\n",
    "import remap_values as rv\n",
    "\n",
    "import sys\n",
    "import time"
   ]
  },
  {
   "cell_type": "code",
   "execution_count": 2,
   "metadata": {
    "collapsed": true
   },
   "outputs": [],
   "source": [
    "roll_nums = [3,5,7,10,12,15,18,20,22,25,28,30] # Generate an algorithm for predicting every few days\n",
    "mom_nums  = [3,5,10,20,30]                     # Momentum has many good tracers\n",
    "rsi_nums  = [10,15]                            # Good for some long term trends\n",
    "band_nums = [5,10,15,20,25]                    # A few trace different areas well"
   ]
  },
  {
   "cell_type": "code",
   "execution_count": 3,
   "metadata": {
    "collapsed": true
   },
   "outputs": [],
   "source": [
    "inpFileList = ['aapl','ba','farm','hes','ibm','mas','sbux','tgt']"
   ]
  },
  {
   "cell_type": "code",
   "execution_count": null,
   "metadata": {
    "collapsed": true
   },
   "outputs": [],
   "source": []
  },
  {
   "cell_type": "code",
   "execution_count": 4,
   "metadata": {
    "collapsed": true
   },
   "outputs": [],
   "source": [
    "# Loop over inpFileList, so multiple stocks being trained\n",
    "#for inpFile in inpFileList:"
   ]
  },
  {
   "cell_type": "code",
   "execution_count": 5,
   "metadata": {
    "collapsed": false
   },
   "outputs": [
    {
     "name": "stdout",
     "output_type": "stream",
     "text": [
      "Reading quote:  quotes/aapl.csv\n",
      "Done.\n",
      "\n",
      "Generating variables...\n",
      "Done.\n",
      "\n",
      "Normalizing variables...\n",
      "Done.\n",
      "\n"
     ]
    }
   ],
   "source": [
    "fileName = 'quotes/' + inpFileList[0] + '.csv'\n",
    "\n",
    "print 'Reading quote: ', fileName\n",
    "\n",
    "my_quote = rq.readQuote( fileName )\n",
    "\n",
    "print 'Done.\\n'\n",
    "\n",
    "\n",
    "##################################################\n",
    "############Generate Variables####################\n",
    "##################################################\n",
    "\n",
    "print 'Generating variables...'\n",
    "\n",
    "# The variables we will use for the training data\n",
    "diffs = sf.generate_differentials   ( my_quote            ).drop('diff_v',axis=1)\n",
    "moms  = sf.generate_momentum_close  ( my_quote, mom_nums  )\n",
    "rsis  = sf.generate_rsi             ( my_quote, rsi_nums  )\n",
    "bands = sf.generate_bollinger_bands ( my_quote, band_nums )\n",
    "\n",
    "\n",
    "print 'Done.\\n'\n",
    "\n",
    "##################################################\n",
    "#############Normalize Variables##################\n",
    "##################################################\n",
    "\n",
    "print 'Normalizing variables...'\n",
    "\n",
    "# Differentials in a day can be smart scaled\n",
    "diffs['diff_hl'] = np.log10( diffs['diff_hl'] )\n",
    "for col in diffs.columns:\n",
    "    diffs[col] = rv.smart_scale( diffs, col, show_plot=False )\n",
    "\n",
    "# Momentums can also be smart scaled\n",
    "for col in moms.columns:\n",
    "    moms[col] = rv.smart_scale( moms, col, show_plot=False )\n",
    "    \n",
    "# RSIs have natural distribution centered at 0.5, scale accordingly\n",
    "for col in rsis.columns:\n",
    "    rsis[col] = ( rsis[col] - 0.5 ) / rsis[col].std()\n",
    "    \n",
    "# Bands also centered at 0.5, use stdev of bollinger band of 0.25 for scaling\n",
    "for col in bands.columns:\n",
    "    bands[col] = ( bands[col] - 0.5 ) / 0.5\n",
    "    \n",
    "\n",
    "print 'Done.\\n'\n",
    "\n",
    "var_df_list = [ diffs, moms, rsis, bands ]\n",
    "all_train_variables = reduce( lambda left,right: left.join(right,how='inner'), var_df_list )\n",
    "\n",
    "\n",
    "##################################################\n",
    "#############Generate Target Variables############\n",
    "##################################################\n",
    "\n",
    "\n",
    "\n",
    "# The target variables are stored in the data frame\n",
    "rolls = sf.generate_rolling_close   ( my_quote, roll_nums, onlyMean=True )\n",
    "for i in roll_nums:\n",
    "    rolls['close_mean_'+str(i)] = ( rolls['close_mean_'+str(i)].shift(i) / rolls['close_mean_'+str(i)] - 1 )\n",
    "rolls = rolls.replace( [np.inf, -np.inf], np.nan )\n",
    "\n",
    "\n",
    "# The predicted value column heads\n",
    "target_list = rolls.columns.values\n",
    "\n",
    "\n",
    "# Loop over target list and train multiple machine learning methods on it:\n",
    "#for target_col in target_list:"
   ]
  },
  {
   "cell_type": "code",
   "execution_count": 49,
   "metadata": {
    "collapsed": false
   },
   "outputs": [],
   "source": [
    "target_col = target_list[-1]\n",
    "\n",
    "big_df = rolls[target_col].dropna().to_frame().join( all_train_variables, how='inner' )\n",
    "big_df = big_df[::-1]\n",
    "\n",
    "target_values   = big_df[target_col].values\n",
    "variable_values = big_df.drop( target_col, axis=1 ).values"
   ]
  },
  {
   "cell_type": "code",
   "execution_count": 50,
   "metadata": {
    "collapsed": false
   },
   "outputs": [
    {
     "data": {
      "text/html": [
       "<div>\n",
       "<table border=\"1\" class=\"dataframe\">\n",
       "  <thead>\n",
       "    <tr style=\"text-align: right;\">\n",
       "      <th></th>\n",
       "      <th>close_mean_30</th>\n",
       "      <th>diff_co</th>\n",
       "      <th>diff_hl</th>\n",
       "      <th>momentum_3</th>\n",
       "      <th>momentum_5</th>\n",
       "      <th>momentum_10</th>\n",
       "      <th>momentum_20</th>\n",
       "      <th>momentum_30</th>\n",
       "      <th>rsi_10</th>\n",
       "      <th>rsi_15</th>\n",
       "      <th>bollinger_5</th>\n",
       "      <th>bollinger_10</th>\n",
       "      <th>bollinger_15</th>\n",
       "      <th>bollinger_20</th>\n",
       "      <th>bollinger_25</th>\n",
       "    </tr>\n",
       "    <tr>\n",
       "      <th>date</th>\n",
       "      <th></th>\n",
       "      <th></th>\n",
       "      <th></th>\n",
       "      <th></th>\n",
       "      <th></th>\n",
       "      <th></th>\n",
       "      <th></th>\n",
       "      <th></th>\n",
       "      <th></th>\n",
       "      <th></th>\n",
       "      <th></th>\n",
       "      <th></th>\n",
       "      <th></th>\n",
       "      <th></th>\n",
       "      <th></th>\n",
       "    </tr>\n",
       "  </thead>\n",
       "  <tbody>\n",
       "    <tr>\n",
       "      <th>2007/04/23</th>\n",
       "      <td>0.171045</td>\n",
       "      <td>1.750816</td>\n",
       "      <td>0.574995</td>\n",
       "      <td>1.128120</td>\n",
       "      <td>0.400426</td>\n",
       "      <td>-0.299621</td>\n",
       "      <td>-0.351259</td>\n",
       "      <td>-0.385663</td>\n",
       "      <td>-0.031876</td>\n",
       "      <td>0.125007</td>\n",
       "      <td>0.876140</td>\n",
       "      <td>0.649741</td>\n",
       "      <td>0.304775</td>\n",
       "      <td>0.169085</td>\n",
       "      <td>0.185976</td>\n",
       "    </tr>\n",
       "    <tr>\n",
       "      <th>2007/04/24</th>\n",
       "      <td>0.180585</td>\n",
       "      <td>-0.677285</td>\n",
       "      <td>1.962264</td>\n",
       "      <td>1.071768</td>\n",
       "      <td>0.649879</td>\n",
       "      <td>-0.466712</td>\n",
       "      <td>-0.699728</td>\n",
       "      <td>0.014442</td>\n",
       "      <td>-0.237591</td>\n",
       "      <td>-0.088544</td>\n",
       "      <td>0.496080</td>\n",
       "      <td>0.674522</td>\n",
       "      <td>0.236426</td>\n",
       "      <td>0.140652</td>\n",
       "      <td>0.082452</td>\n",
       "    </tr>\n",
       "    <tr>\n",
       "      <th>2007/04/25</th>\n",
       "      <td>0.187966</td>\n",
       "      <td>0.975853</td>\n",
       "      <td>-0.228525</td>\n",
       "      <td>1.643102</td>\n",
       "      <td>1.264052</td>\n",
       "      <td>0.267156</td>\n",
       "      <td>-0.364984</td>\n",
       "      <td>0.452949</td>\n",
       "      <td>0.620872</td>\n",
       "      <td>0.166940</td>\n",
       "      <td>0.652888</td>\n",
       "      <td>1.018127</td>\n",
       "      <td>0.799388</td>\n",
       "      <td>0.787826</td>\n",
       "      <td>0.662723</td>\n",
       "    </tr>\n",
       "    <tr>\n",
       "      <th>2007/04/26</th>\n",
       "      <td>0.193398</td>\n",
       "      <td>-2.311491</td>\n",
       "      <td>1.452117</td>\n",
       "      <td>1.976169</td>\n",
       "      <td>2.350031</td>\n",
       "      <td>1.034394</td>\n",
       "      <td>0.421570</td>\n",
       "      <td>0.662458</td>\n",
       "      <td>1.154375</td>\n",
       "      <td>0.733335</td>\n",
       "      <td>0.758913</td>\n",
       "      <td>1.124311</td>\n",
       "      <td>1.260867</td>\n",
       "      <td>1.361793</td>\n",
       "      <td>1.360417</td>\n",
       "    </tr>\n",
       "    <tr>\n",
       "      <th>2007/04/27</th>\n",
       "      <td>0.196227</td>\n",
       "      <td>1.471979</td>\n",
       "      <td>0.346209</td>\n",
       "      <td>2.525957</td>\n",
       "      <td>2.443150</td>\n",
       "      <td>1.671056</td>\n",
       "      <td>0.495442</td>\n",
       "      <td>0.847363</td>\n",
       "      <td>1.796068</td>\n",
       "      <td>0.810014</td>\n",
       "      <td>0.611901</td>\n",
       "      <td>0.912830</td>\n",
       "      <td>1.130042</td>\n",
       "      <td>1.251044</td>\n",
       "      <td>1.314632</td>\n",
       "    </tr>\n",
       "  </tbody>\n",
       "</table>\n",
       "</div>"
      ],
      "text/plain": [
       "            close_mean_30   diff_co   diff_hl  momentum_3  momentum_5  \\\n",
       "date                                                                    \n",
       "2007/04/23       0.171045  1.750816  0.574995    1.128120    0.400426   \n",
       "2007/04/24       0.180585 -0.677285  1.962264    1.071768    0.649879   \n",
       "2007/04/25       0.187966  0.975853 -0.228525    1.643102    1.264052   \n",
       "2007/04/26       0.193398 -2.311491  1.452117    1.976169    2.350031   \n",
       "2007/04/27       0.196227  1.471979  0.346209    2.525957    2.443150   \n",
       "\n",
       "            momentum_10  momentum_20  momentum_30    rsi_10    rsi_15  \\\n",
       "date                                                                    \n",
       "2007/04/23    -0.299621    -0.351259    -0.385663 -0.031876  0.125007   \n",
       "2007/04/24    -0.466712    -0.699728     0.014442 -0.237591 -0.088544   \n",
       "2007/04/25     0.267156    -0.364984     0.452949  0.620872  0.166940   \n",
       "2007/04/26     1.034394     0.421570     0.662458  1.154375  0.733335   \n",
       "2007/04/27     1.671056     0.495442     0.847363  1.796068  0.810014   \n",
       "\n",
       "            bollinger_5  bollinger_10  bollinger_15  bollinger_20  \\\n",
       "date                                                                \n",
       "2007/04/23     0.876140      0.649741      0.304775      0.169085   \n",
       "2007/04/24     0.496080      0.674522      0.236426      0.140652   \n",
       "2007/04/25     0.652888      1.018127      0.799388      0.787826   \n",
       "2007/04/26     0.758913      1.124311      1.260867      1.361793   \n",
       "2007/04/27     0.611901      0.912830      1.130042      1.251044   \n",
       "\n",
       "            bollinger_25  \n",
       "date                      \n",
       "2007/04/23      0.185976  \n",
       "2007/04/24      0.082452  \n",
       "2007/04/25      0.662723  \n",
       "2007/04/26      1.360417  \n",
       "2007/04/27      1.314632  "
      ]
     },
     "execution_count": 50,
     "metadata": {},
     "output_type": "execute_result"
    }
   ],
   "source": [
    "big_df.head()"
   ]
  },
  {
   "cell_type": "code",
   "execution_count": 45,
   "metadata": {
    "collapsed": true
   },
   "outputs": [],
   "source": [
    "from sklearn.svm import SVR\n",
    "from sklearn.ensemble import RandomForestRegressor\n",
    "from sklearn.linear_model import ElasticNet\n",
    "from sklearn.neural_network import MLPRegressor"
   ]
  },
  {
   "cell_type": "code",
   "execution_count": 44,
   "metadata": {
    "collapsed": false
   },
   "outputs": [
    {
     "data": {
      "text/plain": [
       "<module 'remap_values' from 'remap_values.py'>"
      ]
     },
     "execution_count": 44,
     "metadata": {},
     "output_type": "execute_result"
    }
   ],
   "source": [
    "reload(rv)"
   ]
  },
  {
   "cell_type": "code",
   "execution_count": 51,
   "metadata": {
    "collapsed": false
   },
   "outputs": [
    {
     "name": "stdout",
     "output_type": "stream",
     "text": [
      "Fold  1 accuracy: 0.3860  ,  -0.9372  {'min_samples_split': 10, 'n_estimators': 150}\n",
      "Fold  2 accuracy: -1.0783  ,  -0.6193  {'min_samples_split': 10, 'n_estimators': 100}\n",
      "Fold  3 accuracy: 0.0409  ,  -0.0810  {'min_samples_split': 5, 'n_estimators': 150}\n",
      "Fold  4 accuracy: -0.4852  ,  0.2282  {'min_samples_split': 10, 'n_estimators': 150}\n",
      "Fold  5 accuracy: 0.4500  ,  0.1066  {'min_samples_split': 2, 'n_estimators': 100}\n",
      "Fold  6 accuracy: -1.0947  ,  -0.0031  {'min_samples_split': 5, 'n_estimators': 100}\n",
      "Fold  7 accuracy: 0.2525  ,  0.2529  {'min_samples_split': 5, 'n_estimators': 100}\n",
      "Fold  8 accuracy: -0.3233  ,  0.2456  {'min_samples_split': 2, 'n_estimators': 150}\n",
      "Fold  9 accuracy: -0.0040  ,  0.3159  {'min_samples_split': 10, 'n_estimators': 150}\n",
      "Fold 10 accuracy: 0.1032  ,  0.3911  {'min_samples_split': 5, 'n_estimators': 150}\n",
      " \n",
      "Found  7  unique parameter combinations\n",
      " \n",
      "Clf  0 Final Accuracy: 0.1589 +/- 0.5585\n",
      "Clf  1 Final Accuracy: 0.1555 +/- 0.5519\n",
      "Clf  2 Final Accuracy: 0.1228 +/- 0.5488\n",
      "Clf  3 Final Accuracy: 0.1339 +/- 0.5731\n",
      "Clf  4 Final Accuracy: 0.1706 +/- 0.5388\n",
      "Clf  5 Final Accuracy: 0.1433 +/- 0.5470\n",
      "Clf  6 Final Accuracy: 0.1412 +/- 0.5454\n",
      " \n",
      "Using CLF with accuracy:   0.170643\n",
      "CLF params:  {'warm_start': False, 'oob_score': False, 'n_jobs': 1, 'verbose': 0, 'max_leaf_nodes': None, 'bootstrap': True, 'min_samples_leaf': 1, 'n_estimators': 100, 'min_samples_split': 5, 'min_weight_fraction_leaf': 0.0, 'criterion': 'mse', 'random_state': None, 'min_impurity_split': 1e-07, 'max_features': 'auto', 'max_depth': None}\n"
     ]
    },
    {
     "data": {
      "text/plain": [
       "RandomForestRegressor(bootstrap=True, criterion='mse', max_depth=None,\n",
       "           max_features='auto', max_leaf_nodes=None,\n",
       "           min_impurity_split=1e-07, min_samples_leaf=1,\n",
       "           min_samples_split=5, min_weight_fraction_leaf=0.0,\n",
       "           n_estimators=100, n_jobs=1, oob_score=False, random_state=None,\n",
       "           verbose=0, warm_start=False)"
      ]
     },
     "execution_count": 51,
     "metadata": {},
     "output_type": "execute_result"
    }
   ],
   "source": [
    "my_grid = {'n_estimators':[100,150],\n",
    "           'min_samples_split':[2,5,10]}\n",
    "rv.optimize_timeseries_reg( RandomForestRegressor(), variable_values, target_values, my_grid )"
   ]
  },
  {
   "cell_type": "code",
   "execution_count": 52,
   "metadata": {
    "collapsed": false
   },
   "outputs": [
    {
     "name": "stdout",
     "output_type": "stream",
     "text": [
      "Fold  1 accuracy: 0.3612  ,  -1.0870  {'l1_ratio': 0.1, 'fit_intercept': False}\n",
      "Fold  2 accuracy: -1.7827  ,  -0.3216  {'l1_ratio': 0.1, 'fit_intercept': False}\n",
      "Fold  3 accuracy: 0.2242  ,  -0.3600  {'l1_ratio': 0.1, 'fit_intercept': True}\n",
      "Fold  4 accuracy: 0.0605  ,  0.1006  {'l1_ratio': 0.1, 'fit_intercept': True}\n",
      "Fold  5 accuracy: 0.0573  ,  0.0787  {'l1_ratio': 0.1, 'fit_intercept': True}\n",
      "Fold  6 accuracy: -2.2429  ,  -0.0640  {'l1_ratio': 0.1, 'fit_intercept': True}\n",
      "Fold  7 accuracy: -0.0003  ,  0.0499  {'l1_ratio': 0.1, 'fit_intercept': True}\n",
      "Fold  8 accuracy: -0.0546  ,  0.0565  {'l1_ratio': 0.1, 'fit_intercept': True}\n",
      "Fold  9 accuracy: -1.1303  ,  -0.0286  {'l1_ratio': 0.1, 'fit_intercept': True}\n",
      "Fold 10 accuracy: -0.0031  ,  0.0199  {'l1_ratio': 0.1, 'fit_intercept': True}\n",
      " \n",
      "Found  2  unique parameter combinations\n",
      " \n",
      "Clf  0 Final Accuracy: -0.2330 +/- 0.5800\n",
      "Clf  1 Final Accuracy: -0.0031 +/- 0.7661\n",
      " \n",
      "Using CLF with accuracy:   0.000000\n",
      "CLF params:  {'normalize': False, 'warm_start': False, 'selection': 'cyclic', 'fit_intercept': False, 'l1_ratio': 0.1, 'max_iter': 1000, 'precompute': False, 'random_state': None, 'tol': 0.0001, 'positive': False, 'copy_X': True, 'alpha': 1.0}\n"
     ]
    },
    {
     "data": {
      "text/plain": [
       "ElasticNet(alpha=1.0, copy_X=True, fit_intercept=False, l1_ratio=0.1,\n",
       "      max_iter=1000, normalize=False, positive=False, precompute=False,\n",
       "      random_state=None, selection='cyclic', tol=0.0001, warm_start=False)"
      ]
     },
     "execution_count": 52,
     "metadata": {},
     "output_type": "execute_result"
    }
   ],
   "source": [
    "my_grid = {'fit_intercept':[True,False],\n",
    "           'l1_ratio':[0.1,0.3,0.5,0.7,0.9]}\n",
    "rv.optimize_timeseries_reg( ElasticNet(), variable_values, target_values, my_grid )"
   ]
  },
  {
   "cell_type": "code",
   "execution_count": 53,
   "metadata": {
    "collapsed": false
   },
   "outputs": [
    {
     "name": "stdout",
     "output_type": "stream",
     "text": [
      "Fold  1 accuracy: -0.2858  ,  -1.3955  {'alpha': 0.0001, 'hidden_layer_sizes': 100}\n",
      "Fold  2 accuracy: -2.0755  ,  -1.6481  {'alpha': 3.1622776601683795e-05, 'hidden_layer_sizes': 150}\n",
      "Fold  3 accuracy: -0.3176  ,  -0.4443  {'alpha': 3.1622776601683795e-05, 'hidden_layer_sizes': 200}\n",
      "Fold  4 accuracy: -1.9789  ,  -0.0365  {'alpha': 0.0001, 'hidden_layer_sizes': 200}\n",
      "Fold  5 accuracy: 0.2285  ,  -0.2336  {'alpha': 1.0000000000000001e-05, 'hidden_layer_sizes': 200}\n",
      "Fold  6 accuracy: -0.8961  ,  -0.0650  {'alpha': 3.1622776601683795e-05, 'hidden_layer_sizes': 200}\n",
      "Fold  7 accuracy: -0.4071  ,  0.0873  {'alpha': 0.0001, 'hidden_layer_sizes': 150}\n",
      "Fold  8 accuracy: -1.0916  ,  0.0813  {'alpha': 0.0001, 'hidden_layer_sizes': 200}\n",
      "Fold  9 accuracy: -0.1278  ,  0.1539  {'alpha': 0.00031622776601683794, 'hidden_layer_sizes': 200}\n",
      "Fold 10 accuracy: -0.1185  ,  0.2360  {'alpha': 0.00031622776601683794, 'hidden_layer_sizes': 200}\n",
      " \n",
      "Found  8  unique parameter combinations\n",
      " \n",
      "Clf  0 Final Accuracy: -0.4564 +/- 0.8144\n",
      "Clf  1 Final Accuracy: -0.1530 +/- 0.7474\n",
      "Clf  2 Final Accuracy: -0.1411 +/- 0.7349\n",
      "Clf  3 Final Accuracy: -0.1967 +/- 0.8232\n",
      "Clf  4 Final Accuracy: -0.1452 +/- 0.6913\n",
      "Clf  5 Final Accuracy: -0.1557 +/- 0.7334\n",
      "Clf  6 Final Accuracy: -0.0267 +/- 0.7450\n",
      "Clf  7 Final Accuracy: -0.0622 +/- 0.5498\n",
      " \n",
      "Using CLF with accuracy:   0.000000\n",
      "CLF params:  {'beta_1': 0.9, 'warm_start': False, 'beta_2': 0.999, 'shuffle': True, 'verbose': False, 'nesterovs_momentum': True, 'hidden_layer_sizes': 100, 'epsilon': 1e-08, 'activation': 'relu', 'max_iter': 200, 'batch_size': 'auto', 'power_t': 0.5, 'random_state': None, 'learning_rate_init': 0.001, 'tol': 0.0001, 'validation_fraction': 0.1, 'alpha': 0.0001, 'solver': 'adam', 'momentum': 0.9, 'learning_rate': 'constant', 'early_stopping': False}\n"
     ]
    },
    {
     "data": {
      "text/plain": [
       "MLPRegressor(activation='relu', alpha=0.0001, batch_size='auto', beta_1=0.9,\n",
       "       beta_2=0.999, early_stopping=False, epsilon=1e-08,\n",
       "       hidden_layer_sizes=100, learning_rate='constant',\n",
       "       learning_rate_init=0.001, max_iter=200, momentum=0.9,\n",
       "       nesterovs_momentum=True, power_t=0.5, random_state=None,\n",
       "       shuffle=True, solver='adam', tol=0.0001, validation_fraction=0.1,\n",
       "       verbose=False, warm_start=False)"
      ]
     },
     "execution_count": 53,
     "metadata": {},
     "output_type": "execute_result"
    }
   ],
   "source": [
    "my_grid = {'hidden_layer_sizes':[100,150,200],\n",
    "           'alpha':10**np.arange(-5,-3,0.5)}\n",
    "rv.optimize_timeseries_reg( MLPRegressor(), variable_values, target_values, my_grid )"
   ]
  },
  {
   "cell_type": "code",
   "execution_count": null,
   "metadata": {
    "collapsed": true
   },
   "outputs": [],
   "source": []
  }
 ],
 "metadata": {
  "kernelspec": {
   "display_name": "Python 2",
   "language": "python",
   "name": "python2"
  },
  "language_info": {
   "codemirror_mode": {
    "name": "ipython",
    "version": 2
   },
   "file_extension": ".py",
   "mimetype": "text/x-python",
   "name": "python",
   "nbconvert_exporter": "python",
   "pygments_lexer": "ipython2",
   "version": "2.7.13"
  }
 },
 "nbformat": 4,
 "nbformat_minor": 2
}

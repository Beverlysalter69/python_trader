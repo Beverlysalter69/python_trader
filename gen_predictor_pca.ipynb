{
 "cells": [
  {
   "cell_type": "code",
   "execution_count": 1,
   "metadata": {
    "collapsed": true
   },
   "outputs": [],
   "source": [
    "import numpy  as np\n",
    "import pandas as pd\n",
    "import matplotlib.pyplot as plt\n",
    "import seaborn as sns\n",
    "\n",
    "import read_quote      as rq\n",
    "import stock_functions as sf\n",
    "import df_visualizations as dv\n",
    "import remap_values as rv\n",
    "\n",
    "import random\n",
    "import pickle\n",
    "\n",
    "import sys\n",
    "import time"
   ]
  },
  {
   "cell_type": "code",
   "execution_count": 2,
   "metadata": {
    "collapsed": true
   },
   "outputs": [],
   "source": [
    "from sklearn.svm            import SVR\n",
    "from sklearn.ensemble       import RandomForestRegressor\n",
    "from sklearn.linear_model   import ElasticNet\n",
    "from sklearn.neural_network import MLPRegressor\n",
    "from sklearn.ensemble       import BaggingRegressor\n",
    "from sklearn.ensemble       import AdaBoostRegressor\n",
    "\n",
    "from sklearn.utils          import shuffle\n",
    "\n",
    "from sklearn.metrics        import mean_squared_error\n",
    "\n",
    "from sklearn.model_selection import cross_val_score\n",
    "from sklearn.model_selection import GridSearchCV\n",
    "\n",
    "from sklearn.multioutput    import MultiOutputRegressor"
   ]
  },
  {
   "cell_type": "code",
   "execution_count": 12,
   "metadata": {
    "collapsed": true
   },
   "outputs": [],
   "source": [
    "roll_nums = [5,15]#[3,5,7,10,12,15,18,20,22,25,28,30] # Generate an algorithm for predicting every few days\n",
    "mom_nums  = [3,5,8,10,15,20,25,30]                    # Momentum has many good tracers\n",
    "rsi_nums  = [10,15,20,25,30]                          # Good for some long term trends\n",
    "band_nums = [5,8,10,15,20,25]                         # A few trace different areas well"
   ]
  },
  {
   "cell_type": "code",
   "execution_count": 4,
   "metadata": {
    "collapsed": true
   },
   "outputs": [],
   "source": [
    "inpFileList = ['aapl','acm' ,'awk' ,'amzn','awr' ,'ba'  ,'bac' ,'c'   ,'cat' ,'cop' ,'cvx' ,'dal' ,\n",
    "               'dd'  ,'farm','fdp' ,'gnc' ,'hes' ,'ibm' ,'mas' ,'mcd' ,'mon' ,'msex','msft','nflx',\n",
    "               'sbux','strl','tgt' ,'tsla','ups' ,'xom' ,'xpo' ,'vmc' ]"
   ]
  },
  {
   "cell_type": "code",
   "execution_count": null,
   "metadata": {
    "collapsed": true
   },
   "outputs": [],
   "source": []
  },
  {
   "cell_type": "code",
   "execution_count": 9,
   "metadata": {
    "collapsed": false
   },
   "outputs": [
    {
     "data": {
      "text/plain": [
       "<module 'stock_functions' from 'stock_functions.py'>"
      ]
     },
     "execution_count": 9,
     "metadata": {},
     "output_type": "execute_result"
    }
   ],
   "source": [
    "reload(sf)"
   ]
  },
  {
   "cell_type": "code",
   "execution_count": 13,
   "metadata": {
    "collapsed": false
   },
   "outputs": [],
   "source": [
    "scaled_df = sf.get_scaled_data( inpFileList, roll_nums, mom_nums, rsi_nums, band_nums )"
   ]
  },
  {
   "cell_type": "code",
   "execution_count": 17,
   "metadata": {
    "collapsed": false
   },
   "outputs": [],
   "source": [
    "scaled_df = sf.gen_pca_attributes( scaled_df, mom_nums, rsi_nums, band_nums, n_mom=3, n_rsi=2, n_ban=2 )"
   ]
  },
  {
   "cell_type": "code",
   "execution_count": 9,
   "metadata": {
    "collapsed": true
   },
   "outputs": [],
   "source": [
    "# Read in each stock, and perform reduction\n",
    "#    Break into train, test sets\n",
    "#    Store train, test sets in arrays\n",
    "# For each regressor predicting a certain num of days...\n",
    "#    Manually cross validate, testing and scoring each set"
   ]
  },
  {
   "cell_type": "code",
   "execution_count": null,
   "metadata": {
    "collapsed": true
   },
   "outputs": [],
   "source": []
  },
  {
   "cell_type": "code",
   "execution_count": 21,
   "metadata": {
    "collapsed": true
   },
   "outputs": [],
   "source": [
    "# Mix up the list\n",
    "shuff_scaled_df = shuffle( scaled_df, random_state=0 )\n",
    "\n",
    "\n",
    "# Seperate features from target data\n",
    "close_list = ['close']\n",
    "for i in roll_nums:\n",
    "    close_list.append( 'close_mean_'+str(i) )\n",
    "\n",
    "targets  = shuff_scaled_df[close_list]\n",
    "features = shuff_scaled_df.drop( close_list, axis=1 )\n",
    "\n",
    "\n",
    "\n",
    "n_elements = shuff_scaled_df.shape[0]\n",
    "\n",
    "# Set the fraction of data we will train over\n",
    "percent_train = 0.7\n",
    "\n",
    "# Size of training set\n",
    "n_train = int( percent_train * n_elements )\n",
    "\n",
    "\n",
    "# Seperate training and test data\n",
    "train_features = features[ : n_train   ]\n",
    "test_features  = features[   n_train : ]\n",
    "\n",
    "train_targets  =  targets[ : n_train   ]\n",
    "test_targets   =  targets[   n_train : ]"
   ]
  },
  {
   "cell_type": "code",
   "execution_count": 33,
   "metadata": {
    "collapsed": false
   },
   "outputs": [
    {
     "name": "stdout",
     "output_type": "stream",
     "text": [
      "close_mean_5  MSE :  0.00126550114664\n",
      "close_mean_15  MSE :  0.00254971575641\n"
     ]
    }
   ],
   "source": [
    "reg_list = []\n",
    "\n",
    "# Features are the same, but targets training on will vary\n",
    "# As will which features missing ( due to ways rolling mean calculated )\n",
    "# Skip the next days, close, but otherwise use rolling means\n",
    "for col in close_list[1:]:\n",
    "\n",
    "    # Gets the location of null values\n",
    "    train_not_null_locations = train_targets[col].isnull()==0\n",
    "    test_not_null_locations  =  test_targets[col].isnull()==0\n",
    "    \n",
    "    # Take features and targets that are not null\n",
    "    train_x = train_features[ train_not_null_locations ].values\n",
    "    test_x  =  test_features[  test_not_null_locations ].values\n",
    "    \n",
    "    train_y = train_targets[ train_not_null_locations ][col].values\n",
    "    test_y  =  test_targets[  test_not_null_locations ][col].values\n",
    "    \n",
    "    reg_list.append( AdaBoostRegressor( base_estimator=RandomForestRegressor( n_estimators=20, max_features=0.7 ), random_state=0, \n",
    "                            loss='exponential', n_estimators=10 ) )\n",
    "\n",
    "    reg_list[-1].fit( train_x, train_y )\n",
    "    \n",
    "    ad_y = reg_list[-1].predict( test_x )\n",
    "    \n",
    "    print col, ' MSE : ', mean_squared_error( ad_y, test_y )"
   ]
  },
  {
   "cell_type": "code",
   "execution_count": null,
   "metadata": {
    "collapsed": true
   },
   "outputs": [],
   "source": []
  }
 ],
 "metadata": {
  "kernelspec": {
   "display_name": "Python 2",
   "language": "python",
   "name": "python2"
  },
  "language_info": {
   "codemirror_mode": {
    "name": "ipython",
    "version": 2
   },
   "file_extension": ".py",
   "mimetype": "text/x-python",
   "name": "python",
   "nbconvert_exporter": "python",
   "pygments_lexer": "ipython2",
   "version": "2.7.13"
  }
 },
 "nbformat": 4,
 "nbformat_minor": 2
}

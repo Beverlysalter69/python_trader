{
 "cells": [
  {
   "cell_type": "code",
   "execution_count": 6,
   "metadata": {
    "collapsed": true
   },
   "outputs": [],
   "source": [
    "import numpy  as np\n",
    "import pandas as pd\n",
    "import matplotlib.pyplot as plt\n",
    "import seaborn as sns\n",
    "\n",
    "import read_quote      as rq\n",
    "import stock_functions as sf\n",
    "import df_visualizations as dv\n",
    "import remap_values as rv\n",
    "\n",
    "import random\n",
    "import pickle\n",
    "\n",
    "import sys\n",
    "import time"
   ]
  },
  {
   "cell_type": "code",
   "execution_count": 1,
   "metadata": {
    "collapsed": true
   },
   "outputs": [],
   "source": [
    "from sklearn.svm            import SVR\n",
    "from sklearn.ensemble       import RandomForestRegressor\n",
    "from sklearn.linear_model   import ElasticNet\n",
    "from sklearn.neural_network import MLPRegressor\n",
    "from sklearn.ensemble       import BaggingRegressor\n",
    "from sklearn.ensemble       import AdaBoostRegressor\n",
    "\n",
    "from sklearn.multioutput    import MultiOutputRegressor\n",
    "\n",
    "from sklearn.utils          import shuffle\n",
    "\n",
    "from sklearn.metrics        import mean_squared_error\n",
    "\n",
    "from sklearn.model_selection import cross_val_score\n",
    "from sklearn.model_selection import GridSearchCV\n",
    "\n",
    "from sklearn.multioutput    import MultiOutputRegressor"
   ]
  },
  {
   "cell_type": "code",
   "execution_count": 2,
   "metadata": {
    "collapsed": true
   },
   "outputs": [],
   "source": [
    "roll_nums = [3,5,7,10,12,15,20,25]#[3,5,7,10,12,15,18,20,22,25,28,30] # Generate an algorithm for predicting every few days\n",
    "mom_nums  = [3,5,8,10,15,20,25,30]                    # Momentum has many good tracers\n",
    "rsi_nums  = [10,15,20,25,30]                          # Good for some long term trends\n",
    "band_nums = [5,8,10,15,20,25]                         # A few trace different areas well"
   ]
  },
  {
   "cell_type": "code",
   "execution_count": 3,
   "metadata": {
    "collapsed": true
   },
   "outputs": [],
   "source": [
    "inpFileList = ['aapl','acm' ,'awk' ,'amzn','awr' ,'ba'  ,'bac' ,'c'   ,'cat' ,'cop' ,'cvx' ,'dal' ,\n",
    "               'dd'  ,'farm','fdp' ,'gnc' ,'hes' ,'ibm' ,'mas' ,'mcd' ,'mon' ,'msex','msft','nflx',\n",
    "               'sbux','strl','tgt' ,'tsla','ups' ,'xom' ,'xpo' ,'vmc' ]"
   ]
  },
  {
   "cell_type": "code",
   "execution_count": null,
   "metadata": {
    "collapsed": true
   },
   "outputs": [],
   "source": []
  },
  {
   "cell_type": "code",
   "execution_count": 7,
   "metadata": {
    "collapsed": false
   },
   "outputs": [],
   "source": [
    "scaled_df = sf.get_scaled_data( inpFileList, roll_nums, mom_nums, rsi_nums, band_nums )"
   ]
  },
  {
   "cell_type": "code",
   "execution_count": 8,
   "metadata": {
    "collapsed": false
   },
   "outputs": [],
   "source": [
    "scaled_df = sf.gen_pca_attributes( scaled_df, mom_nums, rsi_nums, band_nums, n_mom=3, n_rsi=2, n_ban=2 )"
   ]
  },
  {
   "cell_type": "code",
   "execution_count": 7,
   "metadata": {
    "collapsed": true
   },
   "outputs": [],
   "source": [
    "# Read in each stock, and perform reduction\n",
    "#    Break into train, test sets\n",
    "#    Store train, test sets in arrays\n",
    "# For each regressor predicting a certain num of days...\n",
    "#    Manually cross validate, testing and scoring each set"
   ]
  },
  {
   "cell_type": "code",
   "execution_count": null,
   "metadata": {
    "collapsed": true
   },
   "outputs": [],
   "source": []
  },
  {
   "cell_type": "code",
   "execution_count": 9,
   "metadata": {
    "collapsed": true
   },
   "outputs": [],
   "source": [
    "# Mix up the list\n",
    "shuff_scaled_df = shuffle( scaled_df, random_state=0 )\n",
    "\n",
    "\n",
    "# Seperate features from target data\n",
    "close_list = ['close']\n",
    "for i in roll_nums:\n",
    "    close_list.append( 'close_mean_'+str(i) )\n",
    "\n",
    "targets  = shuff_scaled_df[close_list]\n",
    "features = shuff_scaled_df.drop( close_list, axis=1 )\n",
    "\n",
    "\n",
    "\n",
    "n_elements = shuff_scaled_df.shape[0]\n",
    "\n",
    "# Set the fraction of data we will train over\n",
    "percent_train = 0.8\n",
    "\n",
    "# Size of training set\n",
    "n_train = int( percent_train * n_elements )\n",
    "\n",
    "\n",
    "# Seperate training and test data\n",
    "train_features = features[ : n_train   ]\n",
    "test_features  = features[   n_train : ]\n",
    "\n",
    "train_targets  =  targets[ : n_train   ]\n",
    "test_targets   =  targets[   n_train : ]"
   ]
  },
  {
   "cell_type": "code",
   "execution_count": null,
   "metadata": {
    "collapsed": true
   },
   "outputs": [],
   "source": []
  },
  {
   "cell_type": "code",
   "execution_count": 10,
   "metadata": {
    "collapsed": false
   },
   "outputs": [
    {
     "data": {
      "text/plain": [
       "MultiOutputRegressor(estimator=AdaBoostRegressor(base_estimator=RandomForestRegressor(bootstrap=True, criterion='mse', max_depth=None,\n",
       "           max_features=0.7, max_leaf_nodes=None, min_impurity_split=1e-07,\n",
       "           min_samples_leaf=1, min_samples_split=2,\n",
       "           min_weight_fraction_leaf=0.0, n_estimators=20, n_jobs=1,\n",
       "           oob_score=False, random_state=None, verbose=0, warm_start=False),\n",
       "         learning_rate=1.0, loss='exponential', n_estimators=10,\n",
       "         random_state=0),\n",
       "           n_jobs=1)"
      ]
     },
     "execution_count": 10,
     "metadata": {},
     "output_type": "execute_result"
    }
   ],
   "source": [
    "# Gets the location of not null values\n",
    "train_not_null_locations = train_targets.notnull().all( axis=1 )==1\n",
    "test_not_null_locations  =  test_targets.notnull().all( axis=1 )==1\n",
    "\n",
    "# Take features and targets that are not null\n",
    "train_x = train_features[ train_not_null_locations ].values\n",
    "test_x  =  test_features[  test_not_null_locations ].values\n",
    "\n",
    "train_y = train_targets[ train_not_null_locations ].values\n",
    "test_y  =  test_targets[  test_not_null_locations ].values\n",
    "\n",
    "ad_mult_reg = MultiOutputRegressor( AdaBoostRegressor( base_estimator=RandomForestRegressor( n_estimators=20, max_features=0.7 ), random_state=0, \n",
    "                            loss='exponential', n_estimators=10 ) )\n",
    "#ad_mult_reg = MultiOutputRegressor( AdaBoostRegressor( base_estimator=RandomForestRegressor( n_estimators=20, max_features=0.7 ), random_state=0, \n",
    "#                            loss='exponential', n_estimators=5 ) )\n",
    "\n",
    "ad_mult_reg.fit( train_x, train_y )"
   ]
  },
  {
   "cell_type": "code",
   "execution_count": null,
   "metadata": {
    "collapsed": true
   },
   "outputs": [],
   "source": []
  },
  {
   "cell_type": "code",
   "execution_count": 9,
   "metadata": {
    "collapsed": false
   },
   "outputs": [
    {
     "name": "stdout",
     "output_type": "stream",
     "text": [
      " close_mean_3 MSE :  0.28736, Percent ME : 36.03992\n",
      " close_mean_5 MSE :  0.01817, Percent ME :  9.06243\n",
      " close_mean_7 MSE :  0.02099, Percent ME :  9.73959\n",
      "close_mean_10 MSE :  0.00909, Percent ME :  6.41166\n",
      "close_mean_12 MSE :  0.02232, Percent ME : 10.04452\n",
      "close_mean_15 MSE :  0.02216, Percent ME : 10.00922\n"
     ]
    }
   ],
   "source": [
    "test_60 = ad_mult_reg.predict( test_x )\n",
    "\n",
    "for i in range( 1, len( close_list[1:] ) ) :\n",
    "    mse = mean_squared_error( test_y[i-1], test_60[i-1] )\n",
    "    print '%13s MSE : %8.5f, Percent ME : %8.5f' % ( close_list[i], mse, np.sqrt(mse)/np.mean(test_y) )"
   ]
  },
  {
   "cell_type": "code",
   "execution_count": 29,
   "metadata": {
    "collapsed": false
   },
   "outputs": [
    {
     "name": "stdout",
     "output_type": "stream",
     "text": [
      " close_mean_3 MSE :  0.11175, Percent ME : 22.26275\n",
      " close_mean_5 MSE :  0.02046, Percent ME :  9.52490\n",
      " close_mean_7 MSE :  0.01597, Percent ME :  8.41539\n",
      "close_mean_10 MSE :  0.00119, Percent ME :  2.29876\n",
      "close_mean_12 MSE :  0.23849, Percent ME : 32.52288\n",
      "close_mean_15 MSE :  0.26986, Percent ME : 34.59590\n"
     ]
    }
   ],
   "source": [
    "test_70 = ad_mult_reg.predict( test_x )\n",
    "\n",
    "for i in range( 1, len( close_list[1:] ) ) :\n",
    "    mse = mean_squared_error( test_y[i-1], test_70[i-1] )\n",
    "    print '%13s MSE : %8.5f, Percent ME : %8.5f' % ( close_list[i], mse, np.sqrt(mse)/np.mean(test_y) )"
   ]
  },
  {
   "cell_type": "code",
   "execution_count": 12,
   "metadata": {
    "collapsed": false
   },
   "outputs": [
    {
     "name": "stdout",
     "output_type": "stream",
     "text": [
      " close_mean_3 MSE :  0.00034, Percent ME :  1.28400\n",
      " close_mean_5 MSE :  0.00052, Percent ME :  1.57940\n",
      " close_mean_7 MSE :  0.00769, Percent ME :  6.09548\n",
      "close_mean_10 MSE :  0.00520, Percent ME :  5.01383\n",
      "close_mean_12 MSE :  0.04772, Percent ME : 15.18780\n",
      "close_mean_15 MSE :  0.01710, Percent ME :  9.09208\n",
      "close_mean_20 MSE :  0.04250, Percent ME : 14.33349\n",
      "close_mean_25 MSE :  0.10339, Percent ME : 22.35573\n"
     ]
    }
   ],
   "source": [
    "test_80 = ad_mult_reg.predict( test_x )\n",
    "\n",
    "for i in range( 1, len( close_list[1:] )+1 ) :\n",
    "    mse = mean_squared_error( test_y[i-1], test_80[i-1] )\n",
    "    print '%13s MSE : %8.5f, Percent ME : %8.5f' % ( close_list[i], mse, np.sqrt(mse)/np.mean(test_y) )"
   ]
  },
  {
   "cell_type": "code",
   "execution_count": 12,
   "metadata": {
    "collapsed": false
   },
   "outputs": [
    {
     "name": "stdout",
     "output_type": "stream",
     "text": [
      " close_mean_3 MSE :  0.00075, Percent ME :  1.80002\n",
      " close_mean_5 MSE :  0.00311, Percent ME :  3.67110\n",
      " close_mean_7 MSE :  0.03112, Percent ME : 11.60937\n",
      "close_mean_10 MSE :  0.00762, Percent ME :  5.74298\n",
      "close_mean_12 MSE :  0.06341, Percent ME : 16.57087\n",
      "close_mean_15 MSE :  0.01113, Percent ME :  6.94384\n",
      "close_mean_25 MSE :  0.02668, Percent ME : 10.74902\n"
     ]
    }
   ],
   "source": [
    "test_80_5 = ad_mult_reg.predict( test_x )\n",
    "\n",
    "for i in range( 1, len( close_list[1:] )+1 ) :\n",
    "    mse = mean_squared_error( test_y[i-1], test_80_5[i-1] )\n",
    "    print '%13s MSE : %8.5f, Percent ME : %8.5f' % ( close_list[i], mse, np.sqrt(mse)/np.mean(test_y) )"
   ]
  },
  {
   "cell_type": "code",
   "execution_count": null,
   "metadata": {
    "collapsed": true
   },
   "outputs": [],
   "source": []
  },
  {
   "cell_type": "code",
   "execution_count": 26,
   "metadata": {
    "collapsed": false
   },
   "outputs": [
    {
     "name": "stdout",
     "output_type": "stream",
     "text": [
      " close_mean_3 MSE :  0.00101, Percent ME : 20.32958\n",
      " close_mean_5 MSE :  0.00127, Percent ME : 15.84783\n",
      " close_mean_7 MSE :  0.00152, Percent ME : 13.28560\n",
      "close_mean_10 MSE :  0.00190, Percent ME : 10.66902\n",
      "close_mean_12 MSE :  0.00214, Percent ME :  9.62483\n",
      "close_mean_15 MSE :  0.00255, Percent ME :  8.32091\n",
      "close_mean_25 MSE :  0.00397, Percent ME :  6.10079\n"
     ]
    }
   ],
   "source": [
    "reg_list = []\n",
    "\n",
    "# Features are the same, but targets training on will vary\n",
    "# As will which features missing ( due to ways rolling mean calculated )\n",
    "# Skip the next days, close, but otherwise use rolling means\n",
    "for col in close_list[1:]:\n",
    "\n",
    "    # Gets the location of null values\n",
    "    train_not_null_locations = train_targets[col].isnull()==0\n",
    "    test_not_null_locations  =  test_targets[col].isnull()==0\n",
    "    \n",
    "    # Take features and targets that are not null\n",
    "    train_x = train_features[ train_not_null_locations ].values\n",
    "    test_x  =  test_features[  test_not_null_locations ].values\n",
    "    \n",
    "    train_y = train_targets[ train_not_null_locations ][col].values\n",
    "    test_y  =  test_targets[  test_not_null_locations ][col].values\n",
    "    \n",
    "#    reg_list=( AdaBoostRegressor( base_estimator=RandomForestRegressor( n_estimators=20, max_features=0.7 ), random_state=0, \n",
    "#                            loss='exponential', n_estimators=5 ) )\n",
    "    \n",
    "    reg_list.append( AdaBoostRegressor( base_estimator=RandomForestRegressor( n_estimators=20, max_features=0.7 ), random_state=0, \n",
    "                            loss='exponential', n_estimators=10 ) )\n",
    "\n",
    "    reg_list[-1].fit( train_x, train_y )\n",
    "#    reg_list.fit( train_x, train_y )\n",
    "    \n",
    "#    ad_y = reg_list.predict( test_x )\n",
    "    ad_y = reg_list[-1].predict( test_x )\n",
    "    mse = mean_squared_error( ad_y, test_y )\n",
    "    \n",
    "    print '%13s MSE : %8.5f, Percent ME : %8.5f' % ( col, mse, np.sqrt(mse)/np.mean(test_y) )"
   ]
  },
  {
   "cell_type": "code",
   "execution_count": null,
   "metadata": {
    "collapsed": true
   },
   "outputs": [],
   "source": []
  },
  {
   "cell_type": "code",
   "execution_count": null,
   "metadata": {
    "collapsed": true
   },
   "outputs": [],
   "source": []
  },
  {
   "cell_type": "markdown",
   "metadata": {},
   "source": [
    "reg_list=( AdaBoostRegressor( base_estimator=RandomForestRegressor( n_estimators=20, max_features=0.7 ), random_state=0, \n",
    "                            loss='exponential', n_estimators=10 ) )\n",
    "                            \n",
    "close_mean_3  MSE :  0.00100721061963\n",
    "\n",
    "close_mean_5  MSE :  0.00126550114664\n",
    "\n",
    "close_mean_15  MSE :  0.00254971575641\n",
    "\n",
    "close_mean_25  MSE :  0.00397021282384"
   ]
  },
  {
   "cell_type": "markdown",
   "metadata": {},
   "source": [
    "reg_list=( AdaBoostRegressor( base_estimator=RandomForestRegressor( n_estimators=20, max_features=0.6 ), random_state=0, \n",
    "                            loss='exponential', n_estimators=10 ) )\n",
    "\n",
    " close_mean_3 MSE :  0.00101, Percent ME : 20.33788\n",
    "            \n",
    " close_mean_5 MSE :  0.00127, Percent ME : 15.85799\n",
    "        \n",
    "close_mean_15 MSE :  0.00254, Percent ME :  8.30605\n",
    "        \n",
    "close_mean_25 MSE :  0.00395, Percent ME :  6.08495"
   ]
  },
  {
   "cell_type": "markdown",
   "metadata": {},
   "source": [
    "reg_list=( AdaBoostRegressor( base_estimator=RandomForestRegressor( n_estimators=20, max_features=0.8 ), random_state=0, \n",
    "                            loss='exponential', n_estimators=10 ) )\n",
    "\n",
    " close_mean_3 MSE :  0.00101, Percent ME : 20.39407\n",
    " \n",
    " close_mean_5 MSE :  0.00128, Percent ME : 15.91946\n",
    " \n",
    "close_mean_15 MSE :  0.00253, Percent ME :  8.28805\n",
    "\n",
    "close_mean_25 MSE :  0.00397, Percent ME :  6.09778"
   ]
  },
  {
   "cell_type": "markdown",
   "metadata": {},
   "source": [
    "reg_list=( AdaBoostRegressor( base_estimator=RandomForestRegressor( n_estimators=30, max_features=0.7 ), random_state=0, \n",
    "                            loss='exponential', n_estimators=10 ) )\n",
    "\n",
    " close_mean_3 MSE :  0.00100, Percent ME : 20.30114\n",
    "        \n",
    " close_mean_5 MSE :  0.00126, Percent ME : 15.80350\n",
    "        \n",
    "close_mean_15 MSE :  0.00254, Percent ME :  8.31250\n",
    "        \n",
    "close_mean_25 MSE :  0.00394, Percent ME :  6.08079"
   ]
  },
  {
   "cell_type": "markdown",
   "metadata": {},
   "source": [
    "reg_list=( AdaBoostRegressor( base_estimator=RandomForestRegressor( n_estimators=10, max_features=0.7 ), random_state=0, \n",
    "                            loss='exponential', n_estimators=10 ) )\n",
    "\n",
    " close_mean_3 MSE :  0.00102, Percent ME : 20.50482\n",
    " \n",
    " close_mean_5 MSE :  0.00128, Percent ME : 15.91072\n",
    " \n",
    "close_mean_15 MSE :  0.00259, Percent ME :  8.38302\n",
    "\n",
    "close_mean_25 MSE :  0.00399, Percent ME :  6.11756"
   ]
  },
  {
   "cell_type": "markdown",
   "metadata": {},
   "source": [
    "reg_list=( AdaBoostRegressor( base_estimator=RandomForestRegressor( n_estimators=20, max_features=0.7 ), random_state=0, \n",
    "                            loss='exponential', n_estimators=20 ) )\n",
    "                            \n",
    " close_mean_3 MSE :  0.00100, Percent ME : 20.23163\n",
    " \n",
    " close_mean_5 MSE :  0.00126, Percent ME : 15.79081\n",
    " \n",
    "close_mean_15 MSE :  0.00251, Percent ME :  8.25161\n",
    "\n",
    "close_mean_25 MSE :  0.00391, Percent ME :  6.05090"
   ]
  },
  {
   "cell_type": "markdown",
   "metadata": {},
   "source": [
    "reg_list=( AdaBoostRegressor( base_estimator=RandomForestRegressor( n_estimators=20, max_features=0.7 ), random_state=0, \n",
    "                            loss='exponential', n_estimators=5 ) )\n",
    "\n",
    " close_mean_3 MSE :  0.00102, Percent ME : 20.40833\n",
    "            \n",
    " close_mean_5 MSE :  0.00128, Percent ME : 15.95991\n",
    "        \n",
    "close_mean_15 MSE :  0.00259, Percent ME :  8.38906\n",
    "        \n",
    "close_mean_25 MSE :  0.00405, Percent ME :  6.16066"
   ]
  },
  {
   "cell_type": "code",
   "execution_count": null,
   "metadata": {
    "collapsed": true
   },
   "outputs": [],
   "source": []
  }
 ],
 "metadata": {
  "kernelspec": {
   "display_name": "Python 2",
   "language": "python",
   "name": "python2"
  },
  "language_info": {
   "codemirror_mode": {
    "name": "ipython",
    "version": 2
   },
   "file_extension": ".py",
   "mimetype": "text/x-python",
   "name": "python",
   "nbconvert_exporter": "python",
   "pygments_lexer": "ipython2",
   "version": "2.7.13"
  }
 },
 "nbformat": 4,
 "nbformat_minor": 2
}

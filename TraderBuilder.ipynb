{
 "cells": [
  {
   "cell_type": "code",
   "execution_count": 1,
   "metadata": {
    "collapsed": true
   },
   "outputs": [],
   "source": [
    "import numpy  as np\n",
    "import pandas as pd\n",
    "import matplotlib.pyplot as plt\n",
    "import sys"
   ]
  },
  {
   "cell_type": "code",
   "execution_count": 24,
   "metadata": {
    "collapsed": false
   },
   "outputs": [],
   "source": [
    "def readQuote( inpFileName ):\n",
    "    return pd.read_csv( inpFileName, header=0, index_col=0 )"
   ]
  },
  {
   "cell_type": "code",
   "execution_count": 81,
   "metadata": {
    "collapsed": false
   },
   "outputs": [],
   "source": [
    "# Calculates running average over a number of days, including that day!\n",
    "def calcRunAvg( myDf, col, inpNumDays ):\n",
    "    \n",
    "    # Make sure we are accesing valid average numbers\n",
    "    numDays = int( inpNumDays )\n",
    "    if ( numDays < 2 or \n",
    "         numDays > myDf.shape[0]-1 ):\n",
    "        print 'Invalid number of days for running average: ', inpNumDays\n",
    "        print 'Valid numbers: 2, ', myDF.shape[0]-1\n",
    "        sys.exit()\n",
    "        \n",
    "    # Make sure we are accessing valid columns\n",
    "    cols = myDf.columns.values\n",
    "    if ( not col in cols ):\n",
    "        print 'Invalid column for running average: ', col\n",
    "        print 'Valid columns: ', cols\n",
    "        sys.exit()\n",
    "    \n",
    "    # Store running average\n",
    "    runAvg = np.zeros( [myDf.shape[0]] )\n",
    "    \n",
    "    # Loop until we hit limit for number of days\n",
    "    for i in range( 0, myDf.shape[0]-numDays+1 ):\n",
    "        # Running average \n",
    "        runAvg[i] = myDf.ix[ i:i+numDays, col ].mean()\n",
    "        \n",
    "    newCol       = 'avg_'+col+'_%i' % inpNumDays\n",
    "    myDf[newCol] = runAvg"
   ]
  },
  {
   "cell_type": "code",
   "execution_count": 85,
   "metadata": {
    "collapsed": false
   },
   "outputs": [
    {
     "name": "stdout",
     "output_type": "stream",
     "text": [
      "\n"
     ]
    }
   ],
   "source": [
    "def highLow( myDf ):\n",
    "    myDf['highlow'] = myQuote['high']-myQuote['low']\n",
    "def openClose( myDf ):\n",
    "    myDf['openclose'] = myQuote['close'] - myQuote['open']"
   ]
  },
  {
   "cell_type": "code",
   "execution_count": 2,
   "metadata": {
    "collapsed": true
   },
   "outputs": [],
   "source": [
    "inpFile = 'quotes/ibm.csv'"
   ]
  },
  {
   "cell_type": "code",
   "execution_count": 25,
   "metadata": {
    "collapsed": true
   },
   "outputs": [],
   "source": [
    "myQuote = readQuote( inpFile )"
   ]
  },
  {
   "cell_type": "code",
   "execution_count": 86,
   "metadata": {
    "collapsed": false
   },
   "outputs": [
    {
     "name": "stdout",
     "output_type": "stream",
     "text": [
      "             close     volume    open    high       low  highlow  openclose  \\\n",
      "date                                                                          \n",
      "2017/03/10  177.83  3100107.0  178.21  179.49  177.4200   2.0700      -0.38   \n",
      "2017/03/09  177.18  5443665.0  179.15  179.25  175.8800   3.3700      -1.97   \n",
      "2017/03/08  179.45  3557388.0  180.75  180.95  179.3000   1.6500      -1.30   \n",
      "2017/03/07  180.38  2977496.0  180.71  181.29  180.1997   1.0903      -0.33   \n",
      "2017/03/06  180.47  3199175.0  179.72  180.99  179.5700   1.4200       0.75   \n",
      "\n",
      "            avg_close_3  \n",
      "date                     \n",
      "2017/03/10   178.153333  \n",
      "2017/03/09   179.003333  \n",
      "2017/03/08   180.100000  \n",
      "2017/03/07   180.300000  \n",
      "2017/03/06   180.350000  \n"
     ]
    }
   ],
   "source": [
    "#foo=myQuote.columns.values\n",
    "\n",
    "#print myQuote.ix[0:10]['close'].mean()\n",
    "#print myQuote.ix[0:10,'close'].mean()\n",
    "\n",
    "bar = myQuote.copy()\n",
    "#print bar\n",
    "bar.is_copy = False\n",
    "\n",
    "highLow( bar )\n",
    "openClose( bar )\n",
    "calcRunAvg( bar, 'close', 3 )\n",
    "print bar.head()"
   ]
  },
  {
   "cell_type": "code",
   "execution_count": 87,
   "metadata": {
    "collapsed": true
   },
   "outputs": [],
   "source": [
    "# Covariance of all variables\n",
    "# Break into chunks of ___ days, so average isn't skewed to general trend of rise in the market\n",
    "# ^ Can use metrics to determine slumps, shooting up, constant growth, volatile\n",
    "# Plot trends over time\n",
    "# Test differrent time varying models"
   ]
  },
  {
   "cell_type": "code",
   "execution_count": null,
   "metadata": {
    "collapsed": true
   },
   "outputs": [],
   "source": []
  }
 ],
 "metadata": {
  "kernelspec": {
   "display_name": "Python 2",
   "language": "python",
   "name": "python2"
  },
  "language_info": {
   "codemirror_mode": {
    "name": "ipython",
    "version": 2
   },
   "file_extension": ".py",
   "mimetype": "text/x-python",
   "name": "python",
   "nbconvert_exporter": "python",
   "pygments_lexer": "ipython2",
   "version": "2.7.13"
  }
 },
 "nbformat": 4,
 "nbformat_minor": 2
}

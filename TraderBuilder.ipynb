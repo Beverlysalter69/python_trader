{
 "cells": [
  {
   "cell_type": "code",
   "execution_count": 1,
   "metadata": {
    "collapsed": true
   },
   "outputs": [],
   "source": [
    "import numpy  as np\n",
    "import pandas as pd\n",
    "import matplotlib.pyplot as plt\n",
    "import seaborn as sns\n",
    "\n",
    "import trade_functions as tf\n",
    "import read_quote      as rq\n",
    "import stock_functions as sf\n",
    "\n",
    "import sys\n",
    "import time"
   ]
  },
  {
   "cell_type": "code",
   "execution_count": 2,
   "metadata": {
    "collapsed": false
   },
   "outputs": [],
   "source": [
    "inpFile = 'quotes/ibm.csv'\n",
    "myQuote = rq.readQuote( inpFile )"
   ]
  },
  {
   "cell_type": "code",
   "execution_count": null,
   "metadata": {
    "collapsed": true
   },
   "outputs": [],
   "source": []
  },
  {
   "cell_type": "code",
   "execution_count": 3,
   "metadata": {
    "collapsed": false
   },
   "outputs": [
    {
     "name": "stdout",
     "output_type": "stream",
     "text": [
      "             close     volume    open    high       low\n",
      "date                                                   \n",
      "2017/03/10  177.83  3100107.0  178.21  179.49  177.4200\n",
      "2017/03/09  177.18  5443665.0  179.15  179.25  175.8800\n",
      "2017/03/08  179.45  3557388.0  180.75  180.95  179.3000\n",
      "2017/03/07  180.38  2977496.0  180.71  181.29  180.1997\n",
      "2017/03/06  180.47  3199175.0  179.72  180.99  179.5700\n"
     ]
    }
   ],
   "source": [
    "myQuote = myQuote.iloc[0:500].copy()\n",
    "myQuote.is_copy=False\n",
    "print myQuote.head()"
   ]
  },
  {
   "cell_type": "code",
   "execution_count": null,
   "metadata": {
    "collapsed": true
   },
   "outputs": [],
   "source": []
  },
  {
   "cell_type": "code",
   "execution_count": 23,
   "metadata": {
    "collapsed": false
   },
   "outputs": [
    {
     "data": {
      "text/html": [
       "<div>\n",
       "<table border=\"1\" class=\"dataframe\">\n",
       "  <thead>\n",
       "    <tr style=\"text-align: right;\">\n",
       "      <th></th>\n",
       "      <th>diff_co</th>\n",
       "      <th>diff_hl</th>\n",
       "      <th>diff_v</th>\n",
       "    </tr>\n",
       "    <tr>\n",
       "      <th>date</th>\n",
       "      <th></th>\n",
       "      <th></th>\n",
       "      <th></th>\n",
       "    </tr>\n",
       "  </thead>\n",
       "  <tbody>\n",
       "    <tr>\n",
       "      <th>2017/03/10</th>\n",
       "      <td>-0.002132</td>\n",
       "      <td>0.011616</td>\n",
       "      <td>-0.430511</td>\n",
       "    </tr>\n",
       "    <tr>\n",
       "      <th>2017/03/09</th>\n",
       "      <td>-0.010996</td>\n",
       "      <td>0.018811</td>\n",
       "      <td>0.530242</td>\n",
       "    </tr>\n",
       "    <tr>\n",
       "      <th>2017/03/08</th>\n",
       "      <td>-0.007192</td>\n",
       "      <td>0.009129</td>\n",
       "      <td>0.194758</td>\n",
       "    </tr>\n",
       "    <tr>\n",
       "      <th>2017/03/07</th>\n",
       "      <td>-0.001826</td>\n",
       "      <td>0.006033</td>\n",
       "      <td>-0.069293</td>\n",
       "    </tr>\n",
       "    <tr>\n",
       "      <th>2017/03/06</th>\n",
       "      <td>0.004173</td>\n",
       "      <td>0.007901</td>\n",
       "      <td>0.753058</td>\n",
       "    </tr>\n",
       "  </tbody>\n",
       "</table>\n",
       "</div>"
      ],
      "text/plain": [
       "             diff_co   diff_hl    diff_v\n",
       "date                                    \n",
       "2017/03/10 -0.002132  0.011616 -0.430511\n",
       "2017/03/09 -0.010996  0.018811  0.530242\n",
       "2017/03/08 -0.007192  0.009129  0.194758\n",
       "2017/03/07 -0.001826  0.006033 -0.069293\n",
       "2017/03/06  0.004173  0.007901  0.753058"
      ]
     },
     "execution_count": 23,
     "metadata": {},
     "output_type": "execute_result"
    }
   ],
   "source": [
    "# Daily percentage difference between close/open, rel to open  ( diff_co )\n",
    "# Daily percentage difference between high/log, rel to open    ( diff_hl )\n",
    "# Percentage change in volume between days                     ( diff_v  )\n",
    "\n",
    "diffs = sf.generate_differentials( myQuote )\n",
    "diffs.head()"
   ]
  },
  {
   "cell_type": "code",
   "execution_count": 25,
   "metadata": {
    "collapsed": false
   },
   "outputs": [
    {
     "data": {
      "text/html": [
       "<div>\n",
       "<table border=\"1\" class=\"dataframe\">\n",
       "  <thead>\n",
       "    <tr style=\"text-align: right;\">\n",
       "      <th></th>\n",
       "      <th>close_mean_3</th>\n",
       "      <th>close_std_3</th>\n",
       "      <th>close_mean_5</th>\n",
       "      <th>close_std_5</th>\n",
       "      <th>close_mean_10</th>\n",
       "      <th>close_std_10</th>\n",
       "    </tr>\n",
       "    <tr>\n",
       "      <th>date</th>\n",
       "      <th></th>\n",
       "      <th></th>\n",
       "      <th></th>\n",
       "      <th></th>\n",
       "      <th></th>\n",
       "      <th></th>\n",
       "    </tr>\n",
       "  </thead>\n",
       "  <tbody>\n",
       "    <tr>\n",
       "      <th>2017/03/10</th>\n",
       "      <td>178.153333</td>\n",
       "      <td>1.169031</td>\n",
       "      <td>179.062</td>\n",
       "      <td>1.494145</td>\n",
       "      <td>179.706</td>\n",
       "      <td>1.372064</td>\n",
       "    </tr>\n",
       "    <tr>\n",
       "      <th>2017/03/09</th>\n",
       "      <td>179.003333</td>\n",
       "      <td>1.646096</td>\n",
       "      <td>179.506</td>\n",
       "      <td>1.360379</td>\n",
       "      <td>180.058</td>\n",
       "      <td>1.286138</td>\n",
       "    </tr>\n",
       "    <tr>\n",
       "      <th>2017/03/08</th>\n",
       "      <td>180.100000</td>\n",
       "      <td>0.564712</td>\n",
       "      <td>180.176</td>\n",
       "      <td>0.446184</td>\n",
       "      <td>180.505</td>\n",
       "      <td>0.890746</td>\n",
       "    </tr>\n",
       "    <tr>\n",
       "      <th>2017/03/07</th>\n",
       "      <td>180.300000</td>\n",
       "      <td>0.221133</td>\n",
       "      <td>180.676</td>\n",
       "      <td>0.735921</td>\n",
       "      <td>180.675</td>\n",
       "      <td>0.826966</td>\n",
       "    </tr>\n",
       "    <tr>\n",
       "      <th>2017/03/06</th>\n",
       "      <td>180.350000</td>\n",
       "      <td>0.261534</td>\n",
       "      <td>180.564</td>\n",
       "      <td>0.828963</td>\n",
       "      <td>180.663</td>\n",
       "      <td>0.832574</td>\n",
       "    </tr>\n",
       "  </tbody>\n",
       "</table>\n",
       "</div>"
      ],
      "text/plain": [
       "            close_mean_3  close_std_3  close_mean_5  close_std_5  \\\n",
       "date                                                               \n",
       "2017/03/10    178.153333     1.169031       179.062     1.494145   \n",
       "2017/03/09    179.003333     1.646096       179.506     1.360379   \n",
       "2017/03/08    180.100000     0.564712       180.176     0.446184   \n",
       "2017/03/07    180.300000     0.221133       180.676     0.735921   \n",
       "2017/03/06    180.350000     0.261534       180.564     0.828963   \n",
       "\n",
       "            close_mean_10  close_std_10  \n",
       "date                                     \n",
       "2017/03/10        179.706      1.372064  \n",
       "2017/03/09        180.058      1.286138  \n",
       "2017/03/08        180.505      0.890746  \n",
       "2017/03/07        180.675      0.826966  \n",
       "2017/03/06        180.663      0.832574  "
      ]
     },
     "execution_count": 25,
     "metadata": {},
     "output_type": "execute_result"
    }
   ],
   "source": [
    "# Rolling means   of closing values for number of days ( close_mean_<n_days> )\n",
    "# Rolling stddevs of closing values for number of days ( close_std_<n_days>  )\n",
    "\n",
    "rolls = sf.generate_rolling_close( myQuote, [ 3, 5, 10 ] )\n",
    "rolls.head()"
   ]
  },
  {
   "cell_type": "code",
   "execution_count": 26,
   "metadata": {
    "collapsed": false
   },
   "outputs": [
    {
     "data": {
      "text/html": [
       "<div>\n",
       "<table border=\"1\" class=\"dataframe\">\n",
       "  <thead>\n",
       "    <tr style=\"text-align: right;\">\n",
       "      <th></th>\n",
       "      <th>momentum_3</th>\n",
       "      <th>momentum_5</th>\n",
       "      <th>momentum_10</th>\n",
       "    </tr>\n",
       "    <tr>\n",
       "      <th>date</th>\n",
       "      <th></th>\n",
       "      <th></th>\n",
       "      <th></th>\n",
       "    </tr>\n",
       "  </thead>\n",
       "  <tbody>\n",
       "    <tr>\n",
       "      <th>2017/03/10</th>\n",
       "      <td>-0.014137</td>\n",
       "      <td>-0.012330</td>\n",
       "      <td>-0.019410</td>\n",
       "    </tr>\n",
       "    <tr>\n",
       "      <th>2017/03/09</th>\n",
       "      <td>-0.018230</td>\n",
       "      <td>-0.018556</td>\n",
       "      <td>-0.024608</td>\n",
       "    </tr>\n",
       "    <tr>\n",
       "      <th>2017/03/08</th>\n",
       "      <td>-0.003332</td>\n",
       "      <td>-0.013740</td>\n",
       "      <td>-0.009384</td>\n",
       "    </tr>\n",
       "    <tr>\n",
       "      <th>2017/03/07</th>\n",
       "      <td>-0.000831</td>\n",
       "      <td>0.003114</td>\n",
       "      <td>0.000666</td>\n",
       "    </tr>\n",
       "    <tr>\n",
       "      <th>2017/03/06</th>\n",
       "      <td>-0.008134</td>\n",
       "      <td>0.005964</td>\n",
       "      <td>-0.001107</td>\n",
       "    </tr>\n",
       "  </tbody>\n",
       "</table>\n",
       "</div>"
      ],
      "text/plain": [
       "            momentum_3  momentum_5  momentum_10\n",
       "date                                           \n",
       "2017/03/10   -0.014137   -0.012330    -0.019410\n",
       "2017/03/09   -0.018230   -0.018556    -0.024608\n",
       "2017/03/08   -0.003332   -0.013740    -0.009384\n",
       "2017/03/07   -0.000831    0.003114     0.000666\n",
       "2017/03/06   -0.008134    0.005964    -0.001107"
      ]
     },
     "execution_count": 26,
     "metadata": {},
     "output_type": "execute_result"
    }
   ],
   "source": [
    "# Percentage change in the stock price relative to a certain number of days in the past ( momentum_<n_days> )\n",
    "\n",
    "moms = sf.generate_momentum_close( myQuote, [3,5,10] )\n",
    "moms.head()"
   ]
  },
  {
   "cell_type": "code",
   "execution_count": 80,
   "metadata": {
    "collapsed": false
   },
   "outputs": [
    {
     "data": {
      "text/html": [
       "<div>\n",
       "<table border=\"1\" class=\"dataframe\">\n",
       "  <thead>\n",
       "    <tr style=\"text-align: right;\">\n",
       "      <th></th>\n",
       "      <th>rsi_10</th>\n",
       "      <th>rsi_20</th>\n",
       "      <th>rsi_30</th>\n",
       "    </tr>\n",
       "    <tr>\n",
       "      <th>date</th>\n",
       "      <th></th>\n",
       "      <th></th>\n",
       "      <th></th>\n",
       "    </tr>\n",
       "  </thead>\n",
       "  <tbody>\n",
       "    <tr>\n",
       "      <th>2017/03/10</th>\n",
       "      <td>0.336431</td>\n",
       "      <td>0.516903</td>\n",
       "      <td>0.486263</td>\n",
       "    </tr>\n",
       "    <tr>\n",
       "      <th>2017/03/09</th>\n",
       "      <td>0.285303</td>\n",
       "      <td>0.526962</td>\n",
       "      <td>0.481457</td>\n",
       "    </tr>\n",
       "    <tr>\n",
       "      <th>2017/03/08</th>\n",
       "      <td>0.401620</td>\n",
       "      <td>0.526400</td>\n",
       "      <td>0.559068</td>\n",
       "    </tr>\n",
       "    <tr>\n",
       "      <th>2017/03/07</th>\n",
       "      <td>0.506977</td>\n",
       "      <td>0.610676</td>\n",
       "      <td>0.637540</td>\n",
       "    </tr>\n",
       "    <tr>\n",
       "      <th>2017/03/06</th>\n",
       "      <td>0.488789</td>\n",
       "      <td>0.614138</td>\n",
       "      <td>0.644270</td>\n",
       "    </tr>\n",
       "  </tbody>\n",
       "</table>\n",
       "</div>"
      ],
      "text/plain": [
       "              rsi_10    rsi_20    rsi_30\n",
       "date                                    \n",
       "2017/03/10  0.336431  0.516903  0.486263\n",
       "2017/03/09  0.285303  0.526962  0.481457\n",
       "2017/03/08  0.401620  0.526400  0.559068\n",
       "2017/03/07  0.506977  0.610676  0.637540\n",
       "2017/03/06  0.488789  0.614138  0.644270"
      ]
     },
     "execution_count": 80,
     "metadata": {},
     "output_type": "execute_result"
    }
   ],
   "source": [
    "# Relative strength index normalized to 1, 1-1/(1+avg_gains_ndays/avg_loss_ndays)  (rsi_<n_days>)\n",
    "# Oversold below ~30, overbought above ~70, buy low\n",
    "\n",
    "rsi = sf.generate_rsi( myQuote, [10,20,30] )\n",
    "rsi.head()"
   ]
  },
  {
   "cell_type": "code",
   "execution_count": 91,
   "metadata": {
    "collapsed": false
   },
   "outputs": [
    {
     "data": {
      "text/html": [
       "<div>\n",
       "<table border=\"1\" class=\"dataframe\">\n",
       "  <thead>\n",
       "    <tr style=\"text-align: right;\">\n",
       "      <th></th>\n",
       "      <th>bollinger_5</th>\n",
       "      <th>bollinger_10</th>\n",
       "    </tr>\n",
       "    <tr>\n",
       "      <th>date</th>\n",
       "      <th></th>\n",
       "      <th></th>\n",
       "    </tr>\n",
       "  </thead>\n",
       "  <tbody>\n",
       "    <tr>\n",
       "      <th>2017/03/10</th>\n",
       "      <td>0.293862</td>\n",
       "      <td>0.158179</td>\n",
       "    </tr>\n",
       "    <tr>\n",
       "      <th>2017/03/09</th>\n",
       "      <td>0.072545</td>\n",
       "      <td>-0.059427</td>\n",
       "    </tr>\n",
       "    <tr>\n",
       "      <th>2017/03/08</th>\n",
       "      <td>0.093217</td>\n",
       "      <td>0.203900</td>\n",
       "    </tr>\n",
       "    <tr>\n",
       "      <th>2017/03/07</th>\n",
       "      <td>0.399446</td>\n",
       "      <td>0.410819</td>\n",
       "    </tr>\n",
       "    <tr>\n",
       "      <th>2017/03/06</th>\n",
       "      <td>0.471651</td>\n",
       "      <td>0.442047</td>\n",
       "    </tr>\n",
       "  </tbody>\n",
       "</table>\n",
       "</div>"
      ],
      "text/plain": [
       "            bollinger_5  bollinger_10\n",
       "date                                 \n",
       "2017/03/10     0.293862      0.158179\n",
       "2017/03/09     0.072545     -0.059427\n",
       "2017/03/08     0.093217      0.203900\n",
       "2017/03/07     0.399446      0.410819\n",
       "2017/03/06     0.471651      0.442047"
      ]
     },
     "execution_count": 91,
     "metadata": {},
     "output_type": "execute_result"
    }
   ],
   "source": [
    "bands = sf.generate_bollinger_bands( myQuote, [5,10] )\n",
    "bands.head()"
   ]
  },
  {
   "cell_type": "code",
   "execution_count": null,
   "metadata": {
    "collapsed": true
   },
   "outputs": [],
   "source": []
  },
  {
   "cell_type": "code",
   "execution_count": null,
   "metadata": {
    "collapsed": true
   },
   "outputs": [],
   "source": []
  },
  {
   "cell_type": "code",
   "execution_count": 6,
   "metadata": {
    "collapsed": true
   },
   "outputs": [],
   "source": [
    "num1,num2,num3,num4,num5 = 3, 5, 10, 15, 20\n",
    "num_list = [ num1, num2, num3, num4, num5 ]"
   ]
  },
  {
   "cell_type": "code",
   "execution_count": 33,
   "metadata": {
    "collapsed": true
   },
   "outputs": [],
   "source": [
    "for num in num_list:\n",
    "    foo['avg_close_'+str(num)] = tf.calcRunAvg( foo, 'close', num )"
   ]
  },
  {
   "cell_type": "code",
   "execution_count": null,
   "metadata": {
    "collapsed": true
   },
   "outputs": [],
   "source": []
  },
  {
   "cell_type": "code",
   "execution_count": 36,
   "metadata": {
    "collapsed": false
   },
   "outputs": [],
   "source": [
    "%matplotlib inline\n",
    "plt.style.use('dark_background')\n",
    "plt.rcParams['figure.figsize'] = (14, 10)"
   ]
  },
  {
   "cell_type": "code",
   "execution_count": 39,
   "metadata": {
    "collapsed": false
   },
   "outputs": [
    {
     "name": "stdout",
     "output_type": "stream",
     "text": [
      "Using matplotlib backend: Qt4Agg\n"
     ]
    }
   ],
   "source": [
    "%matplotlib"
   ]
  },
  {
   "cell_type": "code",
   "execution_count": 41,
   "metadata": {
    "collapsed": false
   },
   "outputs": [],
   "source": [
    "f  = plt.figure()\n",
    "ax1 = f.add_subplot(211)\n",
    "\n",
    "x  = np.arange( foo.shape[0], 0, -1 )\n",
    "y1 = foo['close'].values\n",
    "y2 = foo['avg_close_'+str(num1)].values\n",
    "y3 = foo['avg_close_'+str(num2)].values\n",
    "y4 = foo['avg_close_'+str(num3)].values\n",
    "y5 = foo['avg_close_'+str(num4)].values\n",
    "y6 = foo['avg_close_'+str(num5)].values\n",
    "\n",
    "ax1.plot( x         , y1 , color = 'w' , linestyle='-', label='Close' )\n",
    "ax1.plot( x-num1/2. , y2 , color = 'r' , linestyle='-', label='Avg %2i days'%num1 )\n",
    "ax1.plot( x-num2/2. , y3 , color = 'b' , linestyle='-', label='Avg %2i days'%num2 )\n",
    "ax1.plot( x-num3/2. , y4 , color = 'g' , linestyle='-', label='Avg %2i days'%num3 )\n",
    "ax1.plot( x-num4/2. , y5 , color = 'c' , linestyle='-', label='Avg %2i days'%num4 )\n",
    "ax1.plot( x-num5/2. , y6 , color = 'y' , linestyle='-', label='Avg %2i days'%num5 )\n",
    "\n",
    "plt.legend( loc=4 )\n",
    "\n",
    "\n",
    "ax2 = f.add_subplot(212,sharex=ax1)\n",
    "#ax.plot( x                 , y1        /y1                 , color = 'w' , linestyle='-' )\n",
    "ax2.plot( x[num1/2:-num1/2] , y2[:-num1]-y1[num1/2:-num1/2] , color = 'r' , linestyle='-' )\n",
    "ax2.plot( x[num2/2:-num2/2] , y3[:-num2]-y1[num2/2:-num2/2] , color = 'b' , linestyle='-' )\n",
    "ax2.plot( x[num3/2:-num3/2] , y4[:-num3]-y1[num3/2:-num3/2] , color = 'g' , linestyle='-' )\n",
    "ax2.plot( x[num4/2:-num4/2] , y5[:-num4]-y1[num4/2:-num4/2] , color = 'c' , linestyle='-' )\n",
    "ax2.plot( x[num5/2:-num5/2] , y6[:-num5]-y1[num5/2:-num5/2] , color = 'y' , linestyle='-' )\n",
    "\n",
    "\n",
    "plt.show()\n",
    "#plt.close()"
   ]
  },
  {
   "cell_type": "code",
   "execution_count": null,
   "metadata": {
    "collapsed": true
   },
   "outputs": [],
   "source": []
  },
  {
   "cell_type": "code",
   "execution_count": 95,
   "metadata": {
    "collapsed": true
   },
   "outputs": [],
   "source": [
    "# Covariance of all variables\n",
    "# Break into chunks of ___ days, so average isn't skewed to general trend of rise in the market\n",
    "# ^ Can use metrics to determine slumps, shooting up, constant growth, volatile\n",
    "# Divide out running average, then generate covariance\n",
    "# Gen covariance between days\n",
    "# Plot trends over time\n",
    "# Test differrent time varying models"
   ]
  }
 ],
 "metadata": {
  "kernelspec": {
   "display_name": "Python 2",
   "language": "python",
   "name": "python2"
  },
  "language_info": {
   "codemirror_mode": {
    "name": "ipython",
    "version": 2
   },
   "file_extension": ".py",
   "mimetype": "text/x-python",
   "name": "python",
   "nbconvert_exporter": "python",
   "pygments_lexer": "ipython2",
   "version": "2.7.13"
  }
 },
 "nbformat": 4,
 "nbformat_minor": 2
}
